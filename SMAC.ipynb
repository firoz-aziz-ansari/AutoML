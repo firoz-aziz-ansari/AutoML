{
  "nbformat": 4,
  "nbformat_minor": 0,
  "metadata": {
    "colab": {
      "name": "Hello, Colaboratory",
      "version": "0.3.2",
      "provenance": [],
      "collapsed_sections": [],
      "toc_visible": true,
      "include_colab_link": true
    },
    "kernelspec": {
      "display_name": "Python 3",
      "name": "python3"
    }
  },
  "cells": [
    {
      "cell_type": "markdown",
      "metadata": {
        "id": "view-in-github",
        "colab_type": "text"
      },
      "source": [
        "[View in Colaboratory](https://colab.research.google.com/github/thundercat95/AutoML/blob/master/SMAC.ipynb)"
      ]
    },
    {
      "metadata": {
        "id": "u2pTL_iNfYBf",
        "colab_type": "text"
      },
      "cell_type": "markdown",
      "source": [
        "# SMAC on Python3"
      ]
    },
    {
      "metadata": {
        "id": "iz9G0L3Jfg6-",
        "colab_type": "text"
      },
      "cell_type": "markdown",
      "source": [
        "### SVM with SMAC on iris data"
      ]
    },
    {
      "metadata": {
        "id": "SB6qwk3RffVG",
        "colab_type": "code",
        "colab": {}
      },
      "cell_type": "code",
      "source": [
        "import numpy as np\n",
        "from sklearn import svm, datasets\n",
        "from sklearn.model_selection import train_test_split\n",
        "from sklearn.model_selection import cross_val_score\n",
        "from sklearn import metrics\n",
        "import openml as oml\n",
        "apikey = '2f6c58f4f6d62ea93dd32764ec88089c'\n",
        "openml.config.apikey = apikey\n",
        "\n",
        "# Import ConfigSpace and different types of parameters\n",
        "from smac.configspace import ConfigurationSpace\n",
        "from ConfigSpace.hyperparameters import CategoricalHyperparameter, UniformFloatHyperparameter, UniformIntegerHyperparameter\n",
        "from ConfigSpace.conditions import InCondition\n",
        "\n",
        "# Import SMAC-utilities\n",
        "from smac.tae.execute_func import ExecuteTAFuncDict\n",
        "from smac.scenario.scenario import Scenario\n",
        "from smac.facade.smac_facade import SMAC"
      ],
      "execution_count": 0,
      "outputs": []
    },
    {
      "metadata": {
        "id": "symnUfFpl1f9",
        "colab_type": "code",
        "colab": {}
      },
      "cell_type": "code",
      "source": [
        "# We load the iris-dataset\n",
        "iris = datasets.load_iris()\n",
        "\n",
        "# We load Credit Card dataset\n",
        "creditcard = oml.datasets.get_dataset(1597)"
      ],
      "execution_count": 0,
      "outputs": []
    },
    {
      "metadata": {
        "id": "6GvUKQPvktyi",
        "colab_type": "code",
        "colab": {}
      },
      "cell_type": "code",
      "source": [
        "# Build Configuration Space which defines all parameters and their ranges\n",
        "cs = ConfigurationSpace()"
      ],
      "execution_count": 0,
      "outputs": []
    },
    {
      "metadata": {
        "id": "BnsOR_qJkyr4",
        "colab_type": "code",
        "colab": {
          "base_uri": "https://localhost:8080/",
          "height": 34
        },
        "outputId": "b442e1da-dd31-493f-9a27-a9c2ef96820e"
      },
      "cell_type": "code",
      "source": [
        "# We define a few possible types of SVM-kernels and add them as \"kernel\" to our cs\n",
        "kernel = CategoricalHyperparameter(\"kernel\", [\"linear\", \"rbf\", \"poly\", \"sigmoid\"], default_value=\"poly\")\n",
        "cs.add_hyperparameter(kernel)"
      ],
      "execution_count": 65,
      "outputs": [
        {
          "output_type": "execute_result",
          "data": {
            "text/plain": [
              "kernel, Type: Categorical, Choices: {linear, rbf, poly, sigmoid}, Default: poly"
            ]
          },
          "metadata": {
            "tags": []
          },
          "execution_count": 65
        }
      ]
    },
    {
      "metadata": {
        "id": "pM-RRL0NkzNx",
        "colab_type": "code",
        "colab": {
          "base_uri": "https://localhost:8080/",
          "height": 51
        },
        "outputId": "62c90bac-7cba-4c37-e655-66e9b754b7f5"
      },
      "cell_type": "code",
      "source": [
        "# There are some hyperparameters shared by all kernels\n",
        "C = UniformFloatHyperparameter(\"C\", 0.001, 1000.0, default_value=1.0)\n",
        "shrinking = CategoricalHyperparameter(\"shrinking\", [\"true\", \"false\"], default_value=\"true\")\n",
        "cs.add_hyperparameters([C, shrinking])"
      ],
      "execution_count": 66,
      "outputs": [
        {
          "output_type": "execute_result",
          "data": {
            "text/plain": [
              "[C, Type: UniformFloat, Range: [0.001, 1000.0], Default: 1.0,\n",
              " shrinking, Type: Categorical, Choices: {true, false}, Default: true]"
            ]
          },
          "metadata": {
            "tags": []
          },
          "execution_count": 66
        }
      ]
    },
    {
      "metadata": {
        "id": "t4itWp5YkzQ9",
        "colab_type": "code",
        "colab": {
          "base_uri": "https://localhost:8080/",
          "height": 34
        },
        "outputId": "2d898db4-9f99-4787-d526-d4bcc4f122e8"
      },
      "cell_type": "code",
      "source": [
        "# Others are kernel-specific, so we can add conditions to limit the searchspace\n",
        "degree = UniformIntegerHyperparameter(\"degree\", 1, 5, default_value=3)     # Only used by kernel poly\n",
        "coef0 = UniformFloatHyperparameter(\"coef0\", 0.0, 10.0, default_value=0.0)  # poly, sigmoid\n",
        "cs.add_hyperparameters([degree, coef0])\n",
        "use_degree = InCondition(child=degree, parent=kernel, values=[\"poly\"])\n",
        "use_coef0 = InCondition(child=coef0, parent=kernel, values=[\"poly\", \"sigmoid\"])\n",
        "cs.add_conditions([use_degree, use_coef0])"
      ],
      "execution_count": 67,
      "outputs": [
        {
          "output_type": "execute_result",
          "data": {
            "text/plain": [
              "[degree | kernel in {'poly'}, coef0 | kernel in {'poly', 'sigmoid'}]"
            ]
          },
          "metadata": {
            "tags": []
          },
          "execution_count": 67
        }
      ]
    },
    {
      "metadata": {
        "id": "5pJDcYtfkzTw",
        "colab_type": "code",
        "colab": {
          "base_uri": "https://localhost:8080/",
          "height": 51
        },
        "outputId": "1ea02201-a343-4134-902d-45fa00ce1e8e"
      },
      "cell_type": "code",
      "source": [
        "# This also works for parameters that are a mix of categorical and values from a range of numbers\n",
        "# For example, gamma can be either \"auto\" or a fixed float\n",
        "gamma = CategoricalHyperparameter(\"gamma\", [\"auto\", \"value\"], default_value=\"auto\")  # only rbf, poly, sigmoid\n",
        "gamma_value = UniformFloatHyperparameter(\"gamma_value\", 0.0001, 8, default_value=1)\n",
        "cs.add_hyperparameters([gamma, gamma_value])"
      ],
      "execution_count": 68,
      "outputs": [
        {
          "output_type": "execute_result",
          "data": {
            "text/plain": [
              "[gamma, Type: Categorical, Choices: {auto, value}, Default: auto,\n",
              " gamma_value, Type: UniformFloat, Range: [0.0001, 8.0], Default: 1.0]"
            ]
          },
          "metadata": {
            "tags": []
          },
          "execution_count": 68
        }
      ]
    },
    {
      "metadata": {
        "id": "4H-zjTUBkzWt",
        "colab_type": "code",
        "colab": {
          "base_uri": "https://localhost:8080/",
          "height": 34
        },
        "outputId": "b5217d5f-f1cd-49b2-961f-6c150bf2fba7"
      },
      "cell_type": "code",
      "source": [
        "# We only activate gamma_value if gamma is set to \"value\"\n",
        "cs.add_condition(InCondition(child=gamma_value, parent=gamma, values=[\"value\"]))\n",
        "# And again we can restrict the use of gamma in general to the choice of the kernel\n",
        "cs.add_condition(InCondition(child=gamma, parent=kernel, values=[\"rbf\", \"poly\", \"sigmoid\"]))"
      ],
      "execution_count": 69,
      "outputs": [
        {
          "output_type": "execute_result",
          "data": {
            "text/plain": [
              "gamma | kernel in {'rbf', 'poly', 'sigmoid'}"
            ]
          },
          "metadata": {
            "tags": []
          },
          "execution_count": 69
        }
      ]
    },
    {
      "metadata": {
        "id": "taWxxN6tlFU7",
        "colab_type": "code",
        "colab": {}
      },
      "cell_type": "code",
      "source": [
        "def svm_from_cfg(cfg):\n",
        "    \"\"\" Creates a SVM based on a configuration and evaluates it on the\n",
        "    iris-dataset using cross-validation.\n",
        "\n",
        "    Parameters:\n",
        "    -----------\n",
        "    cfg: Configuration (ConfigSpace.ConfigurationSpace.Configuration)\n",
        "        Configuration containing the parameters.\n",
        "        Configurations are indexable!\n",
        "\n",
        "    Returns:\n",
        "    --------\n",
        "    A crossvalidated mean score for the svm on the loaded data-set.\n",
        "    \"\"\"\n",
        "    # For deactivated parameters, the configuration stores None-values.\n",
        "    # This is not accepted by the SVM, so we remove them.\n",
        "    cfg = {k : cfg[k] for k in cfg if cfg[k]}\n",
        "    # We translate boolean values:\n",
        "    cfg[\"shrinking\"] = True if cfg[\"shrinking\"] == \"true\" else False\n",
        "    # And for gamma, we set it to a fixed value or to \"auto\" (if used)\n",
        "    if \"gamma\" in cfg:\n",
        "        cfg[\"gamma\"] = cfg[\"gamma_value\"] if cfg[\"gamma\"] == \"value\" else \"auto\"\n",
        "        cfg.pop(\"gamma_value\", None)  # Remove \"gamma_value\"\n",
        "\n",
        "    clf = svm.SVC(**cfg, random_state=42)\n",
        "\n",
        "    scores = cross_val_score(clf, iris.data, iris.target, cv=5)\n",
        "    return 1-np.mean(scores)  # Minimize!"
      ],
      "execution_count": 0,
      "outputs": []
    },
    {
      "metadata": {
        "id": "U3gWAVPmlFXh",
        "colab_type": "code",
        "colab": {}
      },
      "cell_type": "code",
      "source": [
        "# Scenario object\n",
        "scenario = Scenario({\"run_obj\": \"quality\",   # we optimize quality (alternatively runtime)\n",
        "                     \"runcount-limit\": 200,  # maximum function evaluations\n",
        "                     \"cs\": cs,               # configuration space\n",
        "                     \"deterministic\": \"true\"\n",
        "                     })"
      ],
      "execution_count": 0,
      "outputs": []
    },
    {
      "metadata": {
        "id": "b0t4xG1nlFZ5",
        "colab_type": "code",
        "colab": {
          "base_uri": "https://localhost:8080/",
          "height": 1050
        },
        "outputId": "4628da2c-2e93-4655-e8ea-5a90315e6499"
      },
      "cell_type": "code",
      "source": [
        "# Optimize, using a SMAC-object\n",
        "print(\"Optimizing! Depending on your machine, this might take a few minutes.\")\n",
        "smac = SMAC(scenario=scenario, rng=np.random.RandomState(42),\n",
        "        tae_runner=svm_from_cfg)\n",
        "incumbent = smac.optimize()\n",
        "inc_value = svm_from_cfg(incumbent)\n",
        "print(\"Optimized Value: %.2f\" % (inc_value))\n",
        "print(\"Best parameter : \", incumbent.get_dictionary())\n"
      ],
      "execution_count": 92,
      "outputs": [
        {
          "output_type": "stream",
          "text": [
            "Optimizing! Depending on your machine, this might take a few minutes.\n"
          ],
          "name": "stdout"
        },
        {
          "output_type": "stream",
          "text": [
            "Process pynisher function call:\n",
            "Traceback (most recent call last):\n",
            "  File \"/usr/lib/python3.6/multiprocessing/process.py\", line 258, in _bootstrap\n",
            "    self.run()\n",
            "  File \"/usr/lib/python3.6/multiprocessing/process.py\", line 93, in run\n",
            "    self._target(*self._args, **self._kwargs)\n",
            "  File \"/usr/local/lib/python3.6/dist-packages/pynisher/limit_function_call.py\", line 93, in subprocess_func\n",
            "    return_value = ((func(*args, **kwargs), 0))\n",
            "  File \"<ipython-input-90-7f7b79a899fe>\", line 25, in svm_from_cfg\n",
            "    X_train, X_test, y_train, y_test = train_test_split(iris.data, iris.target, random_state=42)\n",
            "NameError: name 'train_test_split' is not defined\n"
          ],
          "name": "stderr"
        },
        {
          "output_type": "error",
          "ename": "FirstRunCrashedException",
          "evalue": "ignored",
          "traceback": [
            "\u001b[0;31m---------------------------------------------------------------------------\u001b[0m",
            "\u001b[0;31mFirstRunCrashedException\u001b[0m                  Traceback (most recent call last)",
            "\u001b[0;32m<ipython-input-92-59a6ad0a0b18>\u001b[0m in \u001b[0;36m<module>\u001b[0;34m()\u001b[0m\n\u001b[1;32m      2\u001b[0m smac = SMAC(scenario=scenario, rng=np.random.RandomState(42),\n\u001b[1;32m      3\u001b[0m         tae_runner=svm_from_cfg)\n\u001b[0;32m----> 4\u001b[0;31m \u001b[0mincumbent\u001b[0m \u001b[0;34m=\u001b[0m \u001b[0msmac\u001b[0m\u001b[0;34m.\u001b[0m\u001b[0moptimize\u001b[0m\u001b[0;34m(\u001b[0m\u001b[0;34m)\u001b[0m\u001b[0;34m\u001b[0m\u001b[0m\n\u001b[0m\u001b[1;32m      5\u001b[0m \u001b[0minc_value\u001b[0m \u001b[0;34m=\u001b[0m \u001b[0msvm_from_cfg\u001b[0m\u001b[0;34m(\u001b[0m\u001b[0mincumbent\u001b[0m\u001b[0;34m)\u001b[0m\u001b[0;34m\u001b[0m\u001b[0m\n\u001b[1;32m      6\u001b[0m \u001b[0mprint\u001b[0m\u001b[0;34m(\u001b[0m\u001b[0;34m\"Optimized Value: %.2f\"\u001b[0m \u001b[0;34m%\u001b[0m \u001b[0;34m(\u001b[0m\u001b[0minc_value\u001b[0m\u001b[0;34m)\u001b[0m\u001b[0;34m)\u001b[0m\u001b[0;34m\u001b[0m\u001b[0m\n",
            "\u001b[0;32m/usr/local/lib/python3.6/dist-packages/smac/facade/smac_facade.py\u001b[0m in \u001b[0;36moptimize\u001b[0;34m(self)\u001b[0m\n\u001b[1;32m    398\u001b[0m         \u001b[0mincumbent\u001b[0m \u001b[0;34m=\u001b[0m \u001b[0;32mNone\u001b[0m\u001b[0;34m\u001b[0m\u001b[0m\n\u001b[1;32m    399\u001b[0m         \u001b[0;32mtry\u001b[0m\u001b[0;34m:\u001b[0m\u001b[0;34m\u001b[0m\u001b[0m\n\u001b[0;32m--> 400\u001b[0;31m             \u001b[0mincumbent\u001b[0m \u001b[0;34m=\u001b[0m \u001b[0mself\u001b[0m\u001b[0;34m.\u001b[0m\u001b[0msolver\u001b[0m\u001b[0;34m.\u001b[0m\u001b[0mrun\u001b[0m\u001b[0;34m(\u001b[0m\u001b[0;34m)\u001b[0m\u001b[0;34m\u001b[0m\u001b[0m\n\u001b[0m\u001b[1;32m    401\u001b[0m         \u001b[0;32mfinally\u001b[0m\u001b[0;34m:\u001b[0m\u001b[0;34m\u001b[0m\u001b[0m\n\u001b[1;32m    402\u001b[0m             \u001b[0mself\u001b[0m\u001b[0;34m.\u001b[0m\u001b[0msolver\u001b[0m\u001b[0;34m.\u001b[0m\u001b[0mstats\u001b[0m\u001b[0;34m.\u001b[0m\u001b[0msave\u001b[0m\u001b[0;34m(\u001b[0m\u001b[0;34m)\u001b[0m\u001b[0;34m\u001b[0m\u001b[0m\n",
            "\u001b[0;32m/usr/local/lib/python3.6/dist-packages/smac/optimizer/smbo.py\u001b[0m in \u001b[0;36mrun\u001b[0;34m(self)\u001b[0m\n\u001b[1;32m    163\u001b[0m             \u001b[0mThe\u001b[0m \u001b[0mbest\u001b[0m \u001b[0mfound\u001b[0m \u001b[0mconfiguration\u001b[0m\u001b[0;34m\u001b[0m\u001b[0m\n\u001b[1;32m    164\u001b[0m         \"\"\"\n\u001b[0;32m--> 165\u001b[0;31m         \u001b[0mself\u001b[0m\u001b[0;34m.\u001b[0m\u001b[0mstart\u001b[0m\u001b[0;34m(\u001b[0m\u001b[0;34m)\u001b[0m\u001b[0;34m\u001b[0m\u001b[0m\n\u001b[0m\u001b[1;32m    166\u001b[0m \u001b[0;34m\u001b[0m\u001b[0m\n\u001b[1;32m    167\u001b[0m         \u001b[0;31m# Main BO loop\u001b[0m\u001b[0;34m\u001b[0m\u001b[0;34m\u001b[0m\u001b[0m\n",
            "\u001b[0;32m/usr/local/lib/python3.6/dist-packages/smac/optimizer/smbo.py\u001b[0m in \u001b[0;36mstart\u001b[0;34m(self)\u001b[0m\n\u001b[1;32m    136\u001b[0m         \u001b[0;32mif\u001b[0m \u001b[0mself\u001b[0m\u001b[0;34m.\u001b[0m\u001b[0mstats\u001b[0m\u001b[0;34m.\u001b[0m\u001b[0mta_runs\u001b[0m \u001b[0;34m==\u001b[0m \u001b[0;36m0\u001b[0m \u001b[0;32mand\u001b[0m \u001b[0mself\u001b[0m\u001b[0;34m.\u001b[0m\u001b[0mincumbent\u001b[0m \u001b[0;32mis\u001b[0m \u001b[0;32mNone\u001b[0m\u001b[0;34m:\u001b[0m\u001b[0;34m\u001b[0m\u001b[0m\n\u001b[1;32m    137\u001b[0m             \u001b[0;32mtry\u001b[0m\u001b[0;34m:\u001b[0m\u001b[0;34m\u001b[0m\u001b[0m\n\u001b[0;32m--> 138\u001b[0;31m                 \u001b[0mself\u001b[0m\u001b[0;34m.\u001b[0m\u001b[0mincumbent\u001b[0m \u001b[0;34m=\u001b[0m \u001b[0mself\u001b[0m\u001b[0;34m.\u001b[0m\u001b[0minitial_design\u001b[0m\u001b[0;34m.\u001b[0m\u001b[0mrun\u001b[0m\u001b[0;34m(\u001b[0m\u001b[0;34m)\u001b[0m\u001b[0;34m\u001b[0m\u001b[0m\n\u001b[0m\u001b[1;32m    139\u001b[0m             \u001b[0;32mexcept\u001b[0m \u001b[0mFirstRunCrashedException\u001b[0m \u001b[0;32mas\u001b[0m \u001b[0merr\u001b[0m\u001b[0;34m:\u001b[0m\u001b[0;34m\u001b[0m\u001b[0m\n\u001b[1;32m    140\u001b[0m                 \u001b[0;32mif\u001b[0m \u001b[0mself\u001b[0m\u001b[0;34m.\u001b[0m\u001b[0mscenario\u001b[0m\u001b[0;34m.\u001b[0m\u001b[0mabort_on_first_run_crash\u001b[0m\u001b[0;34m:\u001b[0m\u001b[0;34m\u001b[0m\u001b[0m\n",
            "\u001b[0;32m/usr/local/lib/python3.6/dist-packages/smac/initial_design/single_config_initial_design.py\u001b[0m in \u001b[0;36mrun\u001b[0;34m(self)\u001b[0m\n\u001b[1;32m     84\u001b[0m                 \u001b[0mseed\u001b[0m\u001b[0;34m=\u001b[0m\u001b[0minitial_seed\u001b[0m\u001b[0;34m,\u001b[0m\u001b[0;34m\u001b[0m\u001b[0m\n\u001b[1;32m     85\u001b[0m                 instance_specific=self.scenario.instance_specific.get(rand_inst,\n\u001b[0;32m---> 86\u001b[0;31m                                                                       \"0\"))\n\u001b[0m\u001b[1;32m     87\u001b[0m         \u001b[0;32mexcept\u001b[0m \u001b[0mFirstRunCrashedException\u001b[0m \u001b[0;32mas\u001b[0m \u001b[0merr\u001b[0m\u001b[0;34m:\u001b[0m\u001b[0;34m\u001b[0m\u001b[0m\n\u001b[1;32m     88\u001b[0m             \u001b[0;32mif\u001b[0m \u001b[0mself\u001b[0m\u001b[0;34m.\u001b[0m\u001b[0mscenario\u001b[0m\u001b[0;34m.\u001b[0m\u001b[0mabort_on_first_run_crash\u001b[0m\u001b[0;34m:\u001b[0m\u001b[0;34m\u001b[0m\u001b[0m\n",
            "\u001b[0;32m/usr/local/lib/python3.6/dist-packages/smac/tae/execute_ta_run.py\u001b[0m in \u001b[0;36mstart\u001b[0;34m(self, config, instance, cutoff, seed, instance_specific, capped)\u001b[0m\n\u001b[1;32m    218\u001b[0m \u001b[0;34m\u001b[0m\u001b[0m\n\u001b[1;32m    219\u001b[0m         \u001b[0;32mif\u001b[0m \u001b[0mself\u001b[0m\u001b[0;34m.\u001b[0m\u001b[0mstats\u001b[0m\u001b[0;34m.\u001b[0m\u001b[0mta_runs\u001b[0m \u001b[0;34m==\u001b[0m \u001b[0;36m1\u001b[0m \u001b[0;32mand\u001b[0m \u001b[0mstatus\u001b[0m \u001b[0;34m==\u001b[0m \u001b[0mStatusType\u001b[0m\u001b[0;34m.\u001b[0m\u001b[0mCRASHED\u001b[0m\u001b[0;34m:\u001b[0m\u001b[0;34m\u001b[0m\u001b[0m\n\u001b[0;32m--> 220\u001b[0;31m             raise FirstRunCrashedException(\"First run crashed, abort. \"\n\u001b[0m\u001b[1;32m    221\u001b[0m                                            \u001b[0;34m\"Please check your setup -- \"\u001b[0m\u001b[0;34m\u001b[0m\u001b[0m\n\u001b[1;32m    222\u001b[0m                                            \u001b[0;34m\"we assume that your default\"\u001b[0m\u001b[0;34m\u001b[0m\u001b[0m\n",
            "\u001b[0;31mFirstRunCrashedException\u001b[0m: First run crashed, abort. Please check your setup -- we assume that your defaultconfiguration does not crashes. (To deactivate this exception, use the SMAC scenario option 'abort_on_first_run_crash')"
          ]
        }
      ]
    },
    {
      "metadata": {
        "id": "_ITIgcaXyFDt",
        "colab_type": "text"
      },
      "cell_type": "markdown",
      "source": [
        "### SVM with SMAC on Credit Card dataset"
      ]
    },
    {
      "metadata": {
        "id": "wYKHzpD9ySci",
        "colab_type": "code",
        "colab": {}
      },
      "cell_type": "code",
      "source": [
        "def svm_from_cfg(cfg):\n",
        "    \"\"\" Creates a SVM based on a configuration and evaluates it on the\n",
        "    iris-dataset using cross-validation.\n",
        "\n",
        "    Parameters:\n",
        "    -----------\n",
        "    cfg: Configuration (ConfigSpace.ConfigurationSpace.Configuration)\n",
        "        Configuration containing the parameters.\n",
        "        Configurations are indexable!\n",
        "\n",
        "    Returns:\n",
        "    --------\n",
        "    A crossvalidated mean score for the svm on the loaded data-set.\n",
        "    \"\"\"\n",
        "    # For deactivated parameters, the configuration stores None-values.\n",
        "    # This is not accepted by the SVM, so we remove them.\n",
        "    cfg = {k : cfg[k] for k in cfg if cfg[k]}\n",
        "    # We translate boolean values:\n",
        "    cfg[\"shrinking\"] = True if cfg[\"shrinking\"] == \"true\" else False\n",
        "    # And for gamma, we set it to a fixed value or to \"auto\" (if used)\n",
        "    if \"gamma\" in cfg:\n",
        "        cfg[\"gamma\"] = cfg[\"gamma_value\"] if cfg[\"gamma\"] == \"value\" else \"auto\"\n",
        "        cfg.pop(\"gamma_value\", None)  # Remove \"gamma_value\"\n",
        "\n",
        "    X_train, X_test, y_train, y_test = train_test_split(iris.data, iris.target, random_state=42)\n",
        "\n",
        "    clf = svm.SVC(**cfg, random_state=42)\n",
        "    clf.fit(X_train,y_train)\n",
        "    y_pred = clf.predict(X_test)\n",
        "    fpr, tpr = metrics.roc_curve(y_test, y_pred)\n",
        "    auc_score = metrics.auc(fpr, tpr)\n",
        "    return 1-auc_score  # Minimize!"
      ],
      "execution_count": 0,
      "outputs": []
    },
    {
      "metadata": {
        "id": "nSD-X_RtAyKd",
        "colab_type": "code",
        "colab": {}
      },
      "cell_type": "code",
      "source": [
        "X, y = creditcard.get_data(target=creditcard.default_target_attribute)\n",
        "X_train, X_test, y_train, y_test = train_test_split(X, y, random_state=42)\n",
        "clf = svm.SVC()\n",
        "clf.fit(X_train,y_train)\n",
        "y_pred = clf.predict(X_test)\n",
        "fpr, tpr = metrics.roc_curve(y_test, y_pred)\n",
        "auc_score = metrics.auc(fpr, tpr)"
      ],
      "execution_count": 0,
      "outputs": []
    },
    {
      "metadata": {
        "id": "KpE_Q3GsEauR",
        "colab_type": "code",
        "colab": {
          "base_uri": "https://localhost:8080/",
          "height": 170
        },
        "outputId": "74b78f35-332b-4b5b-96c2-4e1ea99d55f1"
      },
      "cell_type": "code",
      "source": [
        "!ls"
      ],
      "execution_count": 98,
      "outputs": [
        {
          "output_type": "stream",
          "text": [
            "sample_data\n",
            "smac3-output_2018-09-11_12:19:04_433932\n",
            "smac3-output_2018-09-11_12:19:34_262247\n",
            "smac3-output_2018-09-11_12:22:44_651737\n",
            "smac3-output_2018-09-11_13:38:26_502954\n",
            "smac3-output_2018-09-11_13:39:34_828832\n",
            "smac3-output_2018-09-11_13:40:19_713379\n",
            "smac3-output_2018-09-11_13:42:29_581069\n",
            "smac3-output_2018-09-11_13:42:49_398426\n"
          ],
          "name": "stdout"
        }
      ]
    }
  ]
}