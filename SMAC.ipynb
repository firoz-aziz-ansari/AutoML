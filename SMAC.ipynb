{
  "nbformat": 4,
  "nbformat_minor": 0,
  "metadata": {
    "colab": {
      "name": "Hello, Colaboratory",
      "version": "0.3.2",
      "provenance": [],
      "collapsed_sections": [],
      "toc_visible": true,
      "include_colab_link": true
    },
    "kernelspec": {
      "display_name": "Python 3",
      "name": "python3"
    }
  },
  "cells": [
    {
      "cell_type": "markdown",
      "metadata": {
        "id": "view-in-github",
        "colab_type": "text"
      },
      "source": [
        "[View in Colaboratory](https://colab.research.google.com/github/thundercat95/AutoML/blob/master/SMAC.ipynb)"
      ]
    },
    {
      "metadata": {
        "id": "u2pTL_iNfYBf",
        "colab_type": "text"
      },
      "cell_type": "markdown",
      "source": [
        "# SMAC on Python3"
      ]
    },
    {
      "metadata": {
        "id": "iz9G0L3Jfg6-",
        "colab_type": "text"
      },
      "cell_type": "markdown",
      "source": [
        "### SVM with SMAC"
      ]
    },
    {
      "metadata": {
        "id": "SB6qwk3RffVG",
        "colab_type": "code",
        "colab": {}
      },
      "cell_type": "code",
      "source": [
        ""
      ],
      "execution_count": 0,
      "outputs": []
    }
  ]
}