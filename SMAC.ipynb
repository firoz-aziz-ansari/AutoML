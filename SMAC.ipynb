{
  "nbformat": 4,
  "nbformat_minor": 0,
  "metadata": {
    "colab": {
      "name": "Hello, Colaboratory",
      "version": "0.3.2",
      "provenance": [],
      "collapsed_sections": [],
      "toc_visible": true,
      "include_colab_link": true
    },
    "kernelspec": {
      "display_name": "Python 3",
      "name": "python3"
    },
    "accelerator": "GPU"
  },
  "cells": [
    {
      "cell_type": "markdown",
      "metadata": {
        "id": "view-in-github",
        "colab_type": "text"
      },
      "source": [
        "[View in Colaboratory](https://colab.research.google.com/github/thundercat95/AutoML/blob/master/SMAC.ipynb)"
      ]
    },
    {
      "metadata": {
        "id": "D4tNUtgnmnUR",
        "colab_type": "text"
      },
      "cell_type": "markdown",
      "source": [
        "### Installation and Uploads"
      ]
    },
    {
      "metadata": {
        "id": "KDWbtWSxmqB1",
        "colab_type": "code",
        "colab": {}
      },
      "cell_type": "code",
      "source": [
        "!pip install openml\n",
        "!apt-get install build-essential swig\n",
        "!pip install smac\n",
        "!pip install xgboost"
      ],
      "execution_count": 0,
      "outputs": []
    },
    {
      "metadata": {
        "id": "XEI7e8vk6Rxz",
        "colab_type": "code",
        "colab": {
          "resources": {
            "http://localhost:8080/nbextensions/google.colab/files.js": {
              "data": "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",
              "ok": true,
              "headers": [
                [
                  "content-type",
                  "application/javascript"
                ]
              ],
              "status": 200,
              "status_text": ""
            }
          },
          "base_uri": "https://localhost:8080/",
          "height": 89
        },
        "outputId": "0b5e0a55-0765-46d7-f3ee-00944838236c"
      },
      "cell_type": "code",
      "source": [
        "from google.colab import files\n",
        "\n",
        "uploaded = files.upload()\n",
        "\n",
        "##files.upload returns a dictionary of the files which were uploaded. The \n",
        "##dictionary is keyed by the file name, the value is the data which was \n",
        "##uploaded.\n",
        "\n",
        "for fn in uploaded.keys():\n",
        "  print('User uploaded file \"{name}\" with length {length} bytes'.format(name=fn, length=len(uploaded[fn])))"
      ],
      "execution_count": 0,
      "outputs": [
        {
          "output_type": "display_data",
          "data": {
            "text/html": [
              "\n",
              "     <input type=\"file\" id=\"files-84952702-f1ed-44b7-aef7-b07877af5081\" name=\"files[]\" multiple disabled />\n",
              "     <output id=\"result-84952702-f1ed-44b7-aef7-b07877af5081\">\n",
              "      Upload widget is only available when the cell has been executed in the\n",
              "      current browser session. Please rerun this cell to enable.\n",
              "      </output>\n",
              "      <script src=\"/nbextensions/google.colab/files.js\"></script> "
            ],
            "text/plain": [
              "<IPython.core.display.HTML object>"
            ]
          },
          "metadata": {
            "tags": []
          }
        },
        {
          "output_type": "stream",
          "text": [
            "Saving creditopenml.csv to creditopenml.csv\n",
            "User uploaded file \"creditopenml.csv\" with length 150828752 bytes\n"
          ],
          "name": "stdout"
        }
      ]
    },
    {
      "metadata": {
        "id": "07vFscJxN4kt",
        "colab_type": "text"
      },
      "cell_type": "markdown",
      "source": [
        "### Imports and datasets"
      ]
    },
    {
      "metadata": {
        "id": "t-fChHh_N-9o",
        "colab_type": "code",
        "colab": {}
      },
      "cell_type": "code",
      "source": [
        "import numpy as np\n",
        "import pandas as pd\n",
        "import time\n",
        "from sklearn import svm, datasets\n",
        "from sklearn.model_selection import train_test_split\n",
        "from sklearn.model_selection import cross_val_score\n",
        "from sklearn.linear_model import LogisticRegression\n",
        "from xgboost import XGBClassifier\n",
        "from sklearn.ensemble import ExtraTreesClassifier\n",
        "from sklearn.ensemble import RandomForestClassifier\n",
        "from sklearn import metrics\n",
        "from sklearn.preprocessing import StandardScaler\n",
        "from sklearn.preprocessing import Imputer\n",
        "from sklearn import decomposition\n",
        "import openml as oml\n",
        "apikey = '2f6c58f4f6d62ea93dd32764ec88089c'\n",
        "oml.config.apikey = apikey\n",
        "\n",
        "# Import ConfigSpace and different types of parameters\n",
        "from smac.configspace import ConfigurationSpace\n",
        "from ConfigSpace.hyperparameters import CategoricalHyperparameter, UniformFloatHyperparameter, UniformIntegerHyperparameter\n",
        "from ConfigSpace.conditions import InCondition\n",
        "\n",
        "# Import SMAC-utilities\n",
        "from smac.tae.execute_func import ExecuteTAFuncDict\n",
        "from smac.scenario.scenario import Scenario\n",
        "from smac.facade.smac_facade import SMAC"
      ],
      "execution_count": 0,
      "outputs": []
    },
    {
      "metadata": {
        "id": "2QRPpFLgOCSk",
        "colab_type": "code",
        "colab": {}
      },
      "cell_type": "code",
      "source": [
        "# We load the iris-dataset\n",
        "iris = datasets.load_iris()\n",
        "\n",
        "# We load Credit Card dataset from openml\n",
        "creditcard = oml.datasets.get_dataset(1597)"
      ],
      "execution_count": 0,
      "outputs": []
    },
    {
      "metadata": {
        "id": "iz9G0L3Jfg6-",
        "colab_type": "text"
      },
      "cell_type": "markdown",
      "source": [
        "### SVM with SMAC on iris data"
      ]
    },
    {
      "metadata": {
        "id": "6GvUKQPvktyi",
        "colab_type": "code",
        "colab": {}
      },
      "cell_type": "code",
      "source": [
        "# Build Configuration Space which defines all parameters and their ranges\n",
        "cs = ConfigurationSpace()"
      ],
      "execution_count": 0,
      "outputs": []
    },
    {
      "metadata": {
        "id": "BnsOR_qJkyr4",
        "colab_type": "code",
        "colab": {
          "base_uri": "https://localhost:8080/",
          "height": 34
        },
        "outputId": "5c0e478c-d5d6-4733-d434-24983ba5f74b"
      },
      "cell_type": "code",
      "source": [
        "# We define a few possible types of SVM-kernels and add them as \"kernel\" to our cs\n",
        "kernel = CategoricalHyperparameter(\"kernel\", [\"linear\", \"rbf\", \"poly\", \"sigmoid\"], default_value=\"poly\")\n",
        "cs.add_hyperparameter(kernel)"
      ],
      "execution_count": 0,
      "outputs": [
        {
          "output_type": "execute_result",
          "data": {
            "text/plain": [
              "kernel, Type: Categorical, Choices: {linear, rbf, poly, sigmoid}, Default: poly"
            ]
          },
          "metadata": {
            "tags": []
          },
          "execution_count": 4
        }
      ]
    },
    {
      "metadata": {
        "id": "pM-RRL0NkzNx",
        "colab_type": "code",
        "colab": {
          "base_uri": "https://localhost:8080/",
          "height": 51
        },
        "outputId": "70b43de6-afef-41c7-f1c6-03f02b4d1757"
      },
      "cell_type": "code",
      "source": [
        "# There are some hyperparameters shared by all kernels\n",
        "C = UniformFloatHyperparameter(\"C\", 0.001, 1000.0, default_value=1.0)\n",
        "shrinking = CategoricalHyperparameter(\"shrinking\", [\"true\", \"false\"], default_value=\"true\")\n",
        "cs.add_hyperparameters([C, shrinking])"
      ],
      "execution_count": 0,
      "outputs": [
        {
          "output_type": "execute_result",
          "data": {
            "text/plain": [
              "[C, Type: UniformFloat, Range: [0.001, 1000.0], Default: 1.0,\n",
              " shrinking, Type: Categorical, Choices: {true, false}, Default: true]"
            ]
          },
          "metadata": {
            "tags": []
          },
          "execution_count": 5
        }
      ]
    },
    {
      "metadata": {
        "id": "t4itWp5YkzQ9",
        "colab_type": "code",
        "colab": {
          "base_uri": "https://localhost:8080/",
          "height": 34
        },
        "outputId": "78598b58-4ed3-41ca-f3a5-713c8b5f589f"
      },
      "cell_type": "code",
      "source": [
        "# Others are kernel-specific, so we can add conditions to limit the searchspace\n",
        "degree = UniformIntegerHyperparameter(\"degree\", 1, 5, default_value=3)     # Only used by kernel poly\n",
        "coef0 = UniformFloatHyperparameter(\"coef0\", 0.0, 10.0, default_value=0.0)  # poly, sigmoid\n",
        "cs.add_hyperparameters([degree, coef0])\n",
        "use_degree = InCondition(child=degree, parent=kernel, values=[\"poly\"])\n",
        "use_coef0 = InCondition(child=coef0, parent=kernel, values=[\"poly\", \"sigmoid\"])\n",
        "cs.add_conditions([use_degree, use_coef0])"
      ],
      "execution_count": 0,
      "outputs": [
        {
          "output_type": "execute_result",
          "data": {
            "text/plain": [
              "[degree | kernel in {'poly'}, coef0 | kernel in {'poly', 'sigmoid'}]"
            ]
          },
          "metadata": {
            "tags": []
          },
          "execution_count": 6
        }
      ]
    },
    {
      "metadata": {
        "id": "5pJDcYtfkzTw",
        "colab_type": "code",
        "colab": {
          "base_uri": "https://localhost:8080/",
          "height": 51
        },
        "outputId": "af332fc7-bead-4234-92ed-d2e2ab7dd53c"
      },
      "cell_type": "code",
      "source": [
        "# This also works for parameters that are a mix of categorical and values from a range of numbers\n",
        "# For example, gamma can be either \"auto\" or a fixed float\n",
        "gamma = CategoricalHyperparameter(\"gamma\", [\"auto\", \"value\"], default_value=\"auto\")  # only rbf, poly, sigmoid\n",
        "gamma_value = UniformFloatHyperparameter(\"gamma_value\", 0.0001, 8, default_value=1)\n",
        "cs.add_hyperparameters([gamma, gamma_value])"
      ],
      "execution_count": 0,
      "outputs": [
        {
          "output_type": "execute_result",
          "data": {
            "text/plain": [
              "[gamma, Type: Categorical, Choices: {auto, value}, Default: auto,\n",
              " gamma_value, Type: UniformFloat, Range: [0.0001, 8.0], Default: 1.0]"
            ]
          },
          "metadata": {
            "tags": []
          },
          "execution_count": 7
        }
      ]
    },
    {
      "metadata": {
        "id": "4H-zjTUBkzWt",
        "colab_type": "code",
        "colab": {
          "base_uri": "https://localhost:8080/",
          "height": 34
        },
        "outputId": "7c5e9f56-64d7-4075-a1ef-2b370ccbd966"
      },
      "cell_type": "code",
      "source": [
        "# We only activate gamma_value if gamma is set to \"value\"\n",
        "cs.add_condition(InCondition(child=gamma_value, parent=gamma, values=[\"value\"]))\n",
        "# And again we can restrict the use of gamma in general to the choice of the kernel\n",
        "cs.add_condition(InCondition(child=gamma, parent=kernel, values=[\"rbf\", \"poly\", \"sigmoid\"]))"
      ],
      "execution_count": 0,
      "outputs": [
        {
          "output_type": "execute_result",
          "data": {
            "text/plain": [
              "gamma | kernel in {'rbf', 'poly', 'sigmoid'}"
            ]
          },
          "metadata": {
            "tags": []
          },
          "execution_count": 8
        }
      ]
    },
    {
      "metadata": {
        "id": "taWxxN6tlFU7",
        "colab_type": "code",
        "colab": {}
      },
      "cell_type": "code",
      "source": [
        "def svm_from_cfg(cfg):\n",
        "    \"\"\" Creates a SVM based on a configuration and evaluates it on the\n",
        "    iris-dataset using cross-validation.\n",
        "\n",
        "    Parameters:\n",
        "    -----------\n",
        "    cfg: Configuration (ConfigSpace.ConfigurationSpace.Configuration)\n",
        "        Configuration containing the parameters.\n",
        "        Configurations are indexable!\n",
        "\n",
        "    Returns:\n",
        "    --------\n",
        "    A crossvalidated mean score for the svm on the loaded data-set.\n",
        "    \"\"\"\n",
        "    # For deactivated parameters, the configuration stores None-values.\n",
        "    # This is not accepted by the SVM, so we remove them.\n",
        "    cfg = {k : cfg[k] for k in cfg if cfg[k]}\n",
        "    # We translate boolean values:\n",
        "    cfg[\"shrinking\"] = True if cfg[\"shrinking\"] == \"true\" else False\n",
        "    # And for gamma, we set it to a fixed value or to \"auto\" (if used)\n",
        "    if \"gamma\" in cfg:\n",
        "        cfg[\"gamma\"] = cfg[\"gamma_value\"] if cfg[\"gamma\"] == \"value\" else \"auto\"\n",
        "        cfg.pop(\"gamma_value\", None)  # Remove \"gamma_value\"\n",
        "\n",
        "    clf = svm.SVC(**cfg, random_state=42)\n",
        "    scores = cross_val_score(clf, iris.data, iris.target, cv=5)\n",
        "    return 1-np.mean(scores)  # Minimize!"
      ],
      "execution_count": 0,
      "outputs": []
    },
    {
      "metadata": {
        "id": "U3gWAVPmlFXh",
        "colab_type": "code",
        "colab": {}
      },
      "cell_type": "code",
      "source": [
        "# Scenario object\n",
        "scenario = Scenario({\"run_obj\": \"quality\",   # we optimize quality (alternatively runtime)\n",
        "                     \"runcount-limit\": 200,  # maximum function evaluations\n",
        "                     \"cs\": cs,               # configuration space\n",
        "                     \"deterministic\": \"true\"\n",
        "                     })"
      ],
      "execution_count": 0,
      "outputs": []
    },
    {
      "metadata": {
        "id": "b0t4xG1nlFZ5",
        "colab_type": "code",
        "colab": {
          "base_uri": "https://localhost:8080/",
          "height": 68
        },
        "outputId": "46d825ba-28bd-4950-c2b0-e73abceee228"
      },
      "cell_type": "code",
      "source": [
        "# Optimize, using a SMAC-object\n",
        "print(\"Optimizing! Depending on your machine, this might take a few minutes.\")\n",
        "smac = SMAC(scenario=scenario, rng=np.random.RandomState(42),\n",
        "        tae_runner=svm_from_cfg)\n",
        "incumbent = smac.optimize()\n",
        "inc_value = svm_from_cfg(incumbent)\n",
        "print(\"Optimized Value: %.2f\" % (inc_value))\n",
        "print(\"Best parameter : \", incumbent.get_dictionary())\n"
      ],
      "execution_count": 0,
      "outputs": [
        {
          "output_type": "stream",
          "text": [
            "Optimizing! Depending on your machine, this might take a few minutes.\n",
            "Optimized Value: 0.01\n",
            "Best parameter :  {'C': 1.3375368604838664, 'kernel': 'linear', 'shrinking': 'false'}\n"
          ],
          "name": "stdout"
        }
      ]
    },
    {
      "metadata": {
        "id": "_ITIgcaXyFDt",
        "colab_type": "text"
      },
      "cell_type": "markdown",
      "source": [
        "### SVM with SMAC on Credit Card dataset (OpenML id : 1597)"
      ]
    },
    {
      "metadata": {
        "id": "RXExyXdd5sDd",
        "colab_type": "code",
        "colab": {}
      },
      "cell_type": "code",
      "source": [
        "# Scenario object\n",
        "scenario = Scenario({\"run_obj\": \"quality\",   # we optimize quality (alternatively runtime)\n",
        "                     \"runcount-limit\": 5,    # maximum function evaluations\n",
        "                     \"cs\": cs,               # configuration space\n",
        "                     \"deterministic\": \"true\"\n",
        "                     })"
      ],
      "execution_count": 0,
      "outputs": []
    },
    {
      "metadata": {
        "id": "wYKHzpD9ySci",
        "colab_type": "code",
        "colab": {}
      },
      "cell_type": "code",
      "source": [
        "def svm_from_cfg(cfg):\n",
        "    \"\"\" Creates a SVM based on a configuration and evaluates it on the\n",
        "    iris-dataset using cross-validation.\n",
        "\n",
        "    Parameters:\n",
        "    -----------\n",
        "    cfg: Configuration (ConfigSpace.ConfigurationSpace.Configuration)\n",
        "        Configuration containing the parameters.\n",
        "        Configurations are indexable!\n",
        "\n",
        "    Returns:\n",
        "    --------\n",
        "    A crossvalidated mean score for the svm on the loaded data-set.\n",
        "    \"\"\"\n",
        "    # For deactivated parameters, the configuration stores None-values.\n",
        "    # This is not accepted by the SVM, so we remove them.\n",
        "    cfg = {k : cfg[k] for k in cfg if cfg[k]}\n",
        "    # We translate boolean values:\n",
        "    cfg[\"shrinking\"] = True if cfg[\"shrinking\"] == \"true\" else False\n",
        "    # And for gamma, we set it to a fixed value or to \"auto\" (if used)\n",
        "    if \"gamma\" in cfg:\n",
        "        cfg[\"gamma\"] = cfg[\"gamma_value\"] if cfg[\"gamma\"] == \"value\" else \"auto\"\n",
        "        cfg.pop(\"gamma_value\", None)  # Remove \"gamma_value\"\n",
        "    \n",
        "    X, y = creditcard.get_data(target=creditcard.default_target_attribute)\n",
        "    y[y == \"'0'\"]=0\n",
        "    y[y == \"'1'\"]=1\n",
        "    \n",
        "    print(cfg)\n",
        "    ICA = decomposition.FastICA(tol=0.2)\n",
        "    X_new = ICA.fit_transform(X)\n",
        "    clf = svm.SVC(**cfg, random_state=42)\n",
        "    scores = cross_val_score(clf, X_new, y, cv=5, scoring=\"roc_auc\")\n",
        "    print(np.mean(scores))\n",
        "    return 1-np.mean(scores)  # Minimize!"
      ],
      "execution_count": 0,
      "outputs": []
    },
    {
      "metadata": {
        "id": "NOec8Bh-51kz",
        "colab_type": "code",
        "colab": {
          "base_uri": "https://localhost:8080/",
          "height": 496
        },
        "outputId": "a607f1a8-9e00-4854-9ba8-6d384981871f"
      },
      "cell_type": "code",
      "source": [
        "# Optimize, using a SMAC-object\n",
        "print(\"Optimizing! Depending on your machine, this might take a few minutes.\")\n",
        "smac = SMAC(scenario=scenario, rng=np.random.RandomState(42),\n",
        "        tae_runner=svm_from_cfg)\n",
        "incumbent = smac.optimize()\n",
        "inc_value = svm_from_cfg(incumbent)\n",
        "print(\"Optimized Value: %.2f\" % (inc_value))\n",
        "print(\"Best parameter : \", incumbent.get_dictionary())"
      ],
      "execution_count": 0,
      "outputs": [
        {
          "output_type": "stream",
          "text": [
            "Optimizing! Depending on your machine, this might take a few minutes.\n"
          ],
          "name": "stdout"
        },
        {
          "output_type": "stream",
          "text": [
            "/usr/local/lib/python3.6/dist-packages/ipykernel_launcher.py:26: FutureWarning: elementwise comparison failed; returning scalar instead, but in the future will perform elementwise comparison\n",
            "/usr/local/lib/python3.6/dist-packages/ipykernel_launcher.py:27: FutureWarning: elementwise comparison failed; returning scalar instead, but in the future will perform elementwise comparison\n"
          ],
          "name": "stderr"
        },
        {
          "output_type": "stream",
          "text": [
            "{'C': 1.0, 'kernel': 'poly', 'shrinking': True, 'degree': 3, 'gamma': 'auto'}\n",
            "0.8751031406834452\n"
          ],
          "name": "stdout"
        },
        {
          "output_type": "stream",
          "text": [
            "/usr/local/lib/python3.6/dist-packages/ipykernel_launcher.py:26: FutureWarning: elementwise comparison failed; returning scalar instead, but in the future will perform elementwise comparison\n",
            "/usr/local/lib/python3.6/dist-packages/ipykernel_launcher.py:27: FutureWarning: elementwise comparison failed; returning scalar instead, but in the future will perform elementwise comparison\n"
          ],
          "name": "stderr"
        },
        {
          "output_type": "stream",
          "text": [
            "{'C': 342.8603177140093, 'kernel': 'linear', 'shrinking': False}\n",
            "0.9440142339532102\n"
          ],
          "name": "stdout"
        },
        {
          "output_type": "stream",
          "text": [
            "/usr/local/lib/python3.6/dist-packages/ipykernel_launcher.py:26: FutureWarning: elementwise comparison failed; returning scalar instead, but in the future will perform elementwise comparison\n",
            "/usr/local/lib/python3.6/dist-packages/ipykernel_launcher.py:27: FutureWarning: elementwise comparison failed; returning scalar instead, but in the future will perform elementwise comparison\n"
          ],
          "name": "stderr"
        },
        {
          "output_type": "stream",
          "text": [
            "{'C': 805.9573023422622, 'kernel': 'poly', 'shrinking': False, 'coef0': 6.1318511844018, 'degree': 1, 'gamma': 5.491021967983701}\n",
            "0.9473073025938182\n"
          ],
          "name": "stdout"
        },
        {
          "output_type": "stream",
          "text": [
            "/usr/local/lib/python3.6/dist-packages/ipykernel_launcher.py:26: FutureWarning: elementwise comparison failed; returning scalar instead, but in the future will perform elementwise comparison\n",
            "/usr/local/lib/python3.6/dist-packages/ipykernel_launcher.py:27: FutureWarning: elementwise comparison failed; returning scalar instead, but in the future will perform elementwise comparison\n"
          ],
          "name": "stderr"
        },
        {
          "output_type": "stream",
          "text": [
            "{'C': 178.1953156683978, 'kernel': 'poly', 'shrinking': False, 'coef0': 9.105183204612164, 'degree': 1, 'gamma': 5.258017005850199}\n",
            "0.9420137649390415\n"
          ],
          "name": "stdout"
        },
        {
          "output_type": "stream",
          "text": [
            "/usr/local/lib/python3.6/dist-packages/ipykernel_launcher.py:26: FutureWarning: elementwise comparison failed; returning scalar instead, but in the future will perform elementwise comparison\n",
            "/usr/local/lib/python3.6/dist-packages/ipykernel_launcher.py:27: FutureWarning: elementwise comparison failed; returning scalar instead, but in the future will perform elementwise comparison\n"
          ],
          "name": "stderr"
        },
        {
          "output_type": "stream",
          "text": [
            "{'C': 333.0243590891621, 'kernel': 'poly', 'shrinking': True, 'coef0': 2.4586429644161365, 'degree': 2, 'gamma': 0.9314552526320006}\n",
            "0.9436951822198567\n"
          ],
          "name": "stdout"
        },
        {
          "output_type": "stream",
          "text": [
            "/usr/local/lib/python3.6/dist-packages/ipykernel_launcher.py:26: FutureWarning: elementwise comparison failed; returning scalar instead, but in the future will perform elementwise comparison\n",
            "/usr/local/lib/python3.6/dist-packages/ipykernel_launcher.py:27: FutureWarning: elementwise comparison failed; returning scalar instead, but in the future will perform elementwise comparison\n"
          ],
          "name": "stderr"
        },
        {
          "output_type": "stream",
          "text": [
            "{'C': 805.9573023422622, 'kernel': 'poly', 'shrinking': False, 'coef0': 6.1318511844018, 'degree': 1, 'gamma': 5.491021967983701}\n",
            "0.9473073025938182\n",
            "Optimized Value: 0.05\n",
            "Best parameter :  {'C': 805.9573023422622, 'kernel': 'poly', 'shrinking': 'false', 'coef0': 6.1318511844018, 'degree': 1, 'gamma': 'value', 'gamma_value': 5.491021967983701}\n"
          ],
          "name": "stdout"
        }
      ]
    },
    {
      "metadata": {
        "id": "OBlXxhkm6yp_",
        "colab_type": "text"
      },
      "cell_type": "markdown",
      "source": [
        "### Logistic Regression with SMAC on Credit Card Dataset (OpenML id : 1597)"
      ]
    },
    {
      "metadata": {
        "id": "PdksTjvT6x9g",
        "colab_type": "code",
        "colab": {}
      },
      "cell_type": "code",
      "source": [
        "# Build Configuration Space which defines all parameters and their ranges\n",
        "cs = ConfigurationSpace()"
      ],
      "execution_count": 0,
      "outputs": []
    },
    {
      "metadata": {
        "id": "CEqPX5Mt-bZn",
        "colab_type": "code",
        "colab": {
          "base_uri": "https://localhost:8080/",
          "height": 34
        },
        "outputId": "2f1784bf-7b98-43f4-cef9-4fedaede3c2e"
      },
      "cell_type": "code",
      "source": [
        "# Penalty as l1 or l2\n",
        "penalty = CategoricalHyperparameter(\"penalty\", [\"l1\", \"l2\"], default_value=\"l2\")\n",
        "cs.add_hyperparameter(penalty)"
      ],
      "execution_count": 0,
      "outputs": [
        {
          "output_type": "execute_result",
          "data": {
            "text/plain": [
              "penalty, Type: Categorical, Choices: {l1, l2}, Default: l2"
            ]
          },
          "metadata": {
            "tags": []
          },
          "execution_count": 15
        }
      ]
    },
    {
      "metadata": {
        "id": "bliv7_pi8Gvd",
        "colab_type": "code",
        "colab": {
          "base_uri": "https://localhost:8080/",
          "height": 34
        },
        "outputId": "3e909712-ad48-4c9d-9704-9fa7270d9047"
      },
      "cell_type": "code",
      "source": [
        "# Common Hyperparameters\n",
        "C = UniformFloatHyperparameter(\"C\", 0.001, 1000.0, default_value=1.0)\n",
        "cs.add_hyperparameter(C)"
      ],
      "execution_count": 0,
      "outputs": [
        {
          "output_type": "execute_result",
          "data": {
            "text/plain": [
              "C, Type: UniformFloat, Range: [0.001, 1000.0], Default: 1.0"
            ]
          },
          "metadata": {
            "tags": []
          },
          "execution_count": 16
        }
      ]
    },
    {
      "metadata": {
        "id": "46SrGH4C-0TE",
        "colab_type": "code",
        "colab": {
          "base_uri": "https://localhost:8080/",
          "height": 34
        },
        "outputId": "032e5965-39f4-4e38-81e0-cf2f72b1f68b"
      },
      "cell_type": "code",
      "source": [
        "# penalty specific dual parameter\n",
        "dual = CategoricalHyperparameter(\"dual\", [\"true\", \"false\"], default_value=\"false\")\n",
        "cs.add_hyperparameter(dual)\n",
        "\n",
        "# dual is used only when penalty = \"l2\"\n",
        "cs.add_condition(InCondition(child=dual, parent=penalty, values=[\"l2\"]))"
      ],
      "execution_count": 0,
      "outputs": [
        {
          "output_type": "execute_result",
          "data": {
            "text/plain": [
              "dual | penalty in {'l2'}"
            ]
          },
          "metadata": {
            "tags": []
          },
          "execution_count": 17
        }
      ]
    },
    {
      "metadata": {
        "id": "vHdAAmkTAjeB",
        "colab_type": "code",
        "colab": {}
      },
      "cell_type": "code",
      "source": [
        "def logreg_from_cfg(cfg):\n",
        "    print(cfg)\n",
        "    \"\"\" Creates a SVM based on a configuration and evaluates it on the\n",
        "    iris-dataset using cross-validation.\n",
        "\n",
        "    Parameters:\n",
        "    -----------\n",
        "    cfg: Configuration (ConfigSpace.ConfigurationSpace.Configuration)\n",
        "        Configuration containing the parameters.\n",
        "        Configurations are indexable!\n",
        "\n",
        "    Returns:\n",
        "    --------\n",
        "    A crossvalidated mean score for the svm on the loaded data-set.\n",
        "    \"\"\"\n",
        "    # For deactivated parameters, the configuration stores None-values.\n",
        "    # This is not accepted by the SVM, so we remove them.\n",
        "    cfg = {k : cfg[k] for k in cfg if cfg[k]}\n",
        "    # We translate boolean values:\n",
        "    if(cfg[\"penalty\"]==\"l2\"):\n",
        "      cfg[\"dual\"] = True if cfg[\"dual\"] == \"true\" else False\n",
        "    \n",
        "    X, y = creditcard.get_data(target=creditcard.default_target_attribute)\n",
        "    y[y == \"'0'\"]=0\n",
        "    y[y == \"'1'\"]=1\n",
        "    \n",
        "    ICA = decomposition.FastICA(tol=0.2)\n",
        "    X_new = ICA.fit_transform(X)\n",
        "    logreg = LogisticRegression(**cfg, random_state=42)\n",
        "    scores = cross_val_score(logreg, X_new, y, cv=5, scoring=\"roc_auc\")\n",
        "    print(np.mean(scores))\n",
        "    return 1-np.mean(scores)  # Minimize!"
      ],
      "execution_count": 0,
      "outputs": []
    },
    {
      "metadata": {
        "id": "M1fFtk_ABAYY",
        "colab_type": "code",
        "colab": {}
      },
      "cell_type": "code",
      "source": [
        "# Scenario object\n",
        "scenario = Scenario({\"run_obj\": \"quality\",   # we optimize quality (alternatively runtime)\n",
        "                     \"runcount-limit\": 10,  # maximum function evaluations\n",
        "                     \"cs\": cs,               # configuration space\n",
        "                     \"deterministic\": \"true\"\n",
        "                     })"
      ],
      "execution_count": 0,
      "outputs": []
    },
    {
      "metadata": {
        "id": "o5cV-iCFKeZl",
        "colab_type": "code",
        "colab": {
          "base_uri": "https://localhost:8080/",
          "height": 1550
        },
        "outputId": "e28ac63b-a55e-48db-9f33-3ebf4a3d5bc0"
      },
      "cell_type": "code",
      "source": [
        "# Optimize, using a SMAC-object\n",
        "print(\"Optimizing! Depending on your machine, this might take a few minutes.\")\n",
        "smac = SMAC(scenario=scenario, rng=np.random.RandomState(42),\n",
        "        tae_runner=logreg_from_cfg)\n",
        "start = time.time()\n",
        "incumbent = smac.optimize()\n",
        "inc_value = logreg_from_cfg(incumbent)\n",
        "end = time.time()\n",
        "print(\"Optimized Value: %.5f\" % (1-inc_value))\n",
        "print(\"Best parameter : \", incumbent.get_dictionary())\n",
        "print(\"Time required in seconds :\", (end - start))"
      ],
      "execution_count": 0,
      "outputs": [
        {
          "output_type": "stream",
          "text": [
            "Optimizing! Depending on your machine, this might take a few minutes.\n",
            "Configuration:\n",
            "  C, Value: 1.0\n",
            "  dual, Value: 'false'\n",
            "  penalty, Value: 'l2'\n",
            "\n"
          ],
          "name": "stdout"
        },
        {
          "output_type": "stream",
          "text": [
            "/usr/local/lib/python3.6/dist-packages/ipykernel_launcher.py:24: FutureWarning: elementwise comparison failed; returning scalar instead, but in the future will perform elementwise comparison\n",
            "/usr/local/lib/python3.6/dist-packages/ipykernel_launcher.py:25: FutureWarning: elementwise comparison failed; returning scalar instead, but in the future will perform elementwise comparison\n"
          ],
          "name": "stderr"
        },
        {
          "output_type": "stream",
          "text": [
            "0.9760163267568283\n",
            "Configuration:\n",
            "  C, Value: 258.52303800096433\n",
            "  dual, Value: 'false'\n",
            "  penalty, Value: 'l2'\n",
            "\n"
          ],
          "name": "stdout"
        },
        {
          "output_type": "stream",
          "text": [
            "/usr/local/lib/python3.6/dist-packages/ipykernel_launcher.py:24: FutureWarning: elementwise comparison failed; returning scalar instead, but in the future will perform elementwise comparison\n",
            "/usr/local/lib/python3.6/dist-packages/ipykernel_launcher.py:25: FutureWarning: elementwise comparison failed; returning scalar instead, but in the future will perform elementwise comparison\n"
          ],
          "name": "stderr"
        },
        {
          "output_type": "stream",
          "text": [
            "0.9793975054880338\n",
            "Configuration:\n",
            "  C, Value: 376.15135912829777\n",
            "  penalty, Value: 'l1'\n",
            "\n"
          ],
          "name": "stdout"
        },
        {
          "output_type": "stream",
          "text": [
            "/usr/local/lib/python3.6/dist-packages/ipykernel_launcher.py:24: FutureWarning: elementwise comparison failed; returning scalar instead, but in the future will perform elementwise comparison\n",
            "/usr/local/lib/python3.6/dist-packages/ipykernel_launcher.py:25: FutureWarning: elementwise comparison failed; returning scalar instead, but in the future will perform elementwise comparison\n"
          ],
          "name": "stderr"
        },
        {
          "output_type": "stream",
          "text": [
            "0.9693237279649232\n",
            "Configuration:\n",
            "  C, Value: 681.1143643997688\n",
            "  penalty, Value: 'l1'\n",
            "\n"
          ],
          "name": "stdout"
        },
        {
          "output_type": "stream",
          "text": [
            "/usr/local/lib/python3.6/dist-packages/ipykernel_launcher.py:24: FutureWarning: elementwise comparison failed; returning scalar instead, but in the future will perform elementwise comparison\n",
            "/usr/local/lib/python3.6/dist-packages/ipykernel_launcher.py:25: FutureWarning: elementwise comparison failed; returning scalar instead, but in the future will perform elementwise comparison\n"
          ],
          "name": "stderr"
        },
        {
          "output_type": "stream",
          "text": [
            "0.9661814925466157\n",
            "Configuration:\n",
            "  C, Value: 137.4362714801022\n",
            "  dual, Value: 'true'\n",
            "  penalty, Value: 'l2'\n",
            "\n"
          ],
          "name": "stdout"
        },
        {
          "output_type": "stream",
          "text": [
            "/usr/local/lib/python3.6/dist-packages/ipykernel_launcher.py:24: FutureWarning: elementwise comparison failed; returning scalar instead, but in the future will perform elementwise comparison\n",
            "/usr/local/lib/python3.6/dist-packages/ipykernel_launcher.py:25: FutureWarning: elementwise comparison failed; returning scalar instead, but in the future will perform elementwise comparison\n"
          ],
          "name": "stderr"
        },
        {
          "output_type": "stream",
          "text": [
            "0.9793791874203188\n",
            "Configuration:\n",
            "  C, Value: 325.421794841775\n",
            "  penalty, Value: 'l1'\n",
            "\n"
          ],
          "name": "stdout"
        },
        {
          "output_type": "stream",
          "text": [
            "/usr/local/lib/python3.6/dist-packages/ipykernel_launcher.py:24: FutureWarning: elementwise comparison failed; returning scalar instead, but in the future will perform elementwise comparison\n",
            "/usr/local/lib/python3.6/dist-packages/ipykernel_launcher.py:25: FutureWarning: elementwise comparison failed; returning scalar instead, but in the future will perform elementwise comparison\n"
          ],
          "name": "stderr"
        },
        {
          "output_type": "stream",
          "text": [
            "0.9671057528778215\n",
            "Configuration:\n",
            "  C, Value: 885.0548269692787\n",
            "  dual, Value: 'false'\n",
            "  penalty, Value: 'l2'\n",
            "\n"
          ],
          "name": "stdout"
        },
        {
          "output_type": "stream",
          "text": [
            "/usr/local/lib/python3.6/dist-packages/ipykernel_launcher.py:24: FutureWarning: elementwise comparison failed; returning scalar instead, but in the future will perform elementwise comparison\n",
            "/usr/local/lib/python3.6/dist-packages/ipykernel_launcher.py:25: FutureWarning: elementwise comparison failed; returning scalar instead, but in the future will perform elementwise comparison\n"
          ],
          "name": "stderr"
        },
        {
          "output_type": "stream",
          "text": [
            "0.978405854867576\n",
            "Configuration:\n",
            "  C, Value: 30.11112564388111\n",
            "  dual, Value: 'false'\n",
            "  penalty, Value: 'l2'\n",
            "\n"
          ],
          "name": "stdout"
        },
        {
          "output_type": "stream",
          "text": [
            "/usr/local/lib/python3.6/dist-packages/ipykernel_launcher.py:24: FutureWarning: elementwise comparison failed; returning scalar instead, but in the future will perform elementwise comparison\n",
            "/usr/local/lib/python3.6/dist-packages/ipykernel_launcher.py:25: FutureWarning: elementwise comparison failed; returning scalar instead, but in the future will perform elementwise comparison\n"
          ],
          "name": "stderr"
        },
        {
          "output_type": "stream",
          "text": [
            "0.9778142598397297\n",
            "Configuration:\n",
            "  C, Value: 111.52232056523157\n",
            "  dual, Value: 'false'\n",
            "  penalty, Value: 'l2'\n",
            "\n"
          ],
          "name": "stdout"
        },
        {
          "output_type": "stream",
          "text": [
            "/usr/local/lib/python3.6/dist-packages/ipykernel_launcher.py:24: FutureWarning: elementwise comparison failed; returning scalar instead, but in the future will perform elementwise comparison\n",
            "/usr/local/lib/python3.6/dist-packages/ipykernel_launcher.py:25: FutureWarning: elementwise comparison failed; returning scalar instead, but in the future will perform elementwise comparison\n"
          ],
          "name": "stderr"
        },
        {
          "output_type": "stream",
          "text": [
            "0.9792770816574897\n",
            "Configuration:\n",
            "  C, Value: 271.03106801915885\n",
            "  dual, Value: 'false'\n",
            "  penalty, Value: 'l2'\n",
            "\n"
          ],
          "name": "stdout"
        },
        {
          "output_type": "stream",
          "text": [
            "/usr/local/lib/python3.6/dist-packages/ipykernel_launcher.py:24: FutureWarning: elementwise comparison failed; returning scalar instead, but in the future will perform elementwise comparison\n",
            "/usr/local/lib/python3.6/dist-packages/ipykernel_launcher.py:25: FutureWarning: elementwise comparison failed; returning scalar instead, but in the future will perform elementwise comparison\n"
          ],
          "name": "stderr"
        },
        {
          "output_type": "stream",
          "text": [
            "0.979383089648364\n",
            "Configuration:\n",
            "  C, Value: 258.52303800096433\n",
            "  dual, Value: 'false'\n",
            "  penalty, Value: 'l2'\n",
            "\n"
          ],
          "name": "stdout"
        },
        {
          "output_type": "stream",
          "text": [
            "/usr/local/lib/python3.6/dist-packages/ipykernel_launcher.py:24: FutureWarning: elementwise comparison failed; returning scalar instead, but in the future will perform elementwise comparison\n",
            "/usr/local/lib/python3.6/dist-packages/ipykernel_launcher.py:25: FutureWarning: elementwise comparison failed; returning scalar instead, but in the future will perform elementwise comparison\n"
          ],
          "name": "stderr"
        },
        {
          "output_type": "stream",
          "text": [
            "0.9793975054880338\n",
            "Optimized Value: 0.97940\n",
            "Best parameter :  {'C': 258.52303800096433, 'penalty': 'l2', 'dual': 'false'}\n",
            "Time required in seconds : 259.95366501808167\n"
          ],
          "name": "stdout"
        }
      ]
    },
    {
      "metadata": {
        "id": "FELsAAAhK1zL",
        "colab_type": "text"
      },
      "cell_type": "markdown",
      "source": [
        ""
      ]
    },
    {
      "metadata": {
        "id": "Tnp0p_SO30kf",
        "colab_type": "text"
      },
      "cell_type": "markdown",
      "source": [
        "### Xgboost with SMAC on Sick Dataset (OpenML id : 38)"
      ]
    },
    {
      "metadata": {
        "id": "HRl2T-tH3zYY",
        "colab_type": "code",
        "colab": {
          "base_uri": "https://localhost:8080/",
          "height": 5375
        },
        "outputId": "cd683252-2cc9-422e-9ed0-466fcbcbbbe9"
      },
      "cell_type": "code",
      "source": [
        "# We load Sick dataset from openml\n",
        "sick = oml.datasets.get_dataset(38)\n",
        "\n",
        "# Build Configuration Space which defines all parameters and their ranges\n",
        "cs = ConfigurationSpace()\n",
        "\n",
        "#max-depth 1 to 10\n",
        "max_depth = UniformIntegerHyperparameter(\"max_depth\", 1, 10, default_value=3)\n",
        "\n",
        "#learning rate 0.001 to 1\n",
        "learning_rate = UniformFloatHyperparameter(\"learning_rate\", 0.001, 1.0, default_value=0.1)\n",
        "\n",
        "#n_estimators 10 to 500\n",
        "n_estimators = UniformIntegerHyperparameter(\"n_estimators\", 10, 500, default_value=100)\n",
        "\n",
        "#gamma 0 to 1\n",
        "gamma = UniformFloatHyperparameter(\"gamma\", 0.0, 1.0, default_value=0.0)\n",
        "\n",
        "#min_child_weight 1 to 100\n",
        "min_child_weight = UniformIntegerHyperparameter(\"min_child_weight\", 1, 50, default_value=1)\n",
        "\n",
        "#max_delta_step  0 to 50\n",
        "max_delta_step  = UniformIntegerHyperparameter(\"max_delta_step \", 0, 50, default_value=0)\n",
        "\n",
        "#subsample 0.1 to 1\n",
        "subsample = UniformFloatHyperparameter(\"subsample\", 0.0, 1.0, default_value=1.0)\n",
        "\n",
        "#add all to configuration\n",
        "cs.add_hyperparameters([max_depth, learning_rate, n_estimators, gamma, min_child_weight, max_delta_step, subsample])\n",
        "\n",
        "def xgbclassifier_from_cfg(cfg):\n",
        "    print(cfg)\n",
        "    \n",
        "    cfg = {k : cfg[k] for k in cfg if cfg[k]}\n",
        "    \n",
        "    X, y = sick.get_data(target=sick.default_target_attribute)\n",
        "    \n",
        "    xgbc = XGBClassifier(**cfg, random_state=42)\n",
        "    scores = cross_val_score(xgbc, X, y, cv=5, scoring=\"roc_auc\")\n",
        "    print(np.mean(scores))\n",
        "    return 1-np.mean(scores)  # Minimize!\n",
        "\n",
        "# Scenario object\n",
        "scenario = Scenario({\"run_obj\": \"quality\",   # we optimize quality (alternatively runtime)\n",
        "                     \"runcount-limit\": 30,  # maximum function evaluations\n",
        "                     \"cs\": cs,               # configuration space\n",
        "                     \"deterministic\": \"true\"\n",
        "                     })\n",
        "\n",
        "# Optimize, using a SMAC-object\n",
        "print(\"Optimizing! Depending on your machine, this might take a few minutes.\")\n",
        "smac = SMAC(scenario=scenario, rng=np.random.RandomState(42),\n",
        "        tae_runner=xgbclassifier_from_cfg)\n",
        "start = time.time()\n",
        "incumbent = smac.optimize()\n",
        "inc_value = xgbclassifier_from_cfg(incumbent)\n",
        "end = time.time()\n",
        "print(\"Optimized Value: %.5f\" % (1-inc_value))\n",
        "print(\"Best parameter : \", incumbent.get_dictionary())\n",
        "print(\"Time required in seconds :\", (end - start))"
      ],
      "execution_count": 0,
      "outputs": [
        {
          "output_type": "stream",
          "text": [
            "Optimizing! Depending on your machine, this might take a few minutes.\n",
            "Configuration:\n",
            "  gamma, Value: 0.0\n",
            "  learning_rate, Value: 0.1\n",
            "  max_delta_step , Value: 0\n",
            "  max_depth, Value: 3\n",
            "  min_child_weight, Value: 1\n",
            "  n_estimators, Value: 100\n",
            "  subsample, Value: 1.0\n",
            "\n",
            "0.9970142862931576\n",
            "Configuration:\n",
            "  gamma, Value: 0.6036795486258081\n",
            "  learning_rate, Value: 0.10105139771364258\n",
            "  max_delta_step , Value: 37\n",
            "  max_depth, Value: 6\n",
            "  min_child_weight, Value: 1\n",
            "  n_estimators, Value: 319\n",
            "  subsample, Value: 0.8400870811802357\n",
            "\n",
            "0.9978198700329601\n",
            "Configuration:\n",
            "  gamma, Value: 0.9494840671337647\n",
            "  learning_rate, Value: 0.12263054541216019\n",
            "  max_delta_step , Value: 33\n",
            "  max_depth, Value: 8\n",
            "  min_child_weight, Value: 27\n",
            "  n_estimators, Value: 317\n",
            "  subsample, Value: 0.2645617534245237\n",
            "\n",
            "0.9383643401635788\n",
            "Configuration:\n",
            "  gamma, Value: 0.7498602859753619\n",
            "  learning_rate, Value: 0.7255105719227523\n",
            "  max_delta_step , Value: 15\n",
            "  max_depth, Value: 7\n",
            "  min_child_weight, Value: 33\n",
            "  n_estimators, Value: 308\n",
            "  subsample, Value: 0.28863375482004416\n",
            "\n",
            "0.9267475654188244\n",
            "Configuration:\n",
            "  gamma, Value: 0.15867921112231842\n",
            "  learning_rate, Value: 0.3534931928833193\n",
            "  max_delta_step , Value: 25\n",
            "  max_depth, Value: 8\n",
            "  min_child_weight, Value: 23\n",
            "  n_estimators, Value: 285\n",
            "  subsample, Value: 0.15887465732563533\n",
            "\n",
            "0.9360210183948476\n",
            "Configuration:\n",
            "  gamma, Value: 0.08309663451794957\n",
            "  learning_rate, Value: 0.9125326028108194\n",
            "  max_delta_step , Value: 7\n",
            "  max_depth, Value: 5\n",
            "  min_child_weight, Value: 37\n",
            "  n_estimators, Value: 76\n",
            "  subsample, Value: 0.5776468197758212\n",
            "\n",
            "0.9644972942717622\n",
            "Configuration:\n",
            "  gamma, Value: 0.9816211156765089\n",
            "  learning_rate, Value: 0.41190658420121035\n",
            "  max_delta_step , Value: 12\n",
            "  max_depth, Value: 3\n",
            "  min_child_weight, Value: 15\n",
            "  n_estimators, Value: 271\n",
            "  subsample, Value: 0.15485890977669914\n",
            "\n",
            "0.9350929689087921\n",
            "Configuration:\n",
            "  gamma, Value: 0.865628582531753\n",
            "  learning_rate, Value: 0.9369161712641282\n",
            "  max_delta_step , Value: 42\n",
            "  max_depth, Value: 7\n",
            "  min_child_weight, Value: 10\n",
            "  n_estimators, Value: 133\n",
            "  subsample, Value: 0.8763637387446975\n",
            "\n",
            "0.9885937425237048\n",
            "Configuration:\n",
            "  gamma, Value: 0.0546348205656082\n",
            "  learning_rate, Value: 0.527105331921316\n",
            "  max_delta_step , Value: 43\n",
            "  max_depth, Value: 5\n",
            "  min_child_weight, Value: 50\n",
            "  n_estimators, Value: 60\n",
            "  subsample, Value: 0.7575719666202708\n",
            "\n",
            "0.9635508754213438\n",
            "Configuration:\n",
            "  gamma, Value: 0.47544965018154706\n",
            "  learning_rate, Value: 0.5282458921887601\n",
            "  max_delta_step , Value: 7\n",
            "  max_depth, Value: 6\n",
            "  min_child_weight, Value: 10\n",
            "  n_estimators, Value: 116\n",
            "  subsample, Value: 0.46007892657173244\n",
            "\n",
            "0.973200709721856\n",
            "Configuration:\n",
            "  gamma, Value: 0.37300343576133377\n",
            "  learning_rate, Value: 0.9029761665978346\n",
            "  max_delta_step , Value: 49\n",
            "  max_depth, Value: 7\n",
            "  min_child_weight, Value: 11\n",
            "  n_estimators, Value: 142\n",
            "  subsample, Value: 0.4347155929436214\n",
            "\n",
            "0.9664832966310934\n",
            "Configuration:\n",
            "  gamma, Value: 0.48774148266515893\n",
            "  learning_rate, Value: 0.5665678761681194\n",
            "  max_delta_step , Value: 26\n",
            "  max_depth, Value: 9\n",
            "  min_child_weight, Value: 10\n",
            "  n_estimators, Value: 314\n",
            "  subsample, Value: 0.8534702486874008\n",
            "\n",
            "0.9867928143944225\n",
            "Configuration:\n",
            "  gamma, Value: 0.2719612839985093\n",
            "  learning_rate, Value: 0.943746547304732\n",
            "  max_delta_step , Value: 33\n",
            "  max_depth, Value: 1\n",
            "  min_child_weight, Value: 12\n",
            "  n_estimators, Value: 258\n",
            "  subsample, Value: 0.15655850960472006\n",
            "\n",
            "0.9398596097951751\n",
            "Configuration:\n",
            "  gamma, Value: 0.721457752518773\n",
            "  learning_rate, Value: 0.9760360637548693\n",
            "  max_delta_step , Value: 19\n",
            "  max_depth, Value: 10\n",
            "  min_child_weight, Value: 8\n",
            "  n_estimators, Value: 220\n",
            "  subsample, Value: 0.32918964847429166\n",
            "\n",
            "0.9659827294250458\n",
            "Configuration:\n",
            "  gamma, Value: 0.5236661018211719\n",
            "  learning_rate, Value: 0.3023594605111704\n",
            "  max_delta_step , Value: 32\n",
            "  max_depth, Value: 9\n",
            "  min_child_weight, Value: 43\n",
            "  n_estimators, Value: 388\n",
            "  subsample, Value: 0.233338245382816\n",
            "\n",
            "0.934649754596364\n",
            "Configuration:\n",
            "  gamma, Value: 0.7567249364365117\n",
            "  learning_rate, Value: 0.6879813178330195\n",
            "  max_delta_step , Value: 5\n",
            "  max_depth, Value: 7\n",
            "  min_child_weight, Value: 6\n",
            "  n_estimators, Value: 430\n",
            "  subsample, Value: 0.7931284616681309\n",
            "\n",
            "0.9888537799333859\n",
            "Configuration:\n",
            "  gamma, Value: 0.19973623840118793\n",
            "  learning_rate, Value: 0.9818452561484889\n",
            "  max_delta_step , Value: 35\n",
            "  max_depth, Value: 7\n",
            "  min_child_weight, Value: 27\n",
            "  n_estimators, Value: 473\n",
            "  subsample, Value: 0.5749173928731734\n",
            "\n",
            "0.9624282177069586\n",
            "Configuration:\n",
            "  gamma, Value: 0.5431229031271658\n",
            "  learning_rate, Value: 0.2283000849140354\n",
            "  max_delta_step , Value: 20\n",
            "  max_depth, Value: 3\n",
            "  min_child_weight, Value: 3\n",
            "  n_estimators, Value: 262\n",
            "  subsample, Value: 0.3502917290392856\n",
            "\n",
            "0.9910123689559681\n",
            "Configuration:\n",
            "  gamma, Value: 0.9728252884513209\n",
            "  learning_rate, Value: 0.034712489778642434\n",
            "  max_delta_step , Value: 4\n",
            "  max_depth, Value: 6\n",
            "  min_child_weight, Value: 15\n",
            "  n_estimators, Value: 153\n",
            "  subsample, Value: 0.6742657086055155\n",
            "\n",
            "0.9805182519255988\n",
            "Configuration:\n",
            "  gamma, Value: 0.7443594498805257\n",
            "  learning_rate, Value: 0.027959366483645172\n",
            "  max_delta_step , Value: 46\n",
            "  max_depth, Value: 10\n",
            "  min_child_weight, Value: 2\n",
            "  n_estimators, Value: 389\n",
            "  subsample, Value: 0.9698550037483074\n",
            "\n",
            "0.9976650928700203\n",
            "Configuration:\n",
            "  gamma, Value: 0.34470942881105016\n",
            "  learning_rate, Value: 0.6793878514927997\n",
            "  max_delta_step , Value: 1\n",
            "  max_depth, Value: 6\n",
            "  min_child_weight, Value: 29\n",
            "  n_estimators, Value: 369\n",
            "  subsample, Value: 0.24213629696081607\n",
            "\n",
            "0.9264699176309874\n",
            "Configuration:\n",
            "  gamma, Value: 0.5637791639946408\n",
            "  learning_rate, Value: 0.14308674866098722\n",
            "  max_delta_step , Value: 7\n",
            "  max_depth, Value: 2\n",
            "  min_child_weight, Value: 18\n",
            "  n_estimators, Value: 453\n",
            "  subsample, Value: 0.906952629603122\n",
            "\n",
            "0.978744332168912\n",
            "Configuration:\n",
            "  gamma, Value: 0.6416539291977076\n",
            "  learning_rate, Value: 0.03896917922110637\n",
            "  max_delta_step , Value: 17\n",
            "  max_depth, Value: 7\n",
            "  min_child_weight, Value: 34\n",
            "  n_estimators, Value: 407\n",
            "  subsample, Value: 0.7832750699731017\n",
            "\n",
            "0.9667004955950494\n",
            "Configuration:\n",
            "  gamma, Value: 0.49767437687547755\n",
            "  learning_rate, Value: 0.4217149853630883\n",
            "  max_delta_step , Value: 4\n",
            "  max_depth, Value: 5\n",
            "  min_child_weight, Value: 5\n",
            "  n_estimators, Value: 279\n",
            "  subsample, Value: 0.3198655348552317\n",
            "\n",
            "0.9780433731619661\n",
            "Configuration:\n",
            "  gamma, Value: 0.6887270122576091\n",
            "  learning_rate, Value: 0.9433799562624521\n",
            "  max_delta_step , Value: 30\n",
            "  max_depth, Value: 6\n",
            "  min_child_weight, Value: 41\n",
            "  n_estimators, Value: 317\n",
            "  subsample, Value: 0.20597234118437413\n",
            "\n",
            "0.8906158252462832\n",
            "Configuration:\n",
            "  gamma, Value: 0.6044670870590264\n",
            "  learning_rate, Value: 0.3249012237847987\n",
            "  max_delta_step , Value: 46\n",
            "  max_depth, Value: 2\n",
            "  min_child_weight, Value: 42\n",
            "  n_estimators, Value: 489\n",
            "  subsample, Value: 0.8736158387472341\n",
            "\n",
            "0.9688068956313819\n",
            "Configuration:\n",
            "  gamma, Value: 0.16540669544196784\n",
            "  learning_rate, Value: 0.12884981806446377\n",
            "  max_delta_step , Value: 11\n",
            "  max_depth, Value: 5\n",
            "  min_child_weight, Value: 1\n",
            "  n_estimators, Value: 171\n",
            "  subsample, Value: 0.7475856682992018\n",
            "\n",
            "0.9968435526361734\n",
            "Configuration:\n",
            "  gamma, Value: 0.9182692663303599\n",
            "  learning_rate, Value: 0.02035568137741611\n",
            "  max_delta_step , Value: 44\n",
            "  max_depth, Value: 7\n",
            "  min_child_weight, Value: 5\n",
            "  n_estimators, Value: 413\n",
            "  subsample, Value: 0.3119276450098828\n",
            "\n",
            "0.9858338448588924\n",
            "Configuration:\n",
            "  gamma, Value: 0.7347209958983911\n",
            "  learning_rate, Value: 0.35036772249276565\n",
            "  max_delta_step , Value: 20\n",
            "  max_depth, Value: 5\n",
            "  min_child_weight, Value: 1\n",
            "  n_estimators, Value: 50\n",
            "  subsample, Value: 0.9776903156311774\n",
            "\n",
            "0.997845983507651\n",
            "Configuration:\n",
            "  gamma, Value: 0.13160195753399817\n",
            "  learning_rate, Value: 0.12485381257576053\n",
            "  max_delta_step , Value: 16\n",
            "  max_depth, Value: 2\n",
            "  min_child_weight, Value: 2\n",
            "  n_estimators, Value: 383\n",
            "  subsample, Value: 0.28676291882701554\n",
            "\n",
            "0.987525794013093\n",
            "Configuration:\n",
            "  gamma, Value: 0.7347209958983911\n",
            "  learning_rate, Value: 0.35036772249276565\n",
            "  max_delta_step , Value: 20\n",
            "  max_depth, Value: 5\n",
            "  min_child_weight, Value: 1\n",
            "  n_estimators, Value: 50\n",
            "  subsample, Value: 0.9776903156311774\n",
            "\n",
            "0.997845983507651\n",
            "Optimized Value: 0.99785\n",
            "Best parameter :  {'gamma': 0.7347209958983911, 'learning_rate': 0.35036772249276565, 'max_delta_step ': 20, 'max_depth': 5, 'min_child_weight': 1, 'n_estimators': 50, 'subsample': 0.9776903156311774}\n",
            "Time required in seconds : 81.57901430130005\n"
          ],
          "name": "stdout"
        }
      ]
    },
    {
      "metadata": {
        "id": "HK15X-9fNtnJ",
        "colab_type": "text"
      },
      "cell_type": "markdown",
      "source": [
        "### Xgboost with SMAC on Splice datset (OpenML id : 46)"
      ]
    },
    {
      "metadata": {
        "id": "Iwoo_58TOcMZ",
        "colab_type": "code",
        "colab": {
          "base_uri": "https://localhost:8080/",
          "height": 7245
        },
        "outputId": "6b9c8564-ffca-4fee-c41c-fa8283ea7a47"
      },
      "cell_type": "code",
      "source": [
        "# We load Splice dataset from openml\n",
        "splice = oml.datasets.get_dataset(46)\n",
        "\n",
        "# Build Configuration Space which defines all parameters and their ranges\n",
        "cs = ConfigurationSpace()\n",
        "\n",
        "#max-depth 1 to 10\n",
        "max_depth = UniformIntegerHyperparameter(\"max_depth\", 1, 10, default_value=3)\n",
        "\n",
        "#learning rate 0.001 to 1\n",
        "learning_rate = UniformFloatHyperparameter(\"learning_rate\", 0.001, 1.0, default_value=0.1)\n",
        "\n",
        "#n_estimators 10 to 500\n",
        "n_estimators = UniformIntegerHyperparameter(\"n_estimators\", 10, 500, default_value=100)\n",
        "\n",
        "#gamma 0 to 1\n",
        "gamma = UniformFloatHyperparameter(\"gamma\", 0.0, 1.0, default_value=0.0)\n",
        "\n",
        "#min_child_weight 1 to 100\n",
        "min_child_weight = UniformIntegerHyperparameter(\"min_child_weight\", 1, 50, default_value=1)\n",
        "\n",
        "#max_delta_step  0 to 50\n",
        "max_delta_step  = UniformIntegerHyperparameter(\"max_delta_step \", 0, 50, default_value=0)\n",
        "\n",
        "#subsample 0.1 to 1\n",
        "subsample = UniformFloatHyperparameter(\"subsample\", 0.0, 1.0, default_value=1.0)\n",
        "\n",
        "#add all to configuration\n",
        "cs.add_hyperparameters([max_depth, learning_rate, n_estimators, gamma, min_child_weight, max_delta_step, subsample])\n",
        "\n",
        "def xgbclassifier_from_cfg(cfg):\n",
        "    print(cfg)\n",
        "    \n",
        "    cfg = {k : cfg[k] for k in cfg if cfg[k]}\n",
        "    \n",
        "    X, y = splice.get_data(target=splice.default_target_attribute)\n",
        "    \n",
        "    xgbc = XGBClassifier(**cfg, random_state=42)\n",
        "    scores = cross_val_score(xgbc, X, y, cv=5)\n",
        "    print(np.mean(scores))\n",
        "    return 1-np.mean(scores)  # Minimize!\n",
        "\n",
        "# Scenario object\n",
        "scenario = Scenario({\"run_obj\": \"quality\",   # we optimize quality (alternatively runtime)\n",
        "                     \"runcount-limit\": 20,  # maximum function evaluations\n",
        "                     \"cs\": cs,               # configuration space\n",
        "                     \"deterministic\": \"true\"\n",
        "                     })\n",
        "\n",
        "# Optimize, using a SMAC-object\n",
        "print(\"Optimizing! Depending on your machine, this might take a few minutes.\")\n",
        "smac = SMAC(scenario=scenario, rng=np.random.RandomState(42),\n",
        "        tae_runner=xgbclassifier_from_cfg)\n",
        "start = time.time()\n",
        "incumbent = smac.optimize()\n",
        "inc_value = xgbclassifier_from_cfg(incumbent)\n",
        "end = time.time()\n",
        "print(\"Optimized Value: %.5f\" % (1-inc_value))\n",
        "print(\"Best parameter : \", incumbent.get_dictionary())\n",
        "print(\"Time required in seconds :\", (end - start))"
      ],
      "execution_count": 0,
      "outputs": [
        {
          "output_type": "stream",
          "text": [
            "Optimizing! Depending on your machine, this might take a few minutes.\n",
            "Configuration:\n",
            "  gamma, Value: 0.0\n",
            "  learning_rate, Value: 0.1\n",
            "  max_delta_step , Value: 0\n",
            "  max_depth, Value: 3\n",
            "  min_child_weight, Value: 1\n",
            "  n_estimators, Value: 100\n",
            "  subsample, Value: 1.0\n",
            "\n"
          ],
          "name": "stdout"
        },
        {
          "output_type": "stream",
          "text": [
            "/usr/local/lib/python3.6/dist-packages/sklearn/preprocessing/label.py:151: DeprecationWarning: The truth value of an empty array is ambiguous. Returning False, but in future this will result in an error. Use `array.size > 0` to check that an array is not empty.\n",
            "  if diff:\n",
            "/usr/local/lib/python3.6/dist-packages/sklearn/preprocessing/label.py:151: DeprecationWarning: The truth value of an empty array is ambiguous. Returning False, but in future this will result in an error. Use `array.size > 0` to check that an array is not empty.\n",
            "  if diff:\n",
            "/usr/local/lib/python3.6/dist-packages/sklearn/preprocessing/label.py:151: DeprecationWarning: The truth value of an empty array is ambiguous. Returning False, but in future this will result in an error. Use `array.size > 0` to check that an array is not empty.\n",
            "  if diff:\n",
            "/usr/local/lib/python3.6/dist-packages/sklearn/preprocessing/label.py:151: DeprecationWarning: The truth value of an empty array is ambiguous. Returning False, but in future this will result in an error. Use `array.size > 0` to check that an array is not empty.\n",
            "  if diff:\n",
            "/usr/local/lib/python3.6/dist-packages/sklearn/preprocessing/label.py:151: DeprecationWarning: The truth value of an empty array is ambiguous. Returning False, but in future this will result in an error. Use `array.size > 0` to check that an array is not empty.\n",
            "  if diff:\n"
          ],
          "name": "stderr"
        },
        {
          "output_type": "stream",
          "text": [
            "0.9589311410930783\n",
            "Configuration:\n",
            "  gamma, Value: 0.9502929219898029\n",
            "  learning_rate, Value: 0.5607222058491671\n",
            "  max_delta_step , Value: 39\n",
            "  max_depth, Value: 4\n",
            "  min_child_weight, Value: 33\n",
            "  n_estimators, Value: 393\n",
            "  subsample, Value: 0.20925721868698854\n",
            "\n"
          ],
          "name": "stdout"
        },
        {
          "output_type": "stream",
          "text": [
            "/usr/local/lib/python3.6/dist-packages/sklearn/preprocessing/label.py:151: DeprecationWarning: The truth value of an empty array is ambiguous. Returning False, but in future this will result in an error. Use `array.size > 0` to check that an array is not empty.\n",
            "  if diff:\n",
            "/usr/local/lib/python3.6/dist-packages/sklearn/preprocessing/label.py:151: DeprecationWarning: The truth value of an empty array is ambiguous. Returning False, but in future this will result in an error. Use `array.size > 0` to check that an array is not empty.\n",
            "  if diff:\n",
            "/usr/local/lib/python3.6/dist-packages/sklearn/preprocessing/label.py:151: DeprecationWarning: The truth value of an empty array is ambiguous. Returning False, but in future this will result in an error. Use `array.size > 0` to check that an array is not empty.\n",
            "  if diff:\n",
            "/usr/local/lib/python3.6/dist-packages/sklearn/preprocessing/label.py:151: DeprecationWarning: The truth value of an empty array is ambiguous. Returning False, but in future this will result in an error. Use `array.size > 0` to check that an array is not empty.\n",
            "  if diff:\n",
            "/usr/local/lib/python3.6/dist-packages/sklearn/preprocessing/label.py:151: DeprecationWarning: The truth value of an empty array is ambiguous. Returning False, but in future this will result in an error. Use `array.size > 0` to check that an array is not empty.\n",
            "  if diff:\n"
          ],
          "name": "stderr"
        },
        {
          "output_type": "stream",
          "text": [
            "0.9304054256527717\n",
            "Configuration:\n",
            "  gamma, Value: 0.9494840671337647\n",
            "  learning_rate, Value: 0.12263054541216019\n",
            "  max_delta_step , Value: 33\n",
            "  max_depth, Value: 8\n",
            "  min_child_weight, Value: 27\n",
            "  n_estimators, Value: 317\n",
            "  subsample, Value: 0.2645617534245237\n",
            "\n"
          ],
          "name": "stdout"
        },
        {
          "output_type": "stream",
          "text": [
            "/usr/local/lib/python3.6/dist-packages/sklearn/preprocessing/label.py:151: DeprecationWarning: The truth value of an empty array is ambiguous. Returning False, but in future this will result in an error. Use `array.size > 0` to check that an array is not empty.\n",
            "  if diff:\n",
            "/usr/local/lib/python3.6/dist-packages/sklearn/preprocessing/label.py:151: DeprecationWarning: The truth value of an empty array is ambiguous. Returning False, but in future this will result in an error. Use `array.size > 0` to check that an array is not empty.\n",
            "  if diff:\n",
            "/usr/local/lib/python3.6/dist-packages/sklearn/preprocessing/label.py:151: DeprecationWarning: The truth value of an empty array is ambiguous. Returning False, but in future this will result in an error. Use `array.size > 0` to check that an array is not empty.\n",
            "  if diff:\n",
            "/usr/local/lib/python3.6/dist-packages/sklearn/preprocessing/label.py:151: DeprecationWarning: The truth value of an empty array is ambiguous. Returning False, but in future this will result in an error. Use `array.size > 0` to check that an array is not empty.\n",
            "  if diff:\n",
            "/usr/local/lib/python3.6/dist-packages/sklearn/preprocessing/label.py:151: DeprecationWarning: The truth value of an empty array is ambiguous. Returning False, but in future this will result in an error. Use `array.size > 0` to check that an array is not empty.\n",
            "  if diff:\n"
          ],
          "name": "stderr"
        },
        {
          "output_type": "stream",
          "text": [
            "0.9448250224146983\n",
            "Configuration:\n",
            "  gamma, Value: 0.6049761627894861\n",
            "  learning_rate, Value: 0.7651511513060467\n",
            "  max_delta_step , Value: 47\n",
            "  max_depth, Value: 8\n",
            "  min_child_weight, Value: 36\n",
            "  n_estimators, Value: 257\n",
            "  subsample, Value: 0.7497175863384331\n",
            "\n"
          ],
          "name": "stdout"
        },
        {
          "output_type": "stream",
          "text": [
            "/usr/local/lib/python3.6/dist-packages/sklearn/preprocessing/label.py:151: DeprecationWarning: The truth value of an empty array is ambiguous. Returning False, but in future this will result in an error. Use `array.size > 0` to check that an array is not empty.\n",
            "  if diff:\n",
            "/usr/local/lib/python3.6/dist-packages/sklearn/preprocessing/label.py:151: DeprecationWarning: The truth value of an empty array is ambiguous. Returning False, but in future this will result in an error. Use `array.size > 0` to check that an array is not empty.\n",
            "  if diff:\n",
            "/usr/local/lib/python3.6/dist-packages/sklearn/preprocessing/label.py:151: DeprecationWarning: The truth value of an empty array is ambiguous. Returning False, but in future this will result in an error. Use `array.size > 0` to check that an array is not empty.\n",
            "  if diff:\n",
            "/usr/local/lib/python3.6/dist-packages/sklearn/preprocessing/label.py:151: DeprecationWarning: The truth value of an empty array is ambiguous. Returning False, but in future this will result in an error. Use `array.size > 0` to check that an array is not empty.\n",
            "  if diff:\n",
            "/usr/local/lib/python3.6/dist-packages/sklearn/preprocessing/label.py:151: DeprecationWarning: The truth value of an empty array is ambiguous. Returning False, but in future this will result in an error. Use `array.size > 0` to check that an array is not empty.\n",
            "  if diff:\n"
          ],
          "name": "stderr"
        },
        {
          "output_type": "stream",
          "text": [
            "0.9510965895271731\n",
            "Configuration:\n",
            "  gamma, Value: 0.15867921112231842\n",
            "  learning_rate, Value: 0.3534931928833193\n",
            "  max_delta_step , Value: 25\n",
            "  max_depth, Value: 8\n",
            "  min_child_weight, Value: 23\n",
            "  n_estimators, Value: 285\n",
            "  subsample, Value: 0.15887465732563533\n",
            "\n"
          ],
          "name": "stdout"
        },
        {
          "output_type": "stream",
          "text": [
            "/usr/local/lib/python3.6/dist-packages/sklearn/preprocessing/label.py:151: DeprecationWarning: The truth value of an empty array is ambiguous. Returning False, but in future this will result in an error. Use `array.size > 0` to check that an array is not empty.\n",
            "  if diff:\n",
            "/usr/local/lib/python3.6/dist-packages/sklearn/preprocessing/label.py:151: DeprecationWarning: The truth value of an empty array is ambiguous. Returning False, but in future this will result in an error. Use `array.size > 0` to check that an array is not empty.\n",
            "  if diff:\n",
            "/usr/local/lib/python3.6/dist-packages/sklearn/preprocessing/label.py:151: DeprecationWarning: The truth value of an empty array is ambiguous. Returning False, but in future this will result in an error. Use `array.size > 0` to check that an array is not empty.\n",
            "  if diff:\n",
            "/usr/local/lib/python3.6/dist-packages/sklearn/preprocessing/label.py:151: DeprecationWarning: The truth value of an empty array is ambiguous. Returning False, but in future this will result in an error. Use `array.size > 0` to check that an array is not empty.\n",
            "  if diff:\n",
            "/usr/local/lib/python3.6/dist-packages/sklearn/preprocessing/label.py:151: DeprecationWarning: The truth value of an empty array is ambiguous. Returning False, but in future this will result in an error. Use `array.size > 0` to check that an array is not empty.\n",
            "  if diff:\n"
          ],
          "name": "stderr"
        },
        {
          "output_type": "stream",
          "text": [
            "0.9420051775356015\n",
            "Configuration:\n",
            "  gamma, Value: 0.18952652599586173\n",
            "  learning_rate, Value: 0.26372777627174043\n",
            "  max_delta_step , Value: 29\n",
            "  max_depth, Value: 8\n",
            "  min_child_weight, Value: 3\n",
            "  n_estimators, Value: 381\n",
            "  subsample, Value: 0.5419535486527898\n",
            "\n"
          ],
          "name": "stdout"
        },
        {
          "output_type": "stream",
          "text": [
            "/usr/local/lib/python3.6/dist-packages/sklearn/preprocessing/label.py:151: DeprecationWarning: The truth value of an empty array is ambiguous. Returning False, but in future this will result in an error. Use `array.size > 0` to check that an array is not empty.\n",
            "  if diff:\n",
            "/usr/local/lib/python3.6/dist-packages/sklearn/preprocessing/label.py:151: DeprecationWarning: The truth value of an empty array is ambiguous. Returning False, but in future this will result in an error. Use `array.size > 0` to check that an array is not empty.\n",
            "  if diff:\n",
            "/usr/local/lib/python3.6/dist-packages/sklearn/preprocessing/label.py:151: DeprecationWarning: The truth value of an empty array is ambiguous. Returning False, but in future this will result in an error. Use `array.size > 0` to check that an array is not empty.\n",
            "  if diff:\n",
            "/usr/local/lib/python3.6/dist-packages/sklearn/preprocessing/label.py:151: DeprecationWarning: The truth value of an empty array is ambiguous. Returning False, but in future this will result in an error. Use `array.size > 0` to check that an array is not empty.\n",
            "  if diff:\n",
            "/usr/local/lib/python3.6/dist-packages/sklearn/preprocessing/label.py:151: DeprecationWarning: The truth value of an empty array is ambiguous. Returning False, but in future this will result in an error. Use `array.size > 0` to check that an array is not empty.\n",
            "  if diff:\n"
          ],
          "name": "stderr"
        },
        {
          "output_type": "stream",
          "text": [
            "0.9554872819772562\n",
            "Configuration:\n",
            "  gamma, Value: 0.9816211156765089\n",
            "  learning_rate, Value: 0.41190658420121035\n",
            "  max_delta_step , Value: 12\n",
            "  max_depth, Value: 3\n",
            "  min_child_weight, Value: 15\n",
            "  n_estimators, Value: 271\n",
            "  subsample, Value: 0.15485890977669914\n",
            "\n"
          ],
          "name": "stdout"
        },
        {
          "output_type": "stream",
          "text": [
            "/usr/local/lib/python3.6/dist-packages/sklearn/preprocessing/label.py:151: DeprecationWarning: The truth value of an empty array is ambiguous. Returning False, but in future this will result in an error. Use `array.size > 0` to check that an array is not empty.\n",
            "  if diff:\n",
            "/usr/local/lib/python3.6/dist-packages/sklearn/preprocessing/label.py:151: DeprecationWarning: The truth value of an empty array is ambiguous. Returning False, but in future this will result in an error. Use `array.size > 0` to check that an array is not empty.\n",
            "  if diff:\n",
            "/usr/local/lib/python3.6/dist-packages/sklearn/preprocessing/label.py:151: DeprecationWarning: The truth value of an empty array is ambiguous. Returning False, but in future this will result in an error. Use `array.size > 0` to check that an array is not empty.\n",
            "  if diff:\n",
            "/usr/local/lib/python3.6/dist-packages/sklearn/preprocessing/label.py:151: DeprecationWarning: The truth value of an empty array is ambiguous. Returning False, but in future this will result in an error. Use `array.size > 0` to check that an array is not empty.\n",
            "  if diff:\n",
            "/usr/local/lib/python3.6/dist-packages/sklearn/preprocessing/label.py:151: DeprecationWarning: The truth value of an empty array is ambiguous. Returning False, but in future this will result in an error. Use `array.size > 0` to check that an array is not empty.\n",
            "  if diff:\n"
          ],
          "name": "stderr"
        },
        {
          "output_type": "stream",
          "text": [
            "0.9410632623079719\n",
            "Configuration:\n",
            "  gamma, Value: 0.5526679941468379\n",
            "  learning_rate, Value: 0.07843877303201902\n",
            "  max_delta_step , Value: 6\n",
            "  max_depth, Value: 6\n",
            "  min_child_weight, Value: 19\n",
            "  n_estimators, Value: 234\n",
            "  subsample, Value: 0.6221714544323198\n",
            "\n"
          ],
          "name": "stdout"
        },
        {
          "output_type": "stream",
          "text": [
            "/usr/local/lib/python3.6/dist-packages/sklearn/preprocessing/label.py:151: DeprecationWarning: The truth value of an empty array is ambiguous. Returning False, but in future this will result in an error. Use `array.size > 0` to check that an array is not empty.\n",
            "  if diff:\n",
            "/usr/local/lib/python3.6/dist-packages/sklearn/preprocessing/label.py:151: DeprecationWarning: The truth value of an empty array is ambiguous. Returning False, but in future this will result in an error. Use `array.size > 0` to check that an array is not empty.\n",
            "  if diff:\n",
            "/usr/local/lib/python3.6/dist-packages/sklearn/preprocessing/label.py:151: DeprecationWarning: The truth value of an empty array is ambiguous. Returning False, but in future this will result in an error. Use `array.size > 0` to check that an array is not empty.\n",
            "  if diff:\n",
            "/usr/local/lib/python3.6/dist-packages/sklearn/preprocessing/label.py:151: DeprecationWarning: The truth value of an empty array is ambiguous. Returning False, but in future this will result in an error. Use `array.size > 0` to check that an array is not empty.\n",
            "  if diff:\n",
            "/usr/local/lib/python3.6/dist-packages/sklearn/preprocessing/label.py:151: DeprecationWarning: The truth value of an empty array is ambiguous. Returning False, but in future this will result in an error. Use `array.size > 0` to check that an array is not empty.\n",
            "  if diff:\n"
          ],
          "name": "stderr"
        },
        {
          "output_type": "stream",
          "text": [
            "0.9589345797629985\n",
            "Configuration:\n",
            "  gamma, Value: 0.0546348205656082\n",
            "  learning_rate, Value: 0.527105331921316\n",
            "  max_delta_step , Value: 43\n",
            "  max_depth, Value: 5\n",
            "  min_child_weight, Value: 50\n",
            "  n_estimators, Value: 60\n",
            "  subsample, Value: 0.7575719666202708\n",
            "\n"
          ],
          "name": "stdout"
        },
        {
          "output_type": "stream",
          "text": [
            "/usr/local/lib/python3.6/dist-packages/sklearn/preprocessing/label.py:151: DeprecationWarning: The truth value of an empty array is ambiguous. Returning False, but in future this will result in an error. Use `array.size > 0` to check that an array is not empty.\n",
            "  if diff:\n",
            "/usr/local/lib/python3.6/dist-packages/sklearn/preprocessing/label.py:151: DeprecationWarning: The truth value of an empty array is ambiguous. Returning False, but in future this will result in an error. Use `array.size > 0` to check that an array is not empty.\n",
            "  if diff:\n",
            "/usr/local/lib/python3.6/dist-packages/sklearn/preprocessing/label.py:151: DeprecationWarning: The truth value of an empty array is ambiguous. Returning False, but in future this will result in an error. Use `array.size > 0` to check that an array is not empty.\n",
            "  if diff:\n",
            "/usr/local/lib/python3.6/dist-packages/sklearn/preprocessing/label.py:151: DeprecationWarning: The truth value of an empty array is ambiguous. Returning False, but in future this will result in an error. Use `array.size > 0` to check that an array is not empty.\n",
            "  if diff:\n",
            "/usr/local/lib/python3.6/dist-packages/sklearn/preprocessing/label.py:151: DeprecationWarning: The truth value of an empty array is ambiguous. Returning False, but in future this will result in an error. Use `array.size > 0` to check that an array is not empty.\n",
            "  if diff:\n"
          ],
          "name": "stderr"
        },
        {
          "output_type": "stream",
          "text": [
            "0.9473308955512522\n",
            "Configuration:\n",
            "  gamma, Value: 0.8471045843015826\n",
            "  learning_rate, Value: 0.17199567915644767\n",
            "  max_delta_step , Value: 2\n",
            "  max_depth, Value: 5\n",
            "  min_child_weight, Value: 20\n",
            "  n_estimators, Value: 130\n",
            "  subsample, Value: 0.9091289280263428\n",
            "\n"
          ],
          "name": "stdout"
        },
        {
          "output_type": "stream",
          "text": [
            "/usr/local/lib/python3.6/dist-packages/sklearn/preprocessing/label.py:151: DeprecationWarning: The truth value of an empty array is ambiguous. Returning False, but in future this will result in an error. Use `array.size > 0` to check that an array is not empty.\n",
            "  if diff:\n",
            "/usr/local/lib/python3.6/dist-packages/sklearn/preprocessing/label.py:151: DeprecationWarning: The truth value of an empty array is ambiguous. Returning False, but in future this will result in an error. Use `array.size > 0` to check that an array is not empty.\n",
            "  if diff:\n",
            "/usr/local/lib/python3.6/dist-packages/sklearn/preprocessing/label.py:151: DeprecationWarning: The truth value of an empty array is ambiguous. Returning False, but in future this will result in an error. Use `array.size > 0` to check that an array is not empty.\n",
            "  if diff:\n",
            "/usr/local/lib/python3.6/dist-packages/sklearn/preprocessing/label.py:151: DeprecationWarning: The truth value of an empty array is ambiguous. Returning False, but in future this will result in an error. Use `array.size > 0` to check that an array is not empty.\n",
            "  if diff:\n",
            "/usr/local/lib/python3.6/dist-packages/sklearn/preprocessing/label.py:151: DeprecationWarning: The truth value of an empty array is ambiguous. Returning False, but in future this will result in an error. Use `array.size > 0` to check that an array is not empty.\n",
            "  if diff:\n"
          ],
          "name": "stderr"
        },
        {
          "output_type": "stream",
          "text": [
            "0.95925100901858\n",
            "Configuration:\n",
            "  gamma, Value: 0.37300343576133377\n",
            "  learning_rate, Value: 0.9029761665978346\n",
            "  max_delta_step , Value: 49\n",
            "  max_depth, Value: 7\n",
            "  min_child_weight, Value: 11\n",
            "  n_estimators, Value: 142\n",
            "  subsample, Value: 0.4347155929436214\n",
            "\n"
          ],
          "name": "stdout"
        },
        {
          "output_type": "stream",
          "text": [
            "/usr/local/lib/python3.6/dist-packages/sklearn/preprocessing/label.py:151: DeprecationWarning: The truth value of an empty array is ambiguous. Returning False, but in future this will result in an error. Use `array.size > 0` to check that an array is not empty.\n",
            "  if diff:\n",
            "/usr/local/lib/python3.6/dist-packages/sklearn/preprocessing/label.py:151: DeprecationWarning: The truth value of an empty array is ambiguous. Returning False, but in future this will result in an error. Use `array.size > 0` to check that an array is not empty.\n",
            "  if diff:\n",
            "/usr/local/lib/python3.6/dist-packages/sklearn/preprocessing/label.py:151: DeprecationWarning: The truth value of an empty array is ambiguous. Returning False, but in future this will result in an error. Use `array.size > 0` to check that an array is not empty.\n",
            "  if diff:\n",
            "/usr/local/lib/python3.6/dist-packages/sklearn/preprocessing/label.py:151: DeprecationWarning: The truth value of an empty array is ambiguous. Returning False, but in future this will result in an error. Use `array.size > 0` to check that an array is not empty.\n",
            "  if diff:\n",
            "/usr/local/lib/python3.6/dist-packages/sklearn/preprocessing/label.py:151: DeprecationWarning: The truth value of an empty array is ambiguous. Returning False, but in future this will result in an error. Use `array.size > 0` to check that an array is not empty.\n",
            "  if diff:\n"
          ],
          "name": "stderr"
        },
        {
          "output_type": "stream",
          "text": [
            "0.9489036977346142\n",
            "Configuration:\n",
            "  gamma, Value: 0.8959891815487098\n",
            "  learning_rate, Value: 0.7996862634398139\n",
            "  max_delta_step , Value: 1\n",
            "  max_depth, Value: 5\n",
            "  min_child_weight, Value: 11\n",
            "  n_estimators, Value: 29\n",
            "  subsample, Value: 0.3161889918893641\n",
            "\n"
          ],
          "name": "stdout"
        },
        {
          "output_type": "stream",
          "text": [
            "/usr/local/lib/python3.6/dist-packages/sklearn/preprocessing/label.py:151: DeprecationWarning: The truth value of an empty array is ambiguous. Returning False, but in future this will result in an error. Use `array.size > 0` to check that an array is not empty.\n",
            "  if diff:\n",
            "/usr/local/lib/python3.6/dist-packages/sklearn/preprocessing/label.py:151: DeprecationWarning: The truth value of an empty array is ambiguous. Returning False, but in future this will result in an error. Use `array.size > 0` to check that an array is not empty.\n",
            "  if diff:\n",
            "/usr/local/lib/python3.6/dist-packages/sklearn/preprocessing/label.py:151: DeprecationWarning: The truth value of an empty array is ambiguous. Returning False, but in future this will result in an error. Use `array.size > 0` to check that an array is not empty.\n",
            "  if diff:\n",
            "/usr/local/lib/python3.6/dist-packages/sklearn/preprocessing/label.py:151: DeprecationWarning: The truth value of an empty array is ambiguous. Returning False, but in future this will result in an error. Use `array.size > 0` to check that an array is not empty.\n",
            "  if diff:\n",
            "/usr/local/lib/python3.6/dist-packages/sklearn/preprocessing/label.py:151: DeprecationWarning: The truth value of an empty array is ambiguous. Returning False, but in future this will result in an error. Use `array.size > 0` to check that an array is not empty.\n",
            "  if diff:\n"
          ],
          "name": "stderr"
        },
        {
          "output_type": "stream",
          "text": [
            "0.9520424324628861\n",
            "Configuration:\n",
            "  gamma, Value: 0.2719612839985093\n",
            "  learning_rate, Value: 0.943746547304732\n",
            "  max_delta_step , Value: 33\n",
            "  max_depth, Value: 1\n",
            "  min_child_weight, Value: 12\n",
            "  n_estimators, Value: 258\n",
            "  subsample, Value: 0.15655850960472006\n",
            "\n"
          ],
          "name": "stdout"
        },
        {
          "output_type": "stream",
          "text": [
            "/usr/local/lib/python3.6/dist-packages/sklearn/preprocessing/label.py:151: DeprecationWarning: The truth value of an empty array is ambiguous. Returning False, but in future this will result in an error. Use `array.size > 0` to check that an array is not empty.\n",
            "  if diff:\n",
            "/usr/local/lib/python3.6/dist-packages/sklearn/preprocessing/label.py:151: DeprecationWarning: The truth value of an empty array is ambiguous. Returning False, but in future this will result in an error. Use `array.size > 0` to check that an array is not empty.\n",
            "  if diff:\n",
            "/usr/local/lib/python3.6/dist-packages/sklearn/preprocessing/label.py:151: DeprecationWarning: The truth value of an empty array is ambiguous. Returning False, but in future this will result in an error. Use `array.size > 0` to check that an array is not empty.\n",
            "  if diff:\n",
            "/usr/local/lib/python3.6/dist-packages/sklearn/preprocessing/label.py:151: DeprecationWarning: The truth value of an empty array is ambiguous. Returning False, but in future this will result in an error. Use `array.size > 0` to check that an array is not empty.\n",
            "  if diff:\n",
            "/usr/local/lib/python3.6/dist-packages/sklearn/preprocessing/label.py:151: DeprecationWarning: The truth value of an empty array is ambiguous. Returning False, but in future this will result in an error. Use `array.size > 0` to check that an array is not empty.\n",
            "  if diff:\n"
          ],
          "name": "stderr"
        },
        {
          "output_type": "stream",
          "text": [
            "0.9238267625973169\n",
            "Configuration:\n",
            "  gamma, Value: 0.511779249784858\n",
            "  learning_rate, Value: 0.05632229804937057\n",
            "  max_delta_step , Value: 1\n",
            "  max_depth, Value: 4\n",
            "  min_child_weight, Value: 9\n",
            "  n_estimators, Value: 177\n",
            "  subsample, Value: 0.45356315021265603\n",
            "\n"
          ],
          "name": "stdout"
        },
        {
          "output_type": "stream",
          "text": [
            "/usr/local/lib/python3.6/dist-packages/sklearn/preprocessing/label.py:151: DeprecationWarning: The truth value of an empty array is ambiguous. Returning False, but in future this will result in an error. Use `array.size > 0` to check that an array is not empty.\n",
            "  if diff:\n",
            "/usr/local/lib/python3.6/dist-packages/sklearn/preprocessing/label.py:151: DeprecationWarning: The truth value of an empty array is ambiguous. Returning False, but in future this will result in an error. Use `array.size > 0` to check that an array is not empty.\n",
            "  if diff:\n",
            "/usr/local/lib/python3.6/dist-packages/sklearn/preprocessing/label.py:151: DeprecationWarning: The truth value of an empty array is ambiguous. Returning False, but in future this will result in an error. Use `array.size > 0` to check that an array is not empty.\n",
            "  if diff:\n",
            "/usr/local/lib/python3.6/dist-packages/sklearn/preprocessing/label.py:151: DeprecationWarning: The truth value of an empty array is ambiguous. Returning False, but in future this will result in an error. Use `array.size > 0` to check that an array is not empty.\n",
            "  if diff:\n",
            "/usr/local/lib/python3.6/dist-packages/sklearn/preprocessing/label.py:151: DeprecationWarning: The truth value of an empty array is ambiguous. Returning False, but in future this will result in an error. Use `array.size > 0` to check that an array is not empty.\n",
            "  if diff:\n"
          ],
          "name": "stderr"
        },
        {
          "output_type": "stream",
          "text": [
            "0.9592495342027014\n",
            "Configuration:\n",
            "  gamma, Value: 0.5236661018211719\n",
            "  learning_rate, Value: 0.3023594605111704\n",
            "  max_delta_step , Value: 32\n",
            "  max_depth, Value: 9\n",
            "  min_child_weight, Value: 43\n",
            "  n_estimators, Value: 388\n",
            "  subsample, Value: 0.233338245382816\n",
            "\n"
          ],
          "name": "stdout"
        },
        {
          "output_type": "stream",
          "text": [
            "/usr/local/lib/python3.6/dist-packages/sklearn/preprocessing/label.py:151: DeprecationWarning: The truth value of an empty array is ambiguous. Returning False, but in future this will result in an error. Use `array.size > 0` to check that an array is not empty.\n",
            "  if diff:\n",
            "/usr/local/lib/python3.6/dist-packages/sklearn/preprocessing/label.py:151: DeprecationWarning: The truth value of an empty array is ambiguous. Returning False, but in future this will result in an error. Use `array.size > 0` to check that an array is not empty.\n",
            "  if diff:\n",
            "/usr/local/lib/python3.6/dist-packages/sklearn/preprocessing/label.py:151: DeprecationWarning: The truth value of an empty array is ambiguous. Returning False, but in future this will result in an error. Use `array.size > 0` to check that an array is not empty.\n",
            "  if diff:\n",
            "/usr/local/lib/python3.6/dist-packages/sklearn/preprocessing/label.py:151: DeprecationWarning: The truth value of an empty array is ambiguous. Returning False, but in future this will result in an error. Use `array.size > 0` to check that an array is not empty.\n",
            "  if diff:\n",
            "/usr/local/lib/python3.6/dist-packages/sklearn/preprocessing/label.py:151: DeprecationWarning: The truth value of an empty array is ambiguous. Returning False, but in future this will result in an error. Use `array.size > 0` to check that an array is not empty.\n",
            "  if diff:\n"
          ],
          "name": "stderr"
        },
        {
          "output_type": "stream",
          "text": [
            "0.9304078770046992\n",
            "Configuration:\n",
            "  gamma, Value: 0.8883906387133728\n",
            "  learning_rate, Value: 0.10527653524640494\n",
            "  max_delta_step , Value: 5\n",
            "  max_depth, Value: 6\n",
            "  min_child_weight, Value: 21\n",
            "  n_estimators, Value: 265\n",
            "  subsample, Value: 0.3311433846088596\n",
            "\n"
          ],
          "name": "stdout"
        },
        {
          "output_type": "stream",
          "text": [
            "/usr/local/lib/python3.6/dist-packages/sklearn/preprocessing/label.py:151: DeprecationWarning: The truth value of an empty array is ambiguous. Returning False, but in future this will result in an error. Use `array.size > 0` to check that an array is not empty.\n",
            "  if diff:\n",
            "/usr/local/lib/python3.6/dist-packages/sklearn/preprocessing/label.py:151: DeprecationWarning: The truth value of an empty array is ambiguous. Returning False, but in future this will result in an error. Use `array.size > 0` to check that an array is not empty.\n",
            "  if diff:\n",
            "/usr/local/lib/python3.6/dist-packages/sklearn/preprocessing/label.py:151: DeprecationWarning: The truth value of an empty array is ambiguous. Returning False, but in future this will result in an error. Use `array.size > 0` to check that an array is not empty.\n",
            "  if diff:\n",
            "/usr/local/lib/python3.6/dist-packages/sklearn/preprocessing/label.py:151: DeprecationWarning: The truth value of an empty array is ambiguous. Returning False, but in future this will result in an error. Use `array.size > 0` to check that an array is not empty.\n",
            "  if diff:\n",
            "/usr/local/lib/python3.6/dist-packages/sklearn/preprocessing/label.py:151: DeprecationWarning: The truth value of an empty array is ambiguous. Returning False, but in future this will result in an error. Use `array.size > 0` to check that an array is not empty.\n",
            "  if diff:\n"
          ],
          "name": "stderr"
        },
        {
          "output_type": "stream",
          "text": [
            "0.9510960989487319\n",
            "Configuration:\n",
            "  gamma, Value: 0.19973623840118793\n",
            "  learning_rate, Value: 0.9818452561484889\n",
            "  max_delta_step , Value: 35\n",
            "  max_depth, Value: 7\n",
            "  min_child_weight, Value: 27\n",
            "  n_estimators, Value: 473\n",
            "  subsample, Value: 0.5749173928731734\n",
            "\n"
          ],
          "name": "stdout"
        },
        {
          "output_type": "stream",
          "text": [
            "/usr/local/lib/python3.6/dist-packages/sklearn/preprocessing/label.py:151: DeprecationWarning: The truth value of an empty array is ambiguous. Returning False, but in future this will result in an error. Use `array.size > 0` to check that an array is not empty.\n",
            "  if diff:\n",
            "/usr/local/lib/python3.6/dist-packages/sklearn/preprocessing/label.py:151: DeprecationWarning: The truth value of an empty array is ambiguous. Returning False, but in future this will result in an error. Use `array.size > 0` to check that an array is not empty.\n",
            "  if diff:\n",
            "/usr/local/lib/python3.6/dist-packages/sklearn/preprocessing/label.py:151: DeprecationWarning: The truth value of an empty array is ambiguous. Returning False, but in future this will result in an error. Use `array.size > 0` to check that an array is not empty.\n",
            "  if diff:\n",
            "/usr/local/lib/python3.6/dist-packages/sklearn/preprocessing/label.py:151: DeprecationWarning: The truth value of an empty array is ambiguous. Returning False, but in future this will result in an error. Use `array.size > 0` to check that an array is not empty.\n",
            "  if diff:\n",
            "/usr/local/lib/python3.6/dist-packages/sklearn/preprocessing/label.py:151: DeprecationWarning: The truth value of an empty array is ambiguous. Returning False, but in future this will result in an error. Use `array.size > 0` to check that an array is not empty.\n",
            "  if diff:\n"
          ],
          "name": "stderr"
        },
        {
          "output_type": "stream",
          "text": [
            "0.9492117809955871\n",
            "Configuration:\n",
            "  gamma, Value: 0.8756771388222394\n",
            "  learning_rate, Value: 0.10093839333112807\n",
            "  max_delta_step , Value: 1\n",
            "  max_depth, Value: 4\n",
            "  min_child_weight, Value: 4\n",
            "  n_estimators, Value: 457\n",
            "  subsample, Value: 0.7603726644787125\n",
            "\n"
          ],
          "name": "stdout"
        },
        {
          "output_type": "stream",
          "text": [
            "/usr/local/lib/python3.6/dist-packages/sklearn/preprocessing/label.py:151: DeprecationWarning: The truth value of an empty array is ambiguous. Returning False, but in future this will result in an error. Use `array.size > 0` to check that an array is not empty.\n",
            "  if diff:\n",
            "/usr/local/lib/python3.6/dist-packages/sklearn/preprocessing/label.py:151: DeprecationWarning: The truth value of an empty array is ambiguous. Returning False, but in future this will result in an error. Use `array.size > 0` to check that an array is not empty.\n",
            "  if diff:\n",
            "/usr/local/lib/python3.6/dist-packages/sklearn/preprocessing/label.py:151: DeprecationWarning: The truth value of an empty array is ambiguous. Returning False, but in future this will result in an error. Use `array.size > 0` to check that an array is not empty.\n",
            "  if diff:\n",
            "/usr/local/lib/python3.6/dist-packages/sklearn/preprocessing/label.py:151: DeprecationWarning: The truth value of an empty array is ambiguous. Returning False, but in future this will result in an error. Use `array.size > 0` to check that an array is not empty.\n",
            "  if diff:\n",
            "/usr/local/lib/python3.6/dist-packages/sklearn/preprocessing/label.py:151: DeprecationWarning: The truth value of an empty array is ambiguous. Returning False, but in future this will result in an error. Use `array.size > 0` to check that an array is not empty.\n",
            "  if diff:\n"
          ],
          "name": "stderr"
        },
        {
          "output_type": "stream",
          "text": [
            "0.9608179180995389\n",
            "Configuration:\n",
            "  gamma, Value: 0.9728252884513209\n",
            "  learning_rate, Value: 0.034712489778642434\n",
            "  max_delta_step , Value: 4\n",
            "  max_depth, Value: 6\n",
            "  min_child_weight, Value: 15\n",
            "  n_estimators, Value: 153\n",
            "  subsample, Value: 0.6742657086055155\n",
            "\n"
          ],
          "name": "stdout"
        },
        {
          "output_type": "stream",
          "text": [
            "/usr/local/lib/python3.6/dist-packages/sklearn/preprocessing/label.py:151: DeprecationWarning: The truth value of an empty array is ambiguous. Returning False, but in future this will result in an error. Use `array.size > 0` to check that an array is not empty.\n",
            "  if diff:\n",
            "/usr/local/lib/python3.6/dist-packages/sklearn/preprocessing/label.py:151: DeprecationWarning: The truth value of an empty array is ambiguous. Returning False, but in future this will result in an error. Use `array.size > 0` to check that an array is not empty.\n",
            "  if diff:\n",
            "/usr/local/lib/python3.6/dist-packages/sklearn/preprocessing/label.py:151: DeprecationWarning: The truth value of an empty array is ambiguous. Returning False, but in future this will result in an error. Use `array.size > 0` to check that an array is not empty.\n",
            "  if diff:\n",
            "/usr/local/lib/python3.6/dist-packages/sklearn/preprocessing/label.py:151: DeprecationWarning: The truth value of an empty array is ambiguous. Returning False, but in future this will result in an error. Use `array.size > 0` to check that an array is not empty.\n",
            "  if diff:\n",
            "/usr/local/lib/python3.6/dist-packages/sklearn/preprocessing/label.py:151: DeprecationWarning: The truth value of an empty array is ambiguous. Returning False, but in future this will result in an error. Use `array.size > 0` to check that an array is not empty.\n",
            "  if diff:\n"
          ],
          "name": "stderr"
        },
        {
          "output_type": "stream",
          "text": [
            "0.9570507508480173\n",
            "Configuration:\n",
            "  gamma, Value: 0.7213503976790632\n",
            "  learning_rate, Value: 0.06432805366020328\n",
            "  max_delta_step , Value: 5\n",
            "  max_depth, Value: 3\n",
            "  min_child_weight, Value: 2\n",
            "  n_estimators, Value: 427\n",
            "  subsample, Value: 0.47671679196010186\n",
            "\n"
          ],
          "name": "stdout"
        },
        {
          "output_type": "stream",
          "text": [
            "/usr/local/lib/python3.6/dist-packages/sklearn/preprocessing/label.py:151: DeprecationWarning: The truth value of an empty array is ambiguous. Returning False, but in future this will result in an error. Use `array.size > 0` to check that an array is not empty.\n",
            "  if diff:\n",
            "/usr/local/lib/python3.6/dist-packages/sklearn/preprocessing/label.py:151: DeprecationWarning: The truth value of an empty array is ambiguous. Returning False, but in future this will result in an error. Use `array.size > 0` to check that an array is not empty.\n",
            "  if diff:\n",
            "/usr/local/lib/python3.6/dist-packages/sklearn/preprocessing/label.py:151: DeprecationWarning: The truth value of an empty array is ambiguous. Returning False, but in future this will result in an error. Use `array.size > 0` to check that an array is not empty.\n",
            "  if diff:\n",
            "/usr/local/lib/python3.6/dist-packages/sklearn/preprocessing/label.py:151: DeprecationWarning: The truth value of an empty array is ambiguous. Returning False, but in future this will result in an error. Use `array.size > 0` to check that an array is not empty.\n",
            "  if diff:\n",
            "/usr/local/lib/python3.6/dist-packages/sklearn/preprocessing/label.py:151: DeprecationWarning: The truth value of an empty array is ambiguous. Returning False, but in future this will result in an error. Use `array.size > 0` to check that an array is not empty.\n",
            "  if diff:\n"
          ],
          "name": "stderr"
        },
        {
          "output_type": "stream",
          "text": [
            "0.9611323804205231\n",
            "Configuration:\n",
            "  gamma, Value: 0.7213503976790632\n",
            "  learning_rate, Value: 0.06432805366020328\n",
            "  max_delta_step , Value: 5\n",
            "  max_depth, Value: 3\n",
            "  min_child_weight, Value: 2\n",
            "  n_estimators, Value: 427\n",
            "  subsample, Value: 0.47671679196010186\n",
            "\n"
          ],
          "name": "stdout"
        },
        {
          "output_type": "stream",
          "text": [
            "/usr/local/lib/python3.6/dist-packages/sklearn/preprocessing/label.py:151: DeprecationWarning: The truth value of an empty array is ambiguous. Returning False, but in future this will result in an error. Use `array.size > 0` to check that an array is not empty.\n",
            "  if diff:\n",
            "/usr/local/lib/python3.6/dist-packages/sklearn/preprocessing/label.py:151: DeprecationWarning: The truth value of an empty array is ambiguous. Returning False, but in future this will result in an error. Use `array.size > 0` to check that an array is not empty.\n",
            "  if diff:\n",
            "/usr/local/lib/python3.6/dist-packages/sklearn/preprocessing/label.py:151: DeprecationWarning: The truth value of an empty array is ambiguous. Returning False, but in future this will result in an error. Use `array.size > 0` to check that an array is not empty.\n",
            "  if diff:\n",
            "/usr/local/lib/python3.6/dist-packages/sklearn/preprocessing/label.py:151: DeprecationWarning: The truth value of an empty array is ambiguous. Returning False, but in future this will result in an error. Use `array.size > 0` to check that an array is not empty.\n",
            "  if diff:\n"
          ],
          "name": "stderr"
        },
        {
          "output_type": "stream",
          "text": [
            "0.9611323804205231\n",
            "Optimized Value: 0.96113\n",
            "Best parameter :  {'gamma': 0.7213503976790632, 'learning_rate': 0.06432805366020328, 'max_delta_step ': 5, 'max_depth': 3, 'min_child_weight': 2, 'n_estimators': 427, 'subsample': 0.47671679196010186}\n",
            "Time required in seconds : 300.6217291355133\n"
          ],
          "name": "stdout"
        },
        {
          "output_type": "stream",
          "text": [
            "/usr/local/lib/python3.6/dist-packages/sklearn/preprocessing/label.py:151: DeprecationWarning: The truth value of an empty array is ambiguous. Returning False, but in future this will result in an error. Use `array.size > 0` to check that an array is not empty.\n",
            "  if diff:\n"
          ],
          "name": "stderr"
        }
      ]
    },
    {
      "metadata": {
        "id": "Dii-rh0hSpoJ",
        "colab_type": "text"
      },
      "cell_type": "markdown",
      "source": [
        "### Xgboost with SMAC on Adult Dataset (OpenML id : 179)"
      ]
    },
    {
      "metadata": {
        "id": "nMvSC40xSZEd",
        "colab_type": "code",
        "colab": {
          "base_uri": "https://localhost:8080/",
          "height": 3675
        },
        "outputId": "5edbc368-c7fd-4a5e-db3a-9611beb66bfe"
      },
      "cell_type": "code",
      "source": [
        "# We load Adult dataset from openml\n",
        "adult = oml.datasets.get_dataset(179)\n",
        "\n",
        "# Build Configuration Space which defines all parameters and their ranges\n",
        "cs = ConfigurationSpace()\n",
        "\n",
        "#max-depth 1 to 10\n",
        "max_depth = UniformIntegerHyperparameter(\"max_depth\", 1, 10, default_value=3)\n",
        "\n",
        "#learning rate 0.001 to 1\n",
        "learning_rate = UniformFloatHyperparameter(\"learning_rate\", 0.001, 1.0, default_value=0.1)\n",
        "\n",
        "#n_estimators 10 to 500\n",
        "n_estimators = UniformIntegerHyperparameter(\"n_estimators\", 10, 500, default_value=100)\n",
        "\n",
        "#gamma 0 to 1\n",
        "gamma = UniformFloatHyperparameter(\"gamma\", 0.0, 1.0, default_value=0.0)\n",
        "\n",
        "#min_child_weight 1 to 100\n",
        "min_child_weight = UniformIntegerHyperparameter(\"min_child_weight\", 1, 50, default_value=1)\n",
        "\n",
        "#max_delta_step  0 to 50\n",
        "max_delta_step  = UniformIntegerHyperparameter(\"max_delta_step \", 0, 50, default_value=0)\n",
        "\n",
        "#subsample 0.1 to 1\n",
        "subsample = UniformFloatHyperparameter(\"subsample\", 0.0, 1.0, default_value=1.0)\n",
        "\n",
        "#add all to configuration\n",
        "cs.add_hyperparameters([max_depth, learning_rate, n_estimators, gamma, min_child_weight, max_delta_step, subsample])\n",
        "\n",
        "def xgbclassifier_from_cfg(cfg):\n",
        "    print(cfg)\n",
        "    \n",
        "    cfg = {k : cfg[k] for k in cfg if cfg[k]}\n",
        "    \n",
        "    X, y = adult.get_data(target=adult.default_target_attribute)\n",
        "    \n",
        "    xgbc = XGBClassifier(**cfg, random_state=42)\n",
        "    scores = cross_val_score(xgbc, X, y, cv=5, scoring=\"roc_auc\")\n",
        "    print(np.mean(scores))\n",
        "    return 1-np.mean(scores)  # Minimize!\n",
        "\n",
        "# Scenario object\n",
        "scenario = Scenario({\"run_obj\": \"quality\",   # we optimize quality (alternatively runtime)\n",
        "                     \"runcount-limit\": 20,  # maximum function evaluations\n",
        "                     \"cs\": cs,               # configuration space\n",
        "                     \"deterministic\": \"true\"\n",
        "                     })\n",
        "\n",
        "# Optimize, using a SMAC-object\n",
        "print(\"Optimizing! Depending on your machine, this might take a few minutes.\")\n",
        "smac = SMAC(scenario=scenario, rng=np.random.RandomState(42),\n",
        "        tae_runner=xgbclassifier_from_cfg)\n",
        "start = time.time()\n",
        "incumbent = smac.optimize()\n",
        "inc_value = xgbclassifier_from_cfg(incumbent)\n",
        "end = time.time()\n",
        "print(\"Optimized Value: %.5f\" % (1-inc_value))\n",
        "print(\"Best parameter : \", incumbent.get_dictionary())\n",
        "print(\"Time required in seconds :\", (end - start))"
      ],
      "execution_count": 0,
      "outputs": [
        {
          "output_type": "stream",
          "text": [
            "Optimizing! Depending on your machine, this might take a few minutes.\n",
            "Configuration:\n",
            "  gamma, Value: 0.0\n",
            "  learning_rate, Value: 0.1\n",
            "  max_delta_step , Value: 0\n",
            "  max_depth, Value: 3\n",
            "  min_child_weight, Value: 1\n",
            "  n_estimators, Value: 100\n",
            "  subsample, Value: 1.0\n",
            "\n",
            "0.911016965531515\n",
            "Configuration:\n",
            "  gamma, Value: 0.08149316430306286\n",
            "  learning_rate, Value: 0.05169121736447841\n",
            "  max_delta_step , Value: 10\n",
            "  max_depth, Value: 5\n",
            "  min_child_weight, Value: 42\n",
            "  n_estimators, Value: 95\n",
            "  subsample, Value: 0.20540160693644838\n",
            "\n",
            "0.9067643995655047\n",
            "Configuration:\n",
            "  gamma, Value: 0.9494840671337647\n",
            "  learning_rate, Value: 0.12263054541216019\n",
            "  max_delta_step , Value: 33\n",
            "  max_depth, Value: 8\n",
            "  min_child_weight, Value: 27\n",
            "  n_estimators, Value: 317\n",
            "  subsample, Value: 0.2645617534245237\n",
            "\n",
            "0.9091058865104399\n",
            "Configuration:\n",
            "  gamma, Value: 0.269662435985783\n",
            "  learning_rate, Value: 0.5450664566415014\n",
            "  max_delta_step , Value: 50\n",
            "  max_depth, Value: 9\n",
            "  min_child_weight, Value: 37\n",
            "  n_estimators, Value: 459\n",
            "  subsample, Value: 0.30140320967775747\n",
            "\n",
            "0.8881873137223918\n",
            "Configuration:\n",
            "  gamma, Value: 0.15867921112231842\n",
            "  learning_rate, Value: 0.3534931928833193\n",
            "  max_delta_step , Value: 25\n",
            "  max_depth, Value: 8\n",
            "  min_child_weight, Value: 23\n",
            "  n_estimators, Value: 285\n",
            "  subsample, Value: 0.15887465732563533\n",
            "\n",
            "0.8976536594194224\n",
            "Configuration:\n",
            "  gamma, Value: 0.29435171732430687\n",
            "  learning_rate, Value: 0.44273459463481324\n",
            "  max_delta_step , Value: 34\n",
            "  max_depth, Value: 4\n",
            "  min_child_weight, Value: 25\n",
            "  n_estimators, Value: 121\n",
            "  subsample, Value: 0.17268201212818635\n",
            "\n",
            "0.9051698285622954\n",
            "Configuration:\n",
            "  gamma, Value: 0.9816211156765089\n",
            "  learning_rate, Value: 0.41190658420121035\n",
            "  max_delta_step , Value: 12\n",
            "  max_depth, Value: 3\n",
            "  min_child_weight, Value: 15\n",
            "  n_estimators, Value: 271\n",
            "  subsample, Value: 0.15485890977669914\n",
            "\n",
            "0.9039733334236967\n",
            "Configuration:\n",
            "  gamma, Value: 0.601373592039991\n",
            "  learning_rate, Value: 0.21564540721513936\n",
            "  max_delta_step , Value: 3\n",
            "  max_depth, Value: 5\n",
            "  min_child_weight, Value: 45\n",
            "  n_estimators, Value: 143\n",
            "  subsample, Value: 0.513347601538629\n",
            "\n",
            "0.9114077176433752\n",
            "Configuration:\n",
            "  gamma, Value: 0.0546348205656082\n",
            "  learning_rate, Value: 0.527105331921316\n",
            "  max_delta_step , Value: 43\n",
            "  max_depth, Value: 5\n",
            "  min_child_weight, Value: 50\n",
            "  n_estimators, Value: 60\n",
            "  subsample, Value: 0.7575719666202708\n",
            "\n",
            "0.9116976696019676\n",
            "Configuration:\n",
            "  gamma, Value: 0.9932546802350581\n",
            "  learning_rate, Value: 0.20269195602867363\n",
            "  max_delta_step , Value: 38\n",
            "  max_depth, Value: 7\n",
            "  min_child_weight, Value: 48\n",
            "  n_estimators, Value: 11\n",
            "  subsample, Value: 0.6372074318441021\n",
            "\n",
            "0.9049453167425572\n",
            "Configuration:\n",
            "  gamma, Value: 0.37300343576133377\n",
            "  learning_rate, Value: 0.9029761665978346\n",
            "  max_delta_step , Value: 49\n",
            "  max_depth, Value: 7\n",
            "  min_child_weight, Value: 11\n",
            "  n_estimators, Value: 142\n",
            "  subsample, Value: 0.4347155929436214\n",
            "\n",
            "0.8762692243018627\n",
            "Configuration:\n",
            "  gamma, Value: 0.004438269076857182\n",
            "  learning_rate, Value: 0.6103495083505427\n",
            "  max_delta_step , Value: 43\n",
            "  max_depth, Value: 5\n",
            "  min_child_weight, Value: 28\n",
            "  n_estimators, Value: 50\n",
            "  subsample, Value: 0.8348772646696188\n",
            "\n",
            "0.9109444216521562\n",
            "Configuration:\n",
            "  gamma, Value: 0.2719612839985093\n",
            "  learning_rate, Value: 0.943746547304732\n",
            "  max_delta_step , Value: 33\n",
            "  max_depth, Value: 1\n",
            "  min_child_weight, Value: 12\n",
            "  n_estimators, Value: 258\n",
            "  subsample, Value: 0.15655850960472006\n",
            "\n",
            "0.90926104049068\n",
            "Configuration:\n",
            "  gamma, Value: 0.04251274764589774\n",
            "  learning_rate, Value: 0.504733199560917\n",
            "  max_delta_step , Value: 11\n",
            "  max_depth, Value: 3\n",
            "  min_child_weight, Value: 9\n",
            "  n_estimators, Value: 215\n",
            "  subsample, Value: 0.6703039665148879\n",
            "\n",
            "0.9099502555450802\n",
            "Configuration:\n",
            "  gamma, Value: 0.5236661018211719\n",
            "  learning_rate, Value: 0.3023594605111704\n",
            "  max_delta_step , Value: 32\n",
            "  max_depth, Value: 9\n",
            "  min_child_weight, Value: 43\n",
            "  n_estimators, Value: 388\n",
            "  subsample, Value: 0.233338245382816\n",
            "\n",
            "0.9023850384489659\n",
            "Configuration:\n",
            "  gamma, Value: 0.04697938451322514\n",
            "  learning_rate, Value: 0.6628536970094043\n",
            "  max_delta_step , Value: 50\n",
            "  max_depth, Value: 5\n",
            "  min_child_weight, Value: 46\n",
            "  n_estimators, Value: 267\n",
            "  subsample, Value: 0.7229760484881756\n",
            "\n",
            "0.9038762746878934\n",
            "Configuration:\n",
            "  gamma, Value: 0.19973623840118793\n",
            "  learning_rate, Value: 0.9818452561484889\n",
            "  max_delta_step , Value: 35\n",
            "  max_depth, Value: 7\n",
            "  min_child_weight, Value: 27\n",
            "  n_estimators, Value: 473\n",
            "  subsample, Value: 0.5749173928731734\n",
            "\n",
            "0.8752701613571429\n",
            "Configuration:\n",
            "  gamma, Value: 0.7769086177508642\n",
            "  learning_rate, Value: 0.7777102680292823\n",
            "  max_delta_step , Value: 20\n",
            "  max_depth, Value: 6\n",
            "  min_child_weight, Value: 7\n",
            "  n_estimators, Value: 276\n",
            "  subsample, Value: 0.8334321387430736\n",
            "\n",
            "0.8900937700603408\n",
            "Configuration:\n",
            "  gamma, Value: 0.9728252884513209\n",
            "  learning_rate, Value: 0.034712489778642434\n",
            "  max_delta_step , Value: 4\n",
            "  max_depth, Value: 6\n",
            "  min_child_weight, Value: 15\n",
            "  n_estimators, Value: 153\n",
            "  subsample, Value: 0.6742657086055155\n",
            "\n",
            "0.9122717746411542\n",
            "Configuration:\n",
            "  gamma, Value: 0.33403597701940024\n",
            "  learning_rate, Value: 0.9069281868212873\n",
            "  max_delta_step , Value: 1\n",
            "  max_depth, Value: 5\n",
            "  min_child_weight, Value: 3\n",
            "  n_estimators, Value: 92\n",
            "  subsample, Value: 0.874022970888281\n",
            "\n",
            "0.8988763329612139\n",
            "Configuration:\n",
            "  gamma, Value: 0.9728252884513209\n",
            "  learning_rate, Value: 0.034712489778642434\n",
            "  max_delta_step , Value: 4\n",
            "  max_depth, Value: 6\n",
            "  min_child_weight, Value: 15\n",
            "  n_estimators, Value: 153\n",
            "  subsample, Value: 0.6742657086055155\n",
            "\n",
            "0.9122717746411542\n",
            "Optimized Value: 0.91227\n",
            "Best parameter :  {'gamma': 0.9728252884513209, 'learning_rate': 0.034712489778642434, 'max_delta_step ': 4, 'max_depth': 6, 'min_child_weight': 15, 'n_estimators': 153, 'subsample': 0.6742657086055155}\n",
            "Time required in seconds : 779.1603763103485\n"
          ],
          "name": "stdout"
        }
      ]
    },
    {
      "metadata": {
        "id": "8YpTAE1htKga",
        "colab_type": "text"
      },
      "cell_type": "markdown",
      "source": [
        "### SVM with SMAC on Kropt Dataset (OpenML id : 184)"
      ]
    },
    {
      "metadata": {
        "id": "C7ZZBtEhtsBp",
        "colab_type": "code",
        "colab": {}
      },
      "cell_type": "code",
      "source": [
        "# We load Kropt dataset from openml\n",
        "kropt = oml.datasets.get_dataset(184)\n",
        "\n",
        "# Build Configuration Space which defines all parameters and their ranges\n",
        "cs = ConfigurationSpace()\n",
        "\n",
        "# We define a few possible types of SVM-kernels and add them as \"kernel\" to our cs\n",
        "kernel = CategoricalHyperparameter(\"kernel\", [\"linear\", \"rbf\", \"poly\", \"sigmoid\"], default_value=\"poly\")\n",
        "cs.add_hyperparameter(kernel)\n",
        "\n",
        "# There are some hyperparameters shared by all kernels\n",
        "C = UniformFloatHyperparameter(\"C\", 0.001, 1000.0, default_value=1.0)\n",
        "shrinking = CategoricalHyperparameter(\"shrinking\", [\"true\", \"false\"], default_value=\"true\")\n",
        "cs.add_hyperparameters([C, shrinking])\n",
        "\n",
        "# Others are kernel-specific, so we can add conditions to limit the searchspace\n",
        "degree = UniformIntegerHyperparameter(\"degree\", 1, 5, default_value=3)     # Only used by kernel poly\n",
        "coef0 = UniformFloatHyperparameter(\"coef0\", 0.0, 10.0, default_value=0.0)  # poly, sigmoid\n",
        "cs.add_hyperparameters([degree, coef0])\n",
        "use_degree = InCondition(child=degree, parent=kernel, values=[\"poly\"])\n",
        "use_coef0 = InCondition(child=coef0, parent=kernel, values=[\"poly\", \"sigmoid\"])\n",
        "cs.add_conditions([use_degree, use_coef0])\n",
        "\n",
        "# This also works for parameters that are a mix of categorical and values from a range of numbers\n",
        "# For example, gamma can be either \"auto\" or a fixed float\n",
        "gamma = CategoricalHyperparameter(\"gamma\", [\"auto\", \"value\"], default_value=\"auto\")  # only rbf, poly, sigmoid\n",
        "gamma_value = UniformFloatHyperparameter(\"gamma_value\", 0.0001, 8, default_value=1)\n",
        "cs.add_hyperparameters([gamma, gamma_value])\n",
        "\n",
        "# We only activate gamma_value if gamma is set to \"value\"\n",
        "cs.add_condition(InCondition(child=gamma_value, parent=gamma, values=[\"value\"]))\n",
        "# And again we can restrict the use of gamma in general to the choice of the kernel\n",
        "cs.add_condition(InCondition(child=gamma, parent=kernel, values=[\"rbf\", \"poly\", \"sigmoid\"]))\n",
        "\n",
        "def svm_from_cfg(cfg):\n",
        "    print(cfg)\n",
        "    \"\"\" Creates a SVM based on a configuration and evaluates it on the\n",
        "    iris-dataset using cross-validation.\n",
        "\n",
        "    Parameters:\n",
        "    -----------\n",
        "    cfg: Configuration (ConfigSpace.ConfigurationSpace.Configuration)\n",
        "        Configuration containing the parameters.\n",
        "        Configurations are indexable!\n",
        "\n",
        "    Returns:\n",
        "    --------\n",
        "    A crossvalidated mean score for the svm on the loaded data-set.\n",
        "    \"\"\"\n",
        "    # For deactivated parameters, the configuration stores None-values.\n",
        "    # This is not accepted by the SVM, so we remove them.\n",
        "    cfg = {k : cfg[k] for k in cfg if cfg[k]}\n",
        "    # We translate boolean values:\n",
        "    cfg[\"shrinking\"] = True if cfg[\"shrinking\"] == \"true\" else False\n",
        "    # And for gamma, we set it to a fixed value or to \"auto\" (if used)\n",
        "    if \"gamma\" in cfg:\n",
        "        cfg[\"gamma\"] = cfg[\"gamma_value\"] if cfg[\"gamma\"] == \"value\" else \"auto\"\n",
        "        cfg.pop(\"gamma_value\", None)  # Remove \"gamma_value\"\n",
        "    \n",
        "    X, y = kropt.get_data(target=kropt.default_target_attribute)\n",
        "    clf = svm.SVC(**cfg, random_state=42)\n",
        "    scores = cross_val_score(clf, X, y, cv=5)\n",
        "    print(np.mean(scores))\n",
        "    return 1-np.mean(scores)  # Minimize!\n",
        "\n",
        "# Scenario object\n",
        "scenario = Scenario({\"run_obj\": \"quality\",   # we optimize quality (alternatively runtime)\n",
        "                     \"runcount-limit\": 5,  # maximum function evaluations\n",
        "                     \"cs\": cs,               # configuration space\n",
        "                     \"deterministic\": \"true\"\n",
        "                     })\n",
        "\n",
        "# Optimize, using a SMAC-object\n",
        "print(\"Optimizing! Depending on your machine, this might take a few minutes.\")\n",
        "smac = SMAC(scenario=scenario, rng=np.random.RandomState(42),\n",
        "        tae_runner=svm_from_cfg)\n",
        "start = time.time()\n",
        "incumbent = smac.optimize()\n",
        "inc_value = svm_from_cfg(incumbent)\n",
        "end = time.time()\n",
        "print(\"Optimized Value: %.5f\" % (1-inc_value))\n",
        "print(\"Best parameter : \", incumbent.get_dictionary())\n",
        "print(\"Time required in seconds :\", (end - start))"
      ],
      "execution_count": 0,
      "outputs": []
    },
    {
      "metadata": {
        "id": "ywWiWGjJoXf0",
        "colab_type": "text"
      },
      "cell_type": "markdown",
      "source": [
        "### SVM with SMAC on mnist_784 Dataset (OpenML id : 554)"
      ]
    },
    {
      "metadata": {
        "id": "yMzlzSdGooRN",
        "colab_type": "code",
        "colab": {
          "base_uri": "https://localhost:8080/",
          "height": 323
        },
        "outputId": "cd816b46-aaab-4320-e2ee-96fd962199a7"
      },
      "cell_type": "code",
      "source": [
        "# We load mnist_784 dataset from openml\n",
        "mn = oml.datasets.get_dataset(554)\n",
        "\n",
        "# Build Configuration Space which defines all parameters and their ranges\n",
        "cs = ConfigurationSpace()\n",
        "\n",
        "# We define a few possible types of SVM-kernels and add them as \"kernel\" to our cs\n",
        "kernel = CategoricalHyperparameter(\"kernel\", [\"linear\", \"rbf\", \"poly\", \"sigmoid\"], default_value=\"poly\")\n",
        "cs.add_hyperparameter(kernel)\n",
        "\n",
        "# There are some hyperparameters shared by all kernels\n",
        "C = UniformFloatHyperparameter(\"C\", 0.001, 1000.0, default_value=1.0)\n",
        "shrinking = CategoricalHyperparameter(\"shrinking\", [\"true\", \"false\"], default_value=\"true\")\n",
        "cs.add_hyperparameters([C, shrinking])\n",
        "\n",
        "# Others are kernel-specific, so we can add conditions to limit the searchspace\n",
        "degree = UniformIntegerHyperparameter(\"degree\", 1, 5, default_value=3)     # Only used by kernel poly\n",
        "coef0 = UniformFloatHyperparameter(\"coef0\", 0.0, 10.0, default_value=0.0)  # poly, sigmoid\n",
        "cs.add_hyperparameters([degree, coef0])\n",
        "use_degree = InCondition(child=degree, parent=kernel, values=[\"poly\"])\n",
        "use_coef0 = InCondition(child=coef0, parent=kernel, values=[\"poly\", \"sigmoid\"])\n",
        "cs.add_conditions([use_degree, use_coef0])\n",
        "\n",
        "# This also works for parameters that are a mix of categorical and values from a range of numbers\n",
        "# For example, gamma can be either \"auto\" or a fixed float\n",
        "gamma = CategoricalHyperparameter(\"gamma\", [\"auto\", \"value\"], default_value=\"auto\")  # only rbf, poly, sigmoid\n",
        "gamma_value = UniformFloatHyperparameter(\"gamma_value\", 0.0001, 8, default_value=1)\n",
        "cs.add_hyperparameters([gamma, gamma_value])\n",
        "\n",
        "# We only activate gamma_value if gamma is set to \"value\"\n",
        "cs.add_condition(InCondition(child=gamma_value, parent=gamma, values=[\"value\"]))\n",
        "# And again we can restrict the use of gamma in general to the choice of the kernel\n",
        "cs.add_condition(InCondition(child=gamma, parent=kernel, values=[\"rbf\", \"poly\", \"sigmoid\"]))\n",
        "\n",
        "def svm_from_cfg(cfg):\n",
        "    print(cfg)\n",
        "    \"\"\" Creates a SVM based on a configuration and evaluates it on the\n",
        "    iris-dataset using cross-validation.\n",
        "\n",
        "    Parameters:\n",
        "    -----------\n",
        "    cfg: Configuration (ConfigSpace.ConfigurationSpace.Configuration)\n",
        "        Configuration containing the parameters.\n",
        "        Configurations are indexable!\n",
        "\n",
        "    Returns:\n",
        "    --------\n",
        "    A crossvalidated mean score for the svm on the loaded data-set.\n",
        "    \"\"\"\n",
        "    # For deactivated parameters, the configuration stores None-values.\n",
        "    # This is not accepted by the SVM, so we remove them.\n",
        "    cfg = {k : cfg[k] for k in cfg if cfg[k]}\n",
        "    # We translate boolean values:\n",
        "    cfg[\"shrinking\"] = True if cfg[\"shrinking\"] == \"true\" else False\n",
        "    # And for gamma, we set it to a fixed value or to \"auto\" (if used)\n",
        "    if \"gamma\" in cfg:\n",
        "        cfg[\"gamma\"] = cfg[\"gamma_value\"] if cfg[\"gamma\"] == \"value\" else \"auto\"\n",
        "        cfg.pop(\"gamma_value\", None)  # Remove \"gamma_value\"\n",
        "    \n",
        "    X, y = mn.get_data(target=mn.default_target_attribute)\n",
        "    clf = svm.SVC(**cfg, random_state=42)\n",
        "    scores = cross_val_score(clf, X, y, cv=5)\n",
        "    print(np.mean(scores))\n",
        "    return 1-np.mean(scores)  # Minimize!\n",
        "\n",
        "# Scenario object\n",
        "scenario = Scenario({\"run_obj\": \"quality\",   # we optimize quality (alternatively runtime)\n",
        "                     \"runcount-limit\": 5,  # maximum function evaluations\n",
        "                     \"cs\": cs,               # configuration space\n",
        "                     \"deterministic\": \"true\"\n",
        "                     })\n",
        "\n",
        "# Optimize, using a SMAC-object\n",
        "print(\"Optimizing! Depending on your machine, this might take a few minutes.\")\n",
        "smac = SMAC(scenario=scenario, rng=np.random.RandomState(42),\n",
        "        tae_runner=svm_from_cfg)\n",
        "start = time.time()\n",
        "incumbent = smac.optimize()\n",
        "inc_value = svm_from_cfg(incumbent)\n",
        "end = time.time()\n",
        "print(\"Optimized Value: %.5f\" % (1-inc_value))\n",
        "print(\"Best parameter : \", incumbent.get_dictionary())\n",
        "print(\"Time required in seconds :\", (end - start))"
      ],
      "execution_count": 0,
      "outputs": [
        {
          "output_type": "stream",
          "text": [
            "Optimizing! Depending on your machine, this might take a few minutes.\n",
            "Configuration:\n",
            "  C, Value: 1.0\n",
            "  coef0, Value: 0.0\n",
            "  degree, Value: 3\n",
            "  gamma, Value: 'auto'\n",
            "  kernel, Value: 'poly'\n",
            "  shrinking, Value: 'true'\n",
            "\n",
            "0.9775571857194374\n",
            "Configuration:\n",
            "  C, Value: 943.4979148863757\n",
            "  coef0, Value: 3.0983685031796506\n",
            "  gamma, Value: 'value'\n",
            "  gamma_value, Value: 6.77581842194688\n",
            "  kernel, Value: 'sigmoid'\n",
            "  shrinking, Value: 'true'\n",
            "\n"
          ],
          "name": "stdout"
        }
      ]
    },
    {
      "metadata": {
        "id": "sDqApTK6N-3D",
        "colab_type": "text"
      },
      "cell_type": "markdown",
      "source": [
        "### ExtraTreeClassifier with SMAC on quake Dataset (OpenML id : 772)"
      ]
    },
    {
      "metadata": {
        "id": "5gvaUkFbNtlR",
        "colab_type": "code",
        "colab": {
          "base_uri": "https://localhost:8080/",
          "height": 4508
        },
        "outputId": "62100ea1-a395-481f-bd81-923a83b34816"
      },
      "cell_type": "code",
      "source": [
        "# We load Quake dataset from openml\n",
        "quake = oml.datasets.get_dataset(772)\n",
        "\n",
        "# Build Configuration Space which defines all parameters and their ranges\n",
        "cs = ConfigurationSpace()\n",
        "\n",
        "#n_estimators 10 to 500\n",
        "n_estimators = UniformIntegerHyperparameter(\"n_estimators\", 10, 500, default_value=100)\n",
        "\n",
        "#criterion\n",
        "criterion = CategoricalHyperparameter(\"criterion\", [\"gini\", \"entropy\"], default_value=\"gini\")\n",
        "\n",
        "#max_features 0.01 to 1\n",
        "max_features = UniformFloatHyperparameter(\"max_features\", 0.01, 1.0, default_value=1.0)\n",
        "\n",
        "#min_samples_split\n",
        "min_samples_split = UniformIntegerHyperparameter(\"min_samples_split\", 2, 50, default_value=2)\n",
        "\n",
        "#min_samples_leaf\n",
        "min_samples_leaf = UniformIntegerHyperparameter(\"min_samples_leaf\", 1, 50, default_value=1)\n",
        "\n",
        "#bootstrap\n",
        "bootstrap = CategoricalHyperparameter(\"bootstrap\", [\"true\", \"false\"], default_value=\"false\")\n",
        "\n",
        "#oob_score\n",
        "oob_score = CategoricalHyperparameter(\"oob_score\", [\"true\", \"false\"], default_value=\"false\")\n",
        "use_oob_score = InCondition(child=oob_score, parent=bootstrap, values=[\"true\"])\n",
        "\n",
        "#add all to configuration\n",
        "cs.add_hyperparameters([n_estimators, criterion, max_features, min_samples_split, min_samples_leaf, bootstrap, oob_score])\n",
        "cs.add_conditions([use_oob_score])\n",
        "\n",
        "def etclassifier_from_cfg(cfg):\n",
        "    print(cfg)\n",
        "    \n",
        "    cfg = {k : cfg[k] for k in cfg if cfg[k]}\n",
        "    cfg[\"bootstrap\"] = True if cfg[\"bootstrap\"] == \"true\" else False\n",
        "    if(cfg[\"bootstrap\"]==True):\n",
        "      cfg[\"oob_score\"] = True if cfg[\"oob_score\"] == \"true\" else False\n",
        "    X, y = quake.get_data(target=quake.default_target_attribute)\n",
        "    \n",
        "    etc = ExtraTreesClassifier(**cfg, random_state=42)\n",
        "    scores = cross_val_score(etc, X, y, cv=5, scoring=\"roc_auc\")\n",
        "    print(np.mean(scores))\n",
        "    return 1-np.mean(scores)  # Minimize!\n",
        "\n",
        "# Scenario object\n",
        "scenario = Scenario({\"run_obj\": \"quality\",   # we optimize quality (alternatively runtime)\n",
        "                     \"runcount-limit\": 20,  # maximum function evaluations\n",
        "                     \"cs\": cs,               # configuration space\n",
        "                     \"deterministic\": \"true\"\n",
        "                     })\n",
        "\n",
        "# Optimize, using a SMAC-object\n",
        "print(\"Optimizing! Depending on your machine, this might take a few minutes.\")\n",
        "smac = SMAC(scenario=scenario, rng=np.random.RandomState(42),\n",
        "        tae_runner=etclassifier_from_cfg)\n",
        "start = time.time()\n",
        "incumbent = smac.optimize()\n",
        "inc_value = etclassifier_from_cfg(incumbent)\n",
        "end = time.time()\n",
        "print(\"Optimized Value: %.5f\" % (1-inc_value))\n",
        "print(\"Best parameter : \", incumbent.get_dictionary())\n",
        "print(\"Time required in seconds :\", (end - start))"
      ],
      "execution_count": 0,
      "outputs": [
        {
          "output_type": "stream",
          "text": [
            "Optimizing! Depending on your machine, this might take a few minutes.\n",
            "Configuration:\n",
            "  bootstrap, Value: 'false'\n",
            "  criterion, Value: 'gini'\n",
            "  max_features, Value: 1.0\n",
            "  min_samples_leaf, Value: 1\n",
            "  min_samples_split, Value: 2\n",
            "  n_estimators, Value: 100\n",
            "\n",
            "0.5027316888164324\n",
            "Configuration:\n",
            "  bootstrap, Value: 'true'\n",
            "  criterion, Value: 'entropy'\n",
            "  max_features, Value: 0.14551054697624458\n",
            "  min_samples_leaf, Value: 50\n",
            "  min_samples_split, Value: 14\n",
            "  n_estimators, Value: 62\n",
            "  oob_score, Value: 'false'\n",
            "\n",
            "0.5416088049591001\n",
            "Configuration:\n",
            "  bootstrap, Value: 'true'\n",
            "  criterion, Value: 'entropy'\n",
            "  max_features, Value: 0.5987914276996833\n",
            "  min_samples_leaf, Value: 31\n",
            "  min_samples_split, Value: 11\n",
            "  n_estimators, Value: 500\n",
            "  oob_score, Value: 'true'\n",
            "\n",
            "0.5427316178998484\n",
            "Configuration:\n",
            "  bootstrap, Value: 'false'\n",
            "  criterion, Value: 'entropy'\n",
            "  max_features, Value: 0.24001530720606706\n",
            "  min_samples_leaf, Value: 27\n",
            "  min_samples_split, Value: 10\n",
            "  n_estimators, Value: 282\n",
            "\n",
            "0.5448324012151448\n",
            "Configuration:\n",
            "  bootstrap, Value: 'true'\n",
            "  criterion, Value: 'entropy'\n",
            "  max_features, Value: 0.5372614371236291\n",
            "  min_samples_leaf, Value: 13\n",
            "  min_samples_split, Value: 17\n",
            "  n_estimators, Value: 355\n",
            "  oob_score, Value: 'true'\n",
            "\n",
            "0.5444073225125281\n",
            "Configuration:\n",
            "  bootstrap, Value: 'true'\n",
            "  criterion, Value: 'entropy'\n",
            "  max_features, Value: 0.9500683347169966\n",
            "  min_samples_leaf, Value: 32\n",
            "  min_samples_split, Value: 49\n",
            "  n_estimators, Value: 10\n",
            "  oob_score, Value: 'true'\n",
            "\n"
          ],
          "name": "stdout"
        },
        {
          "output_type": "stream",
          "text": [
            "/usr/local/lib/python3.6/dist-packages/sklearn/ensemble/forest.py:453: UserWarning: Some inputs do not have OOB scores. This probably means too few trees were used to compute any reliable oob estimates.\n",
            "  warn(\"Some inputs do not have OOB scores. \"\n",
            "/usr/local/lib/python3.6/dist-packages/sklearn/ensemble/forest.py:458: RuntimeWarning: invalid value encountered in true_divide\n",
            "  predictions[k].sum(axis=1)[:, np.newaxis])\n",
            "/usr/local/lib/python3.6/dist-packages/sklearn/ensemble/forest.py:453: UserWarning: Some inputs do not have OOB scores. This probably means too few trees were used to compute any reliable oob estimates.\n",
            "  warn(\"Some inputs do not have OOB scores. \"\n",
            "/usr/local/lib/python3.6/dist-packages/sklearn/ensemble/forest.py:458: RuntimeWarning: invalid value encountered in true_divide\n",
            "  predictions[k].sum(axis=1)[:, np.newaxis])\n",
            "/usr/local/lib/python3.6/dist-packages/sklearn/ensemble/forest.py:453: UserWarning: Some inputs do not have OOB scores. This probably means too few trees were used to compute any reliable oob estimates.\n",
            "  warn(\"Some inputs do not have OOB scores. \"\n",
            "/usr/local/lib/python3.6/dist-packages/sklearn/ensemble/forest.py:458: RuntimeWarning: invalid value encountered in true_divide\n",
            "  predictions[k].sum(axis=1)[:, np.newaxis])\n",
            "/usr/local/lib/python3.6/dist-packages/sklearn/ensemble/forest.py:453: UserWarning: Some inputs do not have OOB scores. This probably means too few trees were used to compute any reliable oob estimates.\n",
            "  warn(\"Some inputs do not have OOB scores. \"\n",
            "/usr/local/lib/python3.6/dist-packages/sklearn/ensemble/forest.py:458: RuntimeWarning: invalid value encountered in true_divide\n",
            "  predictions[k].sum(axis=1)[:, np.newaxis])\n",
            "/usr/local/lib/python3.6/dist-packages/sklearn/ensemble/forest.py:453: UserWarning: Some inputs do not have OOB scores. This probably means too few trees were used to compute any reliable oob estimates.\n",
            "  warn(\"Some inputs do not have OOB scores. \"\n",
            "/usr/local/lib/python3.6/dist-packages/sklearn/ensemble/forest.py:458: RuntimeWarning: invalid value encountered in true_divide\n",
            "  predictions[k].sum(axis=1)[:, np.newaxis])\n"
          ],
          "name": "stderr"
        },
        {
          "output_type": "stream",
          "text": [
            "0.5385063647363904\n",
            "Configuration:\n",
            "  bootstrap, Value: 'true'\n",
            "  criterion, Value: 'entropy'\n",
            "  max_features, Value: 0.2926391765638486\n",
            "  min_samples_leaf, Value: 34\n",
            "  min_samples_split, Value: 4\n",
            "  n_estimators, Value: 360\n",
            "  oob_score, Value: 'false'\n",
            "\n",
            "0.5399220395391195\n",
            "Configuration:\n",
            "  bootstrap, Value: 'true'\n",
            "  criterion, Value: 'gini'\n",
            "  max_features, Value: 0.8009647626834414\n",
            "  min_samples_leaf, Value: 42\n",
            "  min_samples_split, Value: 5\n",
            "  n_estimators, Value: 51\n",
            "  oob_score, Value: 'false'\n",
            "\n",
            "0.5452620328943374\n",
            "Configuration:\n",
            "  bootstrap, Value: 'false'\n",
            "  criterion, Value: 'entropy'\n",
            "  max_features, Value: 0.7950537887171029\n",
            "  min_samples_leaf, Value: 22\n",
            "  min_samples_split, Value: 34\n",
            "  n_estimators, Value: 320\n",
            "\n",
            "0.5391935719420516\n",
            "Configuration:\n",
            "  bootstrap, Value: 'false'\n",
            "  criterion, Value: 'gini'\n",
            "  max_features, Value: 0.9487335162256878\n",
            "  min_samples_leaf, Value: 11\n",
            "  min_samples_split, Value: 3\n",
            "  n_estimators, Value: 276\n",
            "\n",
            "0.5336017202119359\n",
            "Configuration:\n",
            "  bootstrap, Value: 'true'\n",
            "  criterion, Value: 'gini'\n",
            "  max_features, Value: 0.21128894566935086\n",
            "  min_samples_leaf, Value: 42\n",
            "  min_samples_split, Value: 34\n",
            "  n_estimators, Value: 10\n",
            "  oob_score, Value: 'true'\n",
            "\n"
          ],
          "name": "stdout"
        },
        {
          "output_type": "stream",
          "text": [
            "/usr/local/lib/python3.6/dist-packages/sklearn/ensemble/forest.py:453: UserWarning: Some inputs do not have OOB scores. This probably means too few trees were used to compute any reliable oob estimates.\n",
            "  warn(\"Some inputs do not have OOB scores. \"\n",
            "/usr/local/lib/python3.6/dist-packages/sklearn/ensemble/forest.py:458: RuntimeWarning: invalid value encountered in true_divide\n",
            "  predictions[k].sum(axis=1)[:, np.newaxis])\n",
            "/usr/local/lib/python3.6/dist-packages/sklearn/ensemble/forest.py:453: UserWarning: Some inputs do not have OOB scores. This probably means too few trees were used to compute any reliable oob estimates.\n",
            "  warn(\"Some inputs do not have OOB scores. \"\n",
            "/usr/local/lib/python3.6/dist-packages/sklearn/ensemble/forest.py:458: RuntimeWarning: invalid value encountered in true_divide\n",
            "  predictions[k].sum(axis=1)[:, np.newaxis])\n",
            "/usr/local/lib/python3.6/dist-packages/sklearn/ensemble/forest.py:453: UserWarning: Some inputs do not have OOB scores. This probably means too few trees were used to compute any reliable oob estimates.\n",
            "  warn(\"Some inputs do not have OOB scores. \"\n",
            "/usr/local/lib/python3.6/dist-packages/sklearn/ensemble/forest.py:458: RuntimeWarning: invalid value encountered in true_divide\n",
            "  predictions[k].sum(axis=1)[:, np.newaxis])\n",
            "/usr/local/lib/python3.6/dist-packages/sklearn/ensemble/forest.py:453: UserWarning: Some inputs do not have OOB scores. This probably means too few trees were used to compute any reliable oob estimates.\n",
            "  warn(\"Some inputs do not have OOB scores. \"\n",
            "/usr/local/lib/python3.6/dist-packages/sklearn/ensemble/forest.py:458: RuntimeWarning: invalid value encountered in true_divide\n",
            "  predictions[k].sum(axis=1)[:, np.newaxis])\n",
            "/usr/local/lib/python3.6/dist-packages/sklearn/ensemble/forest.py:453: UserWarning: Some inputs do not have OOB scores. This probably means too few trees were used to compute any reliable oob estimates.\n",
            "  warn(\"Some inputs do not have OOB scores. \"\n",
            "/usr/local/lib/python3.6/dist-packages/sklearn/ensemble/forest.py:458: RuntimeWarning: invalid value encountered in true_divide\n",
            "  predictions[k].sum(axis=1)[:, np.newaxis])\n"
          ],
          "name": "stderr"
        },
        {
          "output_type": "stream",
          "text": [
            "0.546374977915616\n",
            "Configuration:\n",
            "  bootstrap, Value: 'true'\n",
            "  criterion, Value: 'gini'\n",
            "  max_features, Value: 0.8066860513869993\n",
            "  min_samples_leaf, Value: 11\n",
            "  min_samples_split, Value: 48\n",
            "  n_estimators, Value: 151\n",
            "  oob_score, Value: 'true'\n",
            "\n",
            "0.5373964373563462\n",
            "Configuration:\n",
            "  bootstrap, Value: 'false'\n",
            "  criterion, Value: 'gini'\n",
            "  max_features, Value: 0.31300306473070333\n",
            "  min_samples_leaf, Value: 24\n",
            "  min_samples_split, Value: 45\n",
            "  n_estimators, Value: 164\n",
            "\n",
            "0.5420085627868884\n",
            "Configuration:\n",
            "  bootstrap, Value: 'false'\n",
            "  criterion, Value: 'gini'\n",
            "  max_features, Value: 0.471859466950918\n",
            "  min_samples_leaf, Value: 12\n",
            "  min_samples_split, Value: 19\n",
            "  n_estimators, Value: 202\n",
            "\n",
            "0.5418649582156062\n",
            "Configuration:\n",
            "  bootstrap, Value: 'false'\n",
            "  criterion, Value: 'entropy'\n",
            "  max_features, Value: 0.6916179613679688\n",
            "  min_samples_leaf, Value: 18\n",
            "  min_samples_split, Value: 40\n",
            "  n_estimators, Value: 44\n",
            "\n",
            "0.5392671619337523\n",
            "Configuration:\n",
            "  bootstrap, Value: 'false'\n",
            "  criterion, Value: 'entropy'\n",
            "  max_features, Value: 0.916809266274685\n",
            "  min_samples_leaf, Value: 44\n",
            "  min_samples_split, Value: 13\n",
            "  n_estimators, Value: 165\n",
            "\n",
            "0.5418985949597539\n",
            "Configuration:\n",
            "  bootstrap, Value: 'false'\n",
            "  criterion, Value: 'entropy'\n",
            "  max_features, Value: 0.9881631105553664\n",
            "  min_samples_leaf, Value: 21\n",
            "  min_samples_split, Value: 29\n",
            "  n_estimators, Value: 394\n",
            "\n",
            "0.539796944214564\n",
            "Configuration:\n",
            "  bootstrap, Value: 'false'\n",
            "  criterion, Value: 'gini'\n",
            "  max_features, Value: 0.9677144703080329\n",
            "  min_samples_leaf, Value: 43\n",
            "  min_samples_split, Value: 3\n",
            "  n_estimators, Value: 308\n",
            "\n",
            "0.5442848704632806\n",
            "Configuration:\n",
            "  bootstrap, Value: 'false'\n",
            "  criterion, Value: 'entropy'\n",
            "  max_features, Value: 0.015091781295444799\n",
            "  min_samples_leaf, Value: 4\n",
            "  min_samples_split, Value: 32\n",
            "  n_estimators, Value: 77\n",
            "\n",
            "0.5327986953165661\n",
            "Configuration:\n",
            "  bootstrap, Value: 'true'\n",
            "  criterion, Value: 'gini'\n",
            "  max_features, Value: 0.1434702552255292\n",
            "  min_samples_leaf, Value: 20\n",
            "  min_samples_split, Value: 29\n",
            "  n_estimators, Value: 318\n",
            "  oob_score, Value: 'false'\n",
            "\n",
            "0.5407993598369216\n",
            "Configuration:\n",
            "  bootstrap, Value: 'true'\n",
            "  criterion, Value: 'gini'\n",
            "  max_features, Value: 0.21128894566935086\n",
            "  min_samples_leaf, Value: 42\n",
            "  min_samples_split, Value: 34\n",
            "  n_estimators, Value: 10\n",
            "  oob_score, Value: 'true'\n",
            "\n",
            "0.546374977915616\n",
            "Optimized Value: 0.54637\n",
            "Best parameter :  {'bootstrap': 'true', 'criterion': 'gini', 'max_features': 0.21128894566935086, 'min_samples_leaf': 42, 'min_samples_split': 34, 'n_estimators': 10, 'oob_score': 'true'}\n",
            "Time required in seconds : 59.15166211128235\n"
          ],
          "name": "stdout"
        },
        {
          "output_type": "stream",
          "text": [
            "/usr/local/lib/python3.6/dist-packages/sklearn/ensemble/forest.py:453: UserWarning: Some inputs do not have OOB scores. This probably means too few trees were used to compute any reliable oob estimates.\n",
            "  warn(\"Some inputs do not have OOB scores. \"\n",
            "/usr/local/lib/python3.6/dist-packages/sklearn/ensemble/forest.py:458: RuntimeWarning: invalid value encountered in true_divide\n",
            "  predictions[k].sum(axis=1)[:, np.newaxis])\n",
            "/usr/local/lib/python3.6/dist-packages/sklearn/ensemble/forest.py:453: UserWarning: Some inputs do not have OOB scores. This probably means too few trees were used to compute any reliable oob estimates.\n",
            "  warn(\"Some inputs do not have OOB scores. \"\n",
            "/usr/local/lib/python3.6/dist-packages/sklearn/ensemble/forest.py:458: RuntimeWarning: invalid value encountered in true_divide\n",
            "  predictions[k].sum(axis=1)[:, np.newaxis])\n",
            "/usr/local/lib/python3.6/dist-packages/sklearn/ensemble/forest.py:453: UserWarning: Some inputs do not have OOB scores. This probably means too few trees were used to compute any reliable oob estimates.\n",
            "  warn(\"Some inputs do not have OOB scores. \"\n",
            "/usr/local/lib/python3.6/dist-packages/sklearn/ensemble/forest.py:458: RuntimeWarning: invalid value encountered in true_divide\n",
            "  predictions[k].sum(axis=1)[:, np.newaxis])\n",
            "/usr/local/lib/python3.6/dist-packages/sklearn/ensemble/forest.py:453: UserWarning: Some inputs do not have OOB scores. This probably means too few trees were used to compute any reliable oob estimates.\n",
            "  warn(\"Some inputs do not have OOB scores. \"\n",
            "/usr/local/lib/python3.6/dist-packages/sklearn/ensemble/forest.py:458: RuntimeWarning: invalid value encountered in true_divide\n",
            "  predictions[k].sum(axis=1)[:, np.newaxis])\n",
            "/usr/local/lib/python3.6/dist-packages/sklearn/ensemble/forest.py:453: UserWarning: Some inputs do not have OOB scores. This probably means too few trees were used to compute any reliable oob estimates.\n",
            "  warn(\"Some inputs do not have OOB scores. \"\n",
            "/usr/local/lib/python3.6/dist-packages/sklearn/ensemble/forest.py:458: RuntimeWarning: invalid value encountered in true_divide\n",
            "  predictions[k].sum(axis=1)[:, np.newaxis])\n"
          ],
          "name": "stderr"
        }
      ]
    },
    {
      "metadata": {
        "id": "CnJSjCUea1rJ",
        "colab_type": "text"
      },
      "cell_type": "markdown",
      "source": [
        "### ExtraTreeClassifier with SMAC on fri_c1_1000_25 Dataset (OpenML id : 917)"
      ]
    },
    {
      "metadata": {
        "id": "oTT__6qpbeG3",
        "colab_type": "code",
        "colab": {
          "base_uri": "https://localhost:8080/",
          "height": 3794
        },
        "outputId": "37af80f6-0392-4bbd-dda9-01364b0dc892"
      },
      "cell_type": "code",
      "source": [
        "# We load fri_c1_1000_25 dataset from openml\n",
        "fri = oml.datasets.get_dataset(917)\n",
        "\n",
        "# Build Configuration Space which defines all parameters and their ranges\n",
        "cs = ConfigurationSpace()\n",
        "\n",
        "#n_estimators 10 to 500\n",
        "n_estimators = UniformIntegerHyperparameter(\"n_estimators\", 10, 500, default_value=100)\n",
        "\n",
        "#criterion\n",
        "criterion = CategoricalHyperparameter(\"criterion\", [\"gini\", \"entropy\"], default_value=\"gini\")\n",
        "\n",
        "#max_features 0.01 to 1\n",
        "max_features = UniformFloatHyperparameter(\"max_features\", 0.01, 1.0, default_value=1.0)\n",
        "\n",
        "#min_samples_split\n",
        "min_samples_split = UniformIntegerHyperparameter(\"min_samples_split\", 2, 50, default_value=2)\n",
        "\n",
        "#min_samples_leaf\n",
        "min_samples_leaf = UniformIntegerHyperparameter(\"min_samples_leaf\", 1, 50, default_value=1)\n",
        "\n",
        "#bootstrap\n",
        "bootstrap = CategoricalHyperparameter(\"bootstrap\", [\"true\", \"false\"], default_value=\"false\")\n",
        "\n",
        "#oob_score\n",
        "oob_score = CategoricalHyperparameter(\"oob_score\", [\"true\", \"false\"], default_value=\"false\")\n",
        "use_oob_score = InCondition(child=oob_score, parent=bootstrap, values=[\"true\"])\n",
        "\n",
        "#add all to configuration\n",
        "cs.add_hyperparameters([n_estimators, criterion, max_features, min_samples_split, min_samples_leaf, bootstrap, oob_score])\n",
        "cs.add_conditions([use_oob_score])\n",
        "\n",
        "def etclassifier_from_cfg(cfg):\n",
        "    print(cfg)\n",
        "    \n",
        "    cfg = {k : cfg[k] for k in cfg if cfg[k]}\n",
        "    cfg[\"bootstrap\"] = True if cfg[\"bootstrap\"] == \"true\" else False\n",
        "    if(cfg[\"bootstrap\"]==True):\n",
        "      cfg[\"oob_score\"] = True if cfg[\"oob_score\"] == \"true\" else False\n",
        "    X, y = fri.get_data(target=fri.default_target_attribute)\n",
        "    \n",
        "    etc = ExtraTreesClassifier(**cfg, random_state=42)\n",
        "    scores = cross_val_score(etc, X, y, cv=5, scoring=\"roc_auc\")\n",
        "    print(np.mean(scores))\n",
        "    return 1-np.mean(scores)  # Minimize!\n",
        "\n",
        "# Scenario object\n",
        "scenario = Scenario({\"run_obj\": \"quality\",   # we optimize quality (alternatively runtime)\n",
        "                     \"runcount-limit\": 20,  # maximum function evaluations\n",
        "                     \"cs\": cs,               # configuration space\n",
        "                     \"deterministic\": \"true\"\n",
        "                     })\n",
        "\n",
        "# Optimize, using a SMAC-object\n",
        "print(\"Optimizing! Depending on your machine, this might take a few minutes.\")\n",
        "smac = SMAC(scenario=scenario, rng=np.random.RandomState(42),\n",
        "        tae_runner=etclassifier_from_cfg)\n",
        "start = time.time()\n",
        "incumbent = smac.optimize()\n",
        "inc_value = etclassifier_from_cfg(incumbent)\n",
        "end = time.time()\n",
        "print(\"Optimized Value: %.5f\" % (1-inc_value))\n",
        "print(\"Best parameter : \", incumbent.get_dictionary())\n",
        "print(\"Time required in seconds :\", (end - start))"
      ],
      "execution_count": 0,
      "outputs": [
        {
          "output_type": "stream",
          "text": [
            "Optimizing! Depending on your machine, this might take a few minutes.\n",
            "Configuration:\n",
            "  bootstrap, Value: 'false'\n",
            "  criterion, Value: 'gini'\n",
            "  max_features, Value: 1.0\n",
            "  min_samples_leaf, Value: 1\n",
            "  min_samples_split, Value: 2\n",
            "  n_estimators, Value: 100\n",
            "\n",
            "0.9703603939383756\n",
            "Configuration:\n",
            "  bootstrap, Value: 'true'\n",
            "  criterion, Value: 'entropy'\n",
            "  max_features, Value: 0.2872386436010404\n",
            "  min_samples_leaf, Value: 6\n",
            "  min_samples_split, Value: 26\n",
            "  n_estimators, Value: 108\n",
            "  oob_score, Value: 'true'\n",
            "\n",
            "0.9363032685968466\n",
            "Configuration:\n",
            "  bootstrap, Value: 'true'\n",
            "  criterion, Value: 'entropy'\n",
            "  max_features, Value: 0.5987914276996833\n",
            "  min_samples_leaf, Value: 31\n",
            "  min_samples_split, Value: 11\n",
            "  n_estimators, Value: 500\n",
            "  oob_score, Value: 'true'\n",
            "\n",
            "0.9115141942664879\n",
            "Configuration:\n",
            "  bootstrap, Value: 'true'\n",
            "  criterion, Value: 'entropy'\n",
            "  max_features, Value: 0.09882612937415385\n",
            "  min_samples_leaf, Value: 15\n",
            "  min_samples_split, Value: 12\n",
            "  n_estimators, Value: 332\n",
            "  oob_score, Value: 'false'\n",
            "\n",
            "0.8318107580492902\n",
            "Configuration:\n",
            "  bootstrap, Value: 'true'\n",
            "  criterion, Value: 'entropy'\n",
            "  max_features, Value: 0.5372614371236291\n",
            "  min_samples_leaf, Value: 13\n",
            "  min_samples_split, Value: 17\n",
            "  n_estimators, Value: 355\n",
            "  oob_score, Value: 'true'\n",
            "\n",
            "0.9493515454983346\n",
            "Configuration:\n",
            "  bootstrap, Value: 'false'\n",
            "  criterion, Value: 'gini'\n",
            "  max_features, Value: 0.6193007402482019\n",
            "  min_samples_leaf, Value: 30\n",
            "  min_samples_split, Value: 2\n",
            "  n_estimators, Value: 454\n",
            "\n",
            "0.9454837109882981\n",
            "Configuration:\n",
            "  bootstrap, Value: 'true'\n",
            "  criterion, Value: 'entropy'\n",
            "  max_features, Value: 0.2926391765638486\n",
            "  min_samples_leaf, Value: 34\n",
            "  min_samples_split, Value: 4\n",
            "  n_estimators, Value: 360\n",
            "  oob_score, Value: 'false'\n",
            "\n",
            "0.8600229739679282\n",
            "Configuration:\n",
            "  bootstrap, Value: 'false'\n",
            "  criterion, Value: 'entropy'\n",
            "  max_features, Value: 0.7121842264727352\n",
            "  min_samples_leaf, Value: 27\n",
            "  min_samples_split, Value: 24\n",
            "  n_estimators, Value: 312\n",
            "\n",
            "0.954935910165268\n",
            "Configuration:\n",
            "  bootstrap, Value: 'false'\n",
            "  criterion, Value: 'entropy'\n",
            "  max_features, Value: 0.7950537887171029\n",
            "  min_samples_leaf, Value: 22\n",
            "  min_samples_split, Value: 34\n",
            "  n_estimators, Value: 320\n",
            "\n",
            "0.9617609302012973\n",
            "Configuration:\n",
            "  bootstrap, Value: 'false'\n",
            "  criterion, Value: 'entropy'\n",
            "  max_features, Value: 0.9218022947634688\n",
            "  min_samples_leaf, Value: 12\n",
            "  min_samples_split, Value: 10\n",
            "  n_estimators, Value: 168\n",
            "\n",
            "0.9677077866068691\n",
            "Configuration:\n",
            "  bootstrap, Value: 'true'\n",
            "  criterion, Value: 'gini'\n",
            "  max_features, Value: 0.21128894566935086\n",
            "  min_samples_leaf, Value: 42\n",
            "  min_samples_split, Value: 34\n",
            "  n_estimators, Value: 10\n",
            "  oob_score, Value: 'true'\n",
            "\n"
          ],
          "name": "stdout"
        },
        {
          "output_type": "stream",
          "text": [
            "/usr/local/lib/python3.6/dist-packages/sklearn/ensemble/forest.py:453: UserWarning: Some inputs do not have OOB scores. This probably means too few trees were used to compute any reliable oob estimates.\n",
            "  warn(\"Some inputs do not have OOB scores. \"\n",
            "/usr/local/lib/python3.6/dist-packages/sklearn/ensemble/forest.py:458: RuntimeWarning: invalid value encountered in true_divide\n",
            "  predictions[k].sum(axis=1)[:, np.newaxis])\n",
            "/usr/local/lib/python3.6/dist-packages/sklearn/ensemble/forest.py:453: UserWarning: Some inputs do not have OOB scores. This probably means too few trees were used to compute any reliable oob estimates.\n",
            "  warn(\"Some inputs do not have OOB scores. \"\n",
            "/usr/local/lib/python3.6/dist-packages/sklearn/ensemble/forest.py:458: RuntimeWarning: invalid value encountered in true_divide\n",
            "  predictions[k].sum(axis=1)[:, np.newaxis])\n",
            "/usr/local/lib/python3.6/dist-packages/sklearn/ensemble/forest.py:453: UserWarning: Some inputs do not have OOB scores. This probably means too few trees were used to compute any reliable oob estimates.\n",
            "  warn(\"Some inputs do not have OOB scores. \"\n",
            "/usr/local/lib/python3.6/dist-packages/sklearn/ensemble/forest.py:458: RuntimeWarning: invalid value encountered in true_divide\n",
            "  predictions[k].sum(axis=1)[:, np.newaxis])\n",
            "/usr/local/lib/python3.6/dist-packages/sklearn/ensemble/forest.py:453: UserWarning: Some inputs do not have OOB scores. This probably means too few trees were used to compute any reliable oob estimates.\n",
            "  warn(\"Some inputs do not have OOB scores. \"\n",
            "/usr/local/lib/python3.6/dist-packages/sklearn/ensemble/forest.py:458: RuntimeWarning: invalid value encountered in true_divide\n",
            "  predictions[k].sum(axis=1)[:, np.newaxis])\n",
            "/usr/local/lib/python3.6/dist-packages/sklearn/ensemble/forest.py:453: UserWarning: Some inputs do not have OOB scores. This probably means too few trees were used to compute any reliable oob estimates.\n",
            "  warn(\"Some inputs do not have OOB scores. \"\n",
            "/usr/local/lib/python3.6/dist-packages/sklearn/ensemble/forest.py:458: RuntimeWarning: invalid value encountered in true_divide\n",
            "  predictions[k].sum(axis=1)[:, np.newaxis])\n"
          ],
          "name": "stderr"
        },
        {
          "output_type": "stream",
          "text": [
            "0.772140825535321\n",
            "Configuration:\n",
            "  bootstrap, Value: 'true'\n",
            "  criterion, Value: 'entropy'\n",
            "  max_features, Value: 0.8710441238024745\n",
            "  min_samples_leaf, Value: 43\n",
            "  min_samples_split, Value: 19\n",
            "  n_estimators, Value: 63\n",
            "  oob_score, Value: 'true'\n",
            "\n",
            "0.8998907310833916\n",
            "Configuration:\n",
            "  bootstrap, Value: 'false'\n",
            "  criterion, Value: 'gini'\n",
            "  max_features, Value: 0.31300306473070333\n",
            "  min_samples_leaf, Value: 24\n",
            "  min_samples_split, Value: 45\n",
            "  n_estimators, Value: 164\n",
            "\n",
            "0.9097077438361841\n",
            "Configuration:\n",
            "  bootstrap, Value: 'false'\n",
            "  criterion, Value: 'gini'\n",
            "  max_features, Value: 0.8831415233623687\n",
            "  min_samples_leaf, Value: 42\n",
            "  min_samples_split, Value: 10\n",
            "  n_estimators, Value: 67\n",
            "\n",
            "0.9396179966822169\n",
            "Configuration:\n",
            "  bootstrap, Value: 'false'\n",
            "  criterion, Value: 'entropy'\n",
            "  max_features, Value: 0.6916179613679688\n",
            "  min_samples_leaf, Value: 18\n",
            "  min_samples_split, Value: 40\n",
            "  n_estimators, Value: 44\n",
            "\n",
            "0.9592095570077221\n",
            "Configuration:\n",
            "  bootstrap, Value: 'false'\n",
            "  criterion, Value: 'entropy'\n",
            "  max_features, Value: 0.9884343230768651\n",
            "  min_samples_leaf, Value: 31\n",
            "  min_samples_split, Value: 11\n",
            "  n_estimators, Value: 308\n",
            "\n",
            "0.9559875598407709\n",
            "Configuration:\n",
            "  bootstrap, Value: 'false'\n",
            "  criterion, Value: 'entropy'\n",
            "  max_features, Value: 0.9881631105553664\n",
            "  min_samples_leaf, Value: 21\n",
            "  min_samples_split, Value: 29\n",
            "  n_estimators, Value: 394\n",
            "\n",
            "0.9617713581016332\n",
            "Configuration:\n",
            "  bootstrap, Value: 'true'\n",
            "  criterion, Value: 'entropy'\n",
            "  max_features, Value: 0.9501391347683842\n",
            "  min_samples_leaf, Value: 40\n",
            "  min_samples_split, Value: 3\n",
            "  n_estimators, Value: 326\n",
            "  oob_score, Value: 'false'\n",
            "\n",
            "0.9128682937857249\n",
            "Configuration:\n",
            "  bootstrap, Value: 'false'\n",
            "  criterion, Value: 'entropy'\n",
            "  max_features, Value: 0.015091781295444799\n",
            "  min_samples_leaf, Value: 4\n",
            "  min_samples_split, Value: 32\n",
            "  n_estimators, Value: 77\n",
            "\n",
            "0.8160844659927229\n",
            "Configuration:\n",
            "  bootstrap, Value: 'false'\n",
            "  criterion, Value: 'entropy'\n",
            "  max_features, Value: 0.4491381349030816\n",
            "  min_samples_leaf, Value: 3\n",
            "  min_samples_split, Value: 34\n",
            "  n_estimators, Value: 117\n",
            "\n",
            "0.9643959506344826\n",
            "Configuration:\n",
            "  bootstrap, Value: 'false'\n",
            "  criterion, Value: 'gini'\n",
            "  max_features, Value: 1.0\n",
            "  min_samples_leaf, Value: 1\n",
            "  min_samples_split, Value: 2\n",
            "  n_estimators, Value: 100\n",
            "\n",
            "0.9703603939383756\n",
            "Optimized Value: 0.97036\n",
            "Best parameter :  {'bootstrap': 'false', 'criterion': 'gini', 'max_features': 1.0, 'min_samples_leaf': 1, 'min_samples_split': 2, 'n_estimators': 100}\n",
            "Time required in seconds : 76.21929693222046\n"
          ],
          "name": "stdout"
        }
      ]
    },
    {
      "metadata": {
        "id": "cOMl8hf3g4ZD",
        "colab_type": "text"
      },
      "cell_type": "markdown",
      "source": [
        "### Logistic Regression with SMAC on pc4 Dataset (AutoML id : 1049)"
      ]
    },
    {
      "metadata": {
        "id": "IPrSWbCxg33V",
        "colab_type": "code",
        "colab": {
          "base_uri": "https://localhost:8080/",
          "height": 2040
        },
        "outputId": "9263eb58-bf64-45f2-fe16-e568b6cbc570"
      },
      "cell_type": "code",
      "source": [
        "# We load pc4 dataset from openml\n",
        "pc4 = oml.datasets.get_dataset(1049)\n",
        "\n",
        "# Build Configuration Space which defines all parameters and their ranges\n",
        "cs = ConfigurationSpace()\n",
        "\n",
        "# Penalty as l1 or l2\n",
        "penalty = CategoricalHyperparameter(\"penalty\", [\"l1\", \"l2\"], default_value=\"l2\")\n",
        "cs.add_hyperparameter(penalty)\n",
        "\n",
        "# Common Hyperparameters\n",
        "C = UniformFloatHyperparameter(\"C\", 0.001, 1000.0, default_value=1.0)\n",
        "cs.add_hyperparameter(C)\n",
        "\n",
        "# penalty specific dual parameter\n",
        "dual = CategoricalHyperparameter(\"dual\", [\"true\", \"false\"], default_value=\"false\")\n",
        "cs.add_hyperparameter(dual)\n",
        "\n",
        "# dual is used only when penalty = \"l2\"\n",
        "cs.add_condition(InCondition(child=dual, parent=penalty, values=[\"l2\"]))\n",
        "\n",
        "def logreg_from_cfg(cfg):\n",
        "    print(cfg)\n",
        "    \"\"\" Creates a SVM based on a configuration and evaluates it on the\n",
        "    iris-dataset using cross-validation.\n",
        "\n",
        "    Parameters:\n",
        "    -----------\n",
        "    cfg: Configuration (ConfigSpace.ConfigurationSpace.Configuration)\n",
        "        Configuration containing the parameters.\n",
        "        Configurations are indexable!\n",
        "\n",
        "    Returns:\n",
        "    --------\n",
        "    A crossvalidated mean score for the svm on the loaded data-set.\n",
        "    \"\"\"\n",
        "    # For deactivated parameters, the configuration stores None-values.\n",
        "    # This is not accepted by the SVM, so we remove them.\n",
        "    cfg = {k : cfg[k] for k in cfg if cfg[k]}\n",
        "    # We translate boolean values:\n",
        "    if(cfg[\"penalty\"]==\"l2\"):\n",
        "      cfg[\"dual\"] = True if cfg[\"dual\"] == \"true\" else False\n",
        "    \n",
        "    X, y = pc4.get_data(target=pc4.default_target_attribute)\n",
        "    \n",
        "    logreg = LogisticRegression(**cfg, random_state=42)\n",
        "    scores = cross_val_score(logreg, X, y, cv=5, scoring=\"roc_auc\")\n",
        "    print(np.mean(scores))\n",
        "    return 1-np.mean(scores)  # Minimize!\n",
        "  \n",
        "# Scenario object\n",
        "scenario = Scenario({\"run_obj\": \"quality\",   # we optimize quality (alternatively runtime)\n",
        "                     \"runcount-limit\": 20,  # maximum function evaluations\n",
        "                     \"cs\": cs,               # configuration space\n",
        "                     \"deterministic\": \"true\"\n",
        "                     })\n",
        "\n",
        "# Optimize, using a SMAC-object\n",
        "print(\"Optimizing! Depending on your machine, this might take a few minutes.\")\n",
        "smac = SMAC(scenario=scenario, rng=np.random.RandomState(42),\n",
        "        tae_runner=logreg_from_cfg)\n",
        "start = time.time()\n",
        "incumbent = smac.optimize()\n",
        "inc_value = logreg_from_cfg(incumbent)\n",
        "end = time.time()\n",
        "print(\"Optimized Value: %.5f\" % (1-inc_value))\n",
        "print(\"Best parameter : \", incumbent.get_dictionary())\n",
        "print(\"Time required in seconds :\", (end - start))"
      ],
      "execution_count": 0,
      "outputs": [
        {
          "output_type": "stream",
          "text": [
            "Optimizing! Depending on your machine, this might take a few minutes.\n",
            "Configuration:\n",
            "  C, Value: 1.0\n",
            "  dual, Value: 'false'\n",
            "  penalty, Value: 'l2'\n",
            "\n",
            "0.8947135416666667\n",
            "Configuration:\n",
            "  C, Value: 290.551400716599\n",
            "  dual, Value: 'false'\n",
            "  penalty, Value: 'l2'\n",
            "\n",
            "0.8994593253968255\n",
            "Configuration:\n",
            "  C, Value: 376.15135912829777\n",
            "  penalty, Value: 'l1'\n",
            "\n",
            "0.9167714533730159\n",
            "Configuration:\n",
            "  C, Value: 399.97836839058147\n",
            "  dual, Value: 'true'\n",
            "  penalty, Value: 'l2'\n",
            "\n",
            "0.6524088541666666\n",
            "Configuration:\n",
            "  C, Value: 137.4362714801022\n",
            "  dual, Value: 'true'\n",
            "  penalty, Value: 'l2'\n",
            "\n",
            "0.6432998511904762\n",
            "Configuration:\n",
            "  C, Value: 816.0141182123881\n",
            "  penalty, Value: 'l1'\n",
            "\n",
            "0.9164397321428572\n",
            "Configuration:\n",
            "  C, Value: 885.0548269692787\n",
            "  dual, Value: 'false'\n",
            "  penalty, Value: 'l2'\n",
            "\n",
            "0.8879154265873016\n",
            "Configuration:\n",
            "  C, Value: 545.2255230051459\n",
            "  penalty, Value: 'l1'\n",
            "\n",
            "0.916483134920635\n",
            "Configuration:\n",
            "  C, Value: 111.52232056523157\n",
            "  dual, Value: 'false'\n",
            "  penalty, Value: 'l2'\n",
            "\n",
            "0.8885515873015872\n",
            "Configuration:\n",
            "  C, Value: 220.0819815558716\n",
            "  penalty, Value: 'l1'\n",
            "\n",
            "0.9168334573412699\n",
            "Configuration:\n",
            "  C, Value: 100.51054190720704\n",
            "  penalty, Value: 'l1'\n",
            "\n",
            "0.9170758928571429\n",
            "Configuration:\n",
            "  C, Value: 233.1182927755409\n",
            "  penalty, Value: 'l1'\n",
            "\n",
            "0.9166592261904762\n",
            "Configuration:\n",
            "  C, Value: 31.932055583016826\n",
            "  dual, Value: 'false'\n",
            "  penalty, Value: 'l2'\n",
            "\n",
            "0.9020498511904762\n",
            "Configuration:\n",
            "  C, Value: 756.5391255304767\n",
            "  dual, Value: 'false'\n",
            "  penalty, Value: 'l2'\n",
            "\n",
            "0.877078373015873\n",
            "Configuration:\n",
            "  C, Value: 158.68005244310731\n",
            "  penalty, Value: 'l1'\n",
            "\n",
            "0.9170523313492064\n",
            "Configuration:\n",
            "  C, Value: 108.7246712932129\n",
            "  penalty, Value: 'l1'\n",
            "\n",
            "0.9171440972222223\n",
            "Configuration:\n",
            "  C, Value: 894.1734248958347\n",
            "  penalty, Value: 'l1'\n",
            "\n",
            "0.9164397321428572\n",
            "Configuration:\n",
            "  C, Value: 148.44422512490706\n",
            "  dual, Value: 'true'\n",
            "  penalty, Value: 'l2'\n",
            "\n",
            "0.6435844494047619\n",
            "Configuration:\n",
            "  C, Value: 838.4624817278423\n",
            "  dual, Value: 'false'\n",
            "  penalty, Value: 'l2'\n",
            "\n",
            "0.888810763888889\n",
            "Configuration:\n",
            "  C, Value: 113.23409892741539\n",
            "  penalty, Value: 'l1'\n",
            "\n",
            "0.9172557043650794\n",
            "Configuration:\n",
            "  C, Value: 113.23409892741539\n",
            "  penalty, Value: 'l1'\n",
            "\n",
            "0.9172557043650794\n",
            "Optimized Value: 0.91726\n",
            "Best parameter :  {'C': 113.23409892741539, 'penalty': 'l1'}\n",
            "Time required in seconds : 43.52963733673096\n"
          ],
          "name": "stdout"
        }
      ]
    },
    {
      "metadata": {
        "id": "PNqmtIFnjAqV",
        "colab_type": "text"
      },
      "cell_type": "markdown",
      "source": [
        "### RandomForestClassifier with SMAC on KDDCup09_appetency (OpenML id : 1111)\n"
      ]
    },
    {
      "metadata": {
        "id": "5i7KIVzajUJQ",
        "colab_type": "code",
        "colab": {
          "base_uri": "https://localhost:8080/",
          "height": 1091
        },
        "outputId": "f849d5dd-28b9-424b-91f6-e63d12c3ed35"
      },
      "cell_type": "code",
      "source": [
        "# We load KDDCup09_appetency dataset from openml\n",
        "kdd = oml.datasets.get_dataset(1111)\n",
        "\n",
        "# Build Configuration Space which defines all parameters and their ranges\n",
        "cs = ConfigurationSpace()\n",
        "\n",
        "#n_estimators 10 to 500\n",
        "n_estimators = UniformIntegerHyperparameter(\"n_estimators\", 10, 500, default_value=10)\n",
        "\n",
        "#criterion\n",
        "criterion = CategoricalHyperparameter(\"criterion\", [\"gini\", \"entropy\"], default_value=\"gini\")\n",
        "\n",
        "#max_features 0.01 to 1\n",
        "max_features = UniformFloatHyperparameter(\"max_features\", 0.01, 1.0, default_value=1.0)\n",
        "\n",
        "#min_samples_split\n",
        "min_samples_split = UniformIntegerHyperparameter(\"min_samples_split\", 2, 50, default_value=2)\n",
        "\n",
        "#min_samples_leaf\n",
        "min_samples_leaf = UniformIntegerHyperparameter(\"min_samples_leaf\", 1, 50, default_value=1)\n",
        "\n",
        "#bootstrap\n",
        "bootstrap = CategoricalHyperparameter(\"bootstrap\", [\"true\", \"false\"], default_value=\"false\")\n",
        "\n",
        "#oob_score\n",
        "oob_score = CategoricalHyperparameter(\"oob_score\", [\"true\", \"false\"], default_value=\"false\")\n",
        "use_oob_score = InCondition(child=oob_score, parent=bootstrap, values=[\"true\"])\n",
        "\n",
        "#add all to configuration\n",
        "cs.add_hyperparameters([n_estimators, criterion, max_features, min_samples_split, min_samples_leaf, bootstrap, oob_score])\n",
        "cs.add_conditions([use_oob_score])\n",
        "\n",
        "def rfclassifier_from_cfg(cfg):\n",
        "    print(cfg)\n",
        "    cfg = {k : cfg[k] for k in cfg if cfg[k]}\n",
        "    cfg[\"bootstrap\"] = True if cfg[\"bootstrap\"] == \"true\" else False\n",
        "    if(cfg[\"bootstrap\"]==True):\n",
        "      cfg[\"oob_score\"] = True if cfg[\"oob_score\"] == \"true\" else False\n",
        "    imp = Imputer(missing_values=\"NaN\", strategy=\"mean\", axis=0, verbose=0, copy=True)\n",
        "    X, y = kdd.get_data(target=kdd.default_target_attribute)\n",
        "    X_new = imp.fit_transform(X,y)\n",
        "    etc = RandomForestClassifier(**cfg, random_state=42)\n",
        "    scores = cross_val_score(etc, X_new, y, cv=5, scoring=\"roc_auc\")\n",
        "    print(np.mean(scores))\n",
        "    return 1-np.mean(scores)  # Minimize!\n",
        "\n",
        "# Scenario object\n",
        "scenario = Scenario({\"run_obj\": \"quality\",   # we optimize quality (alternatively runtime)\n",
        "                     \"runcount-limit\": 5,  # maximum function evaluations\n",
        "                     \"cs\": cs,               # configuration space\n",
        "                     \"deterministic\": \"true\"\n",
        "                     })\n",
        "\n",
        "# Optimize, using a SMAC-object\n",
        "print(\"Optimizing! Depending on your machine, this might take a few minutes.\")\n",
        "smac = SMAC(scenario=scenario, rng=np.random.RandomState(42),\n",
        "        tae_runner=rfclassifier_from_cfg)\n",
        "start = time.time()\n",
        "incumbent = smac.optimize()\n",
        "inc_value = rfclassifier_from_cfg(incumbent)\n",
        "end = time.time()\n",
        "print(\"Optimized Value: %.5f\" % (1-inc_value))\n",
        "print(\"Best parameter : \", incumbent.get_dictionary())\n",
        "print(\"Time required in seconds :\", (end - start))"
      ],
      "execution_count": 0,
      "outputs": [
        {
          "output_type": "stream",
          "text": [
            "Optimizing! Depending on your machine, this might take a few minutes.\n",
            "Configuration:\n",
            "  bootstrap, Value: 'false'\n",
            "  criterion, Value: 'gini'\n",
            "  max_features, Value: 1.0\n",
            "  min_samples_leaf, Value: 1\n",
            "  min_samples_split, Value: 2\n",
            "  n_estimators, Value: 10\n",
            "\n",
            "0.538194411079004\n",
            "Configuration:\n",
            "  bootstrap, Value: 'true'\n",
            "  criterion, Value: 'gini'\n",
            "  max_features, Value: 0.289933630577206\n",
            "  min_samples_leaf, Value: 4\n",
            "  min_samples_split, Value: 16\n",
            "  n_estimators, Value: 293\n",
            "  oob_score, Value: 'true'\n",
            "\n",
            "0.767211190654321\n",
            "Configuration:\n",
            "  bootstrap, Value: 'true'\n",
            "  criterion, Value: 'entropy'\n",
            "  max_features, Value: 0.5987914276996833\n",
            "  min_samples_leaf, Value: 31\n",
            "  min_samples_split, Value: 11\n",
            "  n_estimators, Value: 500\n",
            "  oob_score, Value: 'true'\n",
            "\n",
            "0.8246945060275145\n",
            "Configuration:\n",
            "  bootstrap, Value: 'false'\n",
            "  criterion, Value: 'entropy'\n",
            "  max_features, Value: 0.7638945454477457\n",
            "  min_samples_leaf, Value: 33\n",
            "  min_samples_split, Value: 39\n",
            "  n_estimators, Value: 365\n",
            "\n",
            "0.798093651262129\n",
            "Configuration:\n",
            "  bootstrap, Value: 'true'\n",
            "  criterion, Value: 'entropy'\n",
            "  max_features, Value: 0.5372614371236291\n",
            "  min_samples_leaf, Value: 13\n",
            "  min_samples_split, Value: 17\n",
            "  n_estimators, Value: 355\n",
            "  oob_score, Value: 'true'\n",
            "\n",
            "0.817126251775995\n",
            "Configuration:\n",
            "  bootstrap, Value: 'true'\n",
            "  criterion, Value: 'entropy'\n",
            "  max_features, Value: 0.5987914276996833\n",
            "  min_samples_leaf, Value: 31\n",
            "  min_samples_split, Value: 11\n",
            "  n_estimators, Value: 500\n",
            "  oob_score, Value: 'true'\n",
            "\n",
            "0.8246945060275145\n",
            "Optimized Value: 0.82469\n",
            "Best parameter :  {'bootstrap': 'true', 'criterion': 'entropy', 'max_features': 0.5987914276996833, 'min_samples_leaf': 31, 'min_samples_split': 11, 'n_estimators': 500, 'oob_score': 'true'}\n",
            "Time required in seconds : 16170.943800449371\n"
          ],
          "name": "stdout"
        }
      ]
    },
    {
      "metadata": {
        "id": "E7xjQrB9ougX",
        "colab_type": "text"
      },
      "cell_type": "markdown",
      "source": [
        ""
      ]
    },
    {
      "metadata": {
        "id": "07uTrEQwwszo",
        "colab_type": "text"
      },
      "cell_type": "markdown",
      "source": [
        "### Xgboost with SMAC on MagicTelescope Dataset (OpenML id : 1120)"
      ]
    },
    {
      "metadata": {
        "id": "BAbH2WAIxAXb",
        "colab_type": "code",
        "colab": {
          "base_uri": "https://localhost:8080/",
          "height": 1975
        },
        "outputId": "3efc8143-a9fb-4f23-f9f2-c75f15f051c7"
      },
      "cell_type": "code",
      "source": [
        "# We load MagicTelescope dataset from openml\n",
        "tele = oml.datasets.get_dataset(1120)\n",
        "\n",
        "# Build Configuration Space which defines all parameters and their ranges\n",
        "cs = ConfigurationSpace()\n",
        "\n",
        "#max-depth 1 to 10\n",
        "max_depth = UniformIntegerHyperparameter(\"max_depth\", 1, 10, default_value=3)\n",
        "\n",
        "#learning rate 0.001 to 1\n",
        "learning_rate = UniformFloatHyperparameter(\"learning_rate\", 0.001, 1.0, default_value=0.1)\n",
        "\n",
        "#n_estimators 10 to 500\n",
        "n_estimators = UniformIntegerHyperparameter(\"n_estimators\", 10, 500, default_value=100)\n",
        "\n",
        "#gamma 0 to 1\n",
        "gamma = UniformFloatHyperparameter(\"gamma\", 0.0, 1.0, default_value=0.0)\n",
        "\n",
        "#min_child_weight 1 to 100\n",
        "min_child_weight = UniformIntegerHyperparameter(\"min_child_weight\", 1, 50, default_value=1)\n",
        "\n",
        "#max_delta_step  0 to 50\n",
        "max_delta_step  = UniformIntegerHyperparameter(\"max_delta_step \", 0, 50, default_value=0)\n",
        "\n",
        "#subsample 0.1 to 1\n",
        "subsample = UniformFloatHyperparameter(\"subsample\", 0.0, 1.0, default_value=1.0)\n",
        "\n",
        "#add all to configuration\n",
        "cs.add_hyperparameters([max_depth, learning_rate, n_estimators, gamma, min_child_weight, max_delta_step, subsample])\n",
        "\n",
        "def xgbclassifier_from_cfg(cfg):\n",
        "    print(cfg)\n",
        "    \n",
        "    cfg = {k : cfg[k] for k in cfg if cfg[k]}\n",
        "    \n",
        "    X, y = tele.get_data(target=tele.default_target_attribute)\n",
        "    \n",
        "    xgbc = XGBClassifier(**cfg, random_state=42)\n",
        "    scores = cross_val_score(xgbc, X, y, cv=5, scoring=\"roc_auc\")\n",
        "    print(np.mean(scores))\n",
        "    return 1-np.mean(scores)  # Minimize!\n",
        "\n",
        "# Scenario object\n",
        "scenario = Scenario({\"run_obj\": \"quality\",   # we optimize quality (alternatively runtime)\n",
        "                     \"runcount-limit\": 10,  # maximum function evaluations\n",
        "                     \"cs\": cs,               # configuration space\n",
        "                     \"deterministic\": \"true\"\n",
        "                     })\n",
        "\n",
        "# Optimize, using a SMAC-object\n",
        "print(\"Optimizing! Depending on your machine, this might take a few minutes.\")\n",
        "smac = SMAC(scenario=scenario, rng=np.random.RandomState(42),\n",
        "        tae_runner=xgbclassifier_from_cfg)\n",
        "start = time.time()\n",
        "incumbent = smac.optimize()\n",
        "inc_value = xgbclassifier_from_cfg(incumbent)\n",
        "end = time.time()\n",
        "print(\"Optimized Value: %.5f\" % (1-inc_value))\n",
        "print(\"Best parameter : \", incumbent.get_dictionary())\n",
        "print(\"Time required in seconds :\", (end - start))"
      ],
      "execution_count": 0,
      "outputs": [
        {
          "output_type": "stream",
          "text": [
            "Optimizing! Depending on your machine, this might take a few minutes.\n",
            "Configuration:\n",
            "  gamma, Value: 0.0\n",
            "  learning_rate, Value: 0.1\n",
            "  max_delta_step , Value: 0\n",
            "  max_depth, Value: 3\n",
            "  min_child_weight, Value: 1\n",
            "  n_estimators, Value: 100\n",
            "  subsample, Value: 1.0\n",
            "\n",
            "0.9232925084792702\n",
            "Configuration:\n",
            "  gamma, Value: 0.86402743809919\n",
            "  learning_rate, Value: 0.07948902233771658\n",
            "  max_delta_step , Value: 38\n",
            "  max_depth, Value: 5\n",
            "  min_child_weight, Value: 49\n",
            "  n_estimators, Value: 112\n",
            "  subsample, Value: 0.3496101714366677\n",
            "\n",
            "0.9206544401273818\n",
            "Configuration:\n",
            "  gamma, Value: 0.9494840671337647\n",
            "  learning_rate, Value: 0.12263054541216019\n",
            "  max_delta_step , Value: 33\n",
            "  max_depth, Value: 8\n",
            "  min_child_weight, Value: 27\n",
            "  n_estimators, Value: 317\n",
            "  subsample, Value: 0.2645617534245237\n",
            "\n",
            "0.9282962150717481\n",
            "Configuration:\n",
            "  gamma, Value: 0.7482549767310993\n",
            "  learning_rate, Value: 0.553562021217303\n",
            "  max_delta_step , Value: 35\n",
            "  max_depth, Value: 7\n",
            "  min_child_weight, Value: 45\n",
            "  n_estimators, Value: 65\n",
            "  subsample, Value: 0.289825284190111\n",
            "\n",
            "0.91411856279631\n",
            "Configuration:\n",
            "  gamma, Value: 0.15867921112231842\n",
            "  learning_rate, Value: 0.3534931928833193\n",
            "  max_delta_step , Value: 25\n",
            "  max_depth, Value: 8\n",
            "  min_child_weight, Value: 23\n",
            "  n_estimators, Value: 285\n",
            "  subsample, Value: 0.15887465732563533\n",
            "\n",
            "0.9129389394113503\n",
            "Configuration:\n",
            "  gamma, Value: 0.3465073256253608\n",
            "  learning_rate, Value: 0.99849876687737\n",
            "  max_delta_step , Value: 41\n",
            "  max_depth, Value: 5\n",
            "  min_child_weight, Value: 12\n",
            "  n_estimators, Value: 375\n",
            "  subsample, Value: 0.1941244417562612\n",
            "\n",
            "0.8657918389781095\n",
            "Configuration:\n",
            "  gamma, Value: 0.9816211156765089\n",
            "  learning_rate, Value: 0.41190658420121035\n",
            "  max_delta_step , Value: 12\n",
            "  max_depth, Value: 3\n",
            "  min_child_weight, Value: 15\n",
            "  n_estimators, Value: 271\n",
            "  subsample, Value: 0.15485890977669914\n",
            "\n",
            "0.9125243399498691\n",
            "Configuration:\n",
            "  gamma, Value: 0.9232918975369094\n",
            "  learning_rate, Value: 0.5513056423528659\n",
            "  max_delta_step , Value: 43\n",
            "  max_depth, Value: 3\n",
            "  min_child_weight, Value: 44\n",
            "  n_estimators, Value: 216\n",
            "  subsample, Value: 0.005769885491073934\n",
            "\n",
            "0.5\n",
            "Configuration:\n",
            "  gamma, Value: 0.0546348205656082\n",
            "  learning_rate, Value: 0.527105331921316\n",
            "  max_delta_step , Value: 43\n",
            "  max_depth, Value: 5\n",
            "  min_child_weight, Value: 50\n",
            "  n_estimators, Value: 60\n",
            "  subsample, Value: 0.7575719666202708\n",
            "\n",
            "0.9268127854229405\n",
            "Configuration:\n",
            "  gamma, Value: 0.4514449813504544\n",
            "  learning_rate, Value: 0.015806591809610426\n",
            "  max_delta_step , Value: 44\n",
            "  max_depth, Value: 5\n",
            "  min_child_weight, Value: 34\n",
            "  n_estimators, Value: 238\n",
            "  subsample, Value: 0.11284979911716853\n",
            "\n",
            "0.9047868876082561\n",
            "Configuration:\n",
            "  gamma, Value: 0.9494840671337647\n",
            "  learning_rate, Value: 0.12263054541216019\n",
            "  max_delta_step , Value: 33\n",
            "  max_depth, Value: 8\n",
            "  min_child_weight, Value: 27\n",
            "  n_estimators, Value: 317\n",
            "  subsample, Value: 0.2645617534245237\n",
            "\n",
            "0.9282962150717481\n",
            "Optimized Value: 0.92830\n",
            "Best parameter :  {'gamma': 0.9494840671337647, 'learning_rate': 0.12263054541216019, 'max_delta_step ': 33, 'max_depth': 8, 'min_child_weight': 27, 'n_estimators': 317, 'subsample': 0.2645617534245237}\n",
            "Time required in seconds : 143.2888538837433\n"
          ],
          "name": "stdout"
        }
      ]
    },
    {
      "metadata": {
        "id": "jCEEmDuWiBcD",
        "colab_type": "text"
      },
      "cell_type": "markdown",
      "source": [
        "### Logistic Regression with SMAC on OVA_Breast Dataset (OpenML id : 1128)"
      ]
    },
    {
      "metadata": {
        "id": "XzI-SlUkiWa5",
        "colab_type": "code",
        "colab": {
          "base_uri": "https://localhost:8080/",
          "height": 2091
        },
        "outputId": "a314d11f-b8ed-4e91-e3f7-8999f8794b9a"
      },
      "cell_type": "code",
      "source": [
        "# We load OVA_Breast dataset from openml\n",
        "ova = oml.datasets.get_dataset(1128)\n",
        "\n",
        "# Build Configuration Space which defines all parameters and their ranges\n",
        "cs = ConfigurationSpace()\n",
        "\n",
        "# Penalty as l1 or l2\n",
        "penalty = CategoricalHyperparameter(\"penalty\", [\"l1\", \"l2\"], default_value=\"l2\")\n",
        "cs.add_hyperparameter(penalty)\n",
        "\n",
        "# Common Hyperparameters\n",
        "C = UniformFloatHyperparameter(\"C\", 0.001, 1000.0, default_value=1.0)\n",
        "cs.add_hyperparameter(C)\n",
        "\n",
        "# penalty specific dual parameter\n",
        "dual = CategoricalHyperparameter(\"dual\", [\"true\", \"false\"], default_value=\"false\")\n",
        "cs.add_hyperparameter(dual)\n",
        "\n",
        "# dual is used only when penalty = \"l2\"\n",
        "cs.add_condition(InCondition(child=dual, parent=penalty, values=[\"l2\"]))\n",
        "\n",
        "def logreg_from_cfg(cfg):\n",
        "    print(cfg)\n",
        "    \"\"\" Creates a SVM based on a configuration and evaluates it on the\n",
        "    iris-dataset using cross-validation.\n",
        "\n",
        "    Parameters:\n",
        "    -----------\n",
        "    cfg: Configuration (ConfigSpace.ConfigurationSpace.Configuration)\n",
        "        Configuration containing the parameters.\n",
        "        Configurations are indexable!\n",
        "\n",
        "    Returns:\n",
        "    --------\n",
        "    A crossvalidated mean score for the svm on the loaded data-set.\n",
        "    \"\"\"\n",
        "    # For deactivated parameters, the configuration stores None-values.\n",
        "    # This is not accepted by the SVM, so we remove them.\n",
        "    cfg = {k : cfg[k] for k in cfg if cfg[k]}\n",
        "    # We translate boolean values:\n",
        "    if(cfg[\"penalty\"]==\"l2\"):\n",
        "      cfg[\"dual\"] = True if cfg[\"dual\"] == \"true\" else False\n",
        "    \n",
        "    X, y = ova.get_data(target=ova.default_target_attribute)\n",
        "    \n",
        "    logreg = LogisticRegression(**cfg, random_state=42)\n",
        "    scores = cross_val_score(logreg, X, y, cv=5, scoring=\"roc_auc\")\n",
        "    print(np.mean(scores))\n",
        "    return 1-np.mean(scores)  # Minimize!\n",
        "  \n",
        "# Scenario object\n",
        "scenario = Scenario({\"run_obj\": \"quality\",   # we optimize quality (alternatively runtime)\n",
        "                     \"runcount-limit\": 20,  # maximum function evaluations\n",
        "                     \"cs\": cs,               # configuration space\n",
        "                     \"deterministic\": \"true\"\n",
        "                     })\n",
        "\n",
        "# Optimize, using a SMAC-object\n",
        "print(\"Optimizing! Depending on your machine, this might take a few minutes.\")\n",
        "smac = SMAC(scenario=scenario, rng=np.random.RandomState(42),\n",
        "        tae_runner=logreg_from_cfg)\n",
        "start = time.time()\n",
        "incumbent = smac.optimize()\n",
        "inc_value = logreg_from_cfg(incumbent)\n",
        "end = time.time()\n",
        "print(\"Optimized Value: %.5f\" % (1-inc_value))\n",
        "print(\"Best parameter : \", incumbent.get_dictionary())\n",
        "print(\"Time required in seconds :\", (end - start))"
      ],
      "execution_count": 7,
      "outputs": [
        {
          "output_type": "stream",
          "text": [
            "Optimizing! Depending on your machine, this might take a few minutes.\n",
            "Configuration:\n",
            "  C, Value: 1.0\n",
            "  dual, Value: 'false'\n",
            "  penalty, Value: 'l2'\n",
            "\n",
            "0.9706116175497803\n",
            "Configuration:\n",
            "  C, Value: 533.5897920881849\n",
            "  penalty, Value: 'l1'\n",
            "\n",
            "0.9647187371400541\n",
            "Configuration:\n",
            "  C, Value: 376.15135912829777\n",
            "  penalty, Value: 'l1'\n",
            "\n",
            "0.9646946827771942\n",
            "Configuration:\n",
            "  C, Value: 417.82477346009733\n",
            "  penalty, Value: 'l1'\n",
            "\n",
            "0.9647065323513493\n",
            "Configuration:\n",
            "  C, Value: 137.4362714801022\n",
            "  dual, Value: 'true'\n",
            "  penalty, Value: 'l2'\n",
            "\n",
            "0.6913092559773323\n",
            "Configuration:\n",
            "  C, Value: 778.7203896838414\n",
            "  penalty, Value: 'l1'\n",
            "\n",
            "0.9647186870267982\n",
            "Configuration:\n",
            "  C, Value: 885.0548269692787\n",
            "  dual, Value: 'false'\n",
            "  penalty, Value: 'l2'\n",
            "\n",
            "0.970353198964955\n",
            "Configuration:\n",
            "  C, Value: 293.74955604326345\n",
            "  dual, Value: 'true'\n",
            "  penalty, Value: 'l2'\n",
            "\n",
            "0.6913090783700575\n",
            "Configuration:\n",
            "  C, Value: 111.52232056523157\n",
            "  dual, Value: 'false'\n",
            "  penalty, Value: 'l2'\n",
            "\n",
            "0.9704630103740335\n",
            "Configuration:\n",
            "  C, Value: 857.3401663449786\n",
            "  dual, Value: 'true'\n",
            "  penalty, Value: 'l2'\n",
            "\n",
            "0.6912002279563578\n",
            "Configuration:\n",
            "  C, Value: 100.51054190720704\n",
            "  penalty, Value: 'l1'\n",
            "\n",
            "0.9646457132826068\n",
            "Configuration:\n",
            "  C, Value: 330.0962070275195\n",
            "  penalty, Value: 'l1'\n",
            "\n",
            "0.96470676007188\n",
            "Configuration:\n",
            "  C, Value: 31.932055583016826\n",
            "  dual, Value: 'false'\n",
            "  penalty, Value: 'l2'\n",
            "\n",
            "0.9705630032697424\n",
            "Configuration:\n",
            "  C, Value: 7.24733734615292\n",
            "  dual, Value: 'false'\n",
            "  penalty, Value: 'l2'\n",
            "\n",
            "0.9705595012375026\n",
            "Configuration:\n",
            "  C, Value: 158.68005244310731\n",
            "  penalty, Value: 'l1'\n",
            "\n",
            "0.9646824779884893\n",
            "Configuration:\n",
            "  C, Value: 122.10788477399785\n",
            "  dual, Value: 'false'\n",
            "  penalty, Value: 'l2'\n",
            "\n",
            "0.9703301100192316\n",
            "Configuration:\n",
            "  C, Value: 894.1734248958347\n",
            "  penalty, Value: 'l1'\n",
            "\n",
            "0.9647186870267982\n",
            "Configuration:\n",
            "  C, Value: 122.37612080570943\n",
            "  dual, Value: 'false'\n",
            "  penalty, Value: 'l2'\n",
            "\n",
            "0.9702931404385676\n",
            "Configuration:\n",
            "  C, Value: 838.4624817278423\n",
            "  dual, Value: 'false'\n",
            "  penalty, Value: 'l2'\n",
            "\n",
            "0.9702069780645436\n",
            "Configuration:\n",
            "  C, Value: 125.50842449986287\n",
            "  dual, Value: 'false'\n",
            "  penalty, Value: 'l2'\n",
            "\n",
            "0.970415334243626\n",
            "Configuration:\n",
            "  C, Value: 1.0\n",
            "  dual, Value: 'false'\n",
            "  penalty, Value: 'l2'\n",
            "\n",
            "0.9706116175497803\n",
            "Optimized Value: 0.97061\n",
            "Best parameter :  {'C': 1.0, 'penalty': 'l2', 'dual': 'false'}\n",
            "Time required in seconds : 726.4401013851166\n"
          ],
          "name": "stdout"
        }
      ]
    },
    {
      "metadata": {
        "id": "3bKtG79WWQ6Y",
        "colab_type": "text"
      },
      "cell_type": "markdown",
      "source": [
        "### RandomForestClassifier with SMAC on covertype Dataset (OpenML id : 293)"
      ]
    },
    {
      "metadata": {
        "id": "V-_17TrPWQT-",
        "colab_type": "code",
        "colab": {}
      },
      "cell_type": "code",
      "source": [
        "# We load ct dataset from openml\n",
        "ct = oml.datasets.get_dataset(293)\n",
        "\n",
        "# Build Configuration Space which defines all parameters and their ranges\n",
        "cs = ConfigurationSpace()\n",
        "\n",
        "#n_estimators 10 to 500\n",
        "n_estimators = UniformIntegerHyperparameter(\"n_estimators\", 10, 500, default_value=10)\n",
        "\n",
        "#criterion\n",
        "criterion = CategoricalHyperparameter(\"criterion\", [\"gini\", \"entropy\"], default_value=\"gini\")\n",
        "\n",
        "#max_features 0.01 to 1\n",
        "max_features = UniformFloatHyperparameter(\"max_features\", 0.01, 1.0, default_value=1.0)\n",
        "\n",
        "#min_samples_split\n",
        "min_samples_split = UniformIntegerHyperparameter(\"min_samples_split\", 2, 50, default_value=2)\n",
        "\n",
        "#min_samples_leaf\n",
        "min_samples_leaf = UniformIntegerHyperparameter(\"min_samples_leaf\", 1, 50, default_value=1)\n",
        "\n",
        "#bootstrap\n",
        "bootstrap = CategoricalHyperparameter(\"bootstrap\", [\"true\", \"false\"], default_value=\"false\")\n",
        "\n",
        "#oob_score\n",
        "oob_score = CategoricalHyperparameter(\"oob_score\", [\"true\", \"false\"], default_value=\"false\")\n",
        "use_oob_score = InCondition(child=oob_score, parent=bootstrap, values=[\"true\"])\n",
        "\n",
        "#add all to configuration\n",
        "cs.add_hyperparameters([n_estimators, criterion, max_features, min_samples_split, min_samples_leaf, bootstrap, oob_score])\n",
        "cs.add_conditions([use_oob_score])\n",
        "\n",
        "def rfclassifier_from_cfg(cfg):\n",
        "    print(cfg)\n",
        "    cfg = {k : cfg[k] for k in cfg if cfg[k]}\n",
        "    cfg[\"bootstrap\"] = True if cfg[\"bootstrap\"] == \"true\" else False\n",
        "    if(cfg[\"bootstrap\"]==True):\n",
        "      cfg[\"oob_score\"] = True if cfg[\"oob_score\"] == \"true\" else False\n",
        "    X, y = ct.get_data(target=ct.default_target_attribute)\n",
        "    etc = RandomForestClassifier(**cfg, random_state=42)\n",
        "    scores = cross_val_score(etc, X, y, cv=5, scoring=\"roc_auc\")\n",
        "    print(np.mean(scores))\n",
        "    return 1-np.mean(scores)  # Minimize!\n",
        "\n",
        "# Scenario object\n",
        "scenario = Scenario({\"run_obj\": \"quality\",   # we optimize quality (alternatively runtime)\n",
        "                     \"runcount-limit\": 5,  # maximum function evaluations\n",
        "                     \"cs\": cs,               # configuration space\n",
        "                     \"deterministic\": \"true\"\n",
        "                     })\n",
        "\n",
        "# Optimize, using a SMAC-object\n",
        "print(\"Optimizing! Depending on your machine, this might take a few minutes.\")\n",
        "smac = SMAC(scenario=scenario, rng=np.random.RandomState(42),\n",
        "        tae_runner=rfclassifier_from_cfg)\n",
        "start = time.time()\n",
        "incumbent = smac.optimize()\n",
        "inc_value = rfclassifier_from_cfg(incumbent)\n",
        "end = time.time()\n",
        "print(\"Optimized Value: %.5f\" % (1-inc_value))\n",
        "print(\"Best parameter : \", incumbent.get_dictionary())\n",
        "print(\"Time required in seconds :\", (end - start))"
      ],
      "execution_count": 0,
      "outputs": []
    },
    {
      "metadata": {
        "id": "Hxuf28nvzHNB",
        "colab_type": "text"
      },
      "cell_type": "markdown",
      "source": [
        "### END\n",
        "\n"
      ]
    }
  ]
}