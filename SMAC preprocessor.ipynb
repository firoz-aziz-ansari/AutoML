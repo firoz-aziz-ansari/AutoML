{
 "cells": [
  {
   "cell_type": "markdown",
   "metadata": {
    "id": "view-in-github",
    "colab_type": "text"
   },
   "source": [
    "[View in Colaboratory](https://colab.research.google.com/github/thundercat95/AutoML/blob/master/SMAC%20preprocessor.ipynb)"
   ]
  },
  {
   "cell_type": "markdown",
   "metadata": {
    "id": "iAU2PA995fm8",
    "colab_type": "text"
   },
   "source": [
    "## Installation"
   ]
  },
  {
   "cell_type": "code",
   "execution_count": 0,
   "metadata": {
    "id": "eTtp9ihb5ekl",
    "colab_type": "code",
    "colab": {}
   },
   "outputs": [],
   "source": [
    "!pip install openml\n",
    "!apt-get install build-essential swig\n",
    "!pip install smac\n",
    "!pip install xgboost"
   ]
  },
  {
   "cell_type": "markdown",
   "metadata": {
    "id": "-WYSyZOF5wgY",
    "colab_type": "text"
   },
   "source": [
    "## Imports"
   ]
  },
  {
   "cell_type": "code",
   "execution_count": 0,
   "metadata": {
    "id": "ywV84pcx50ik",
    "colab_type": "code",
    "colab": {}
   },
   "outputs": [],
   "source": [
    "import numpy as np\n",
    "import pandas as pd\n",
    "import time\n",
    "from sklearn import svm, datasets\n",
    "from sklearn.model_selection import train_test_split\n",
    "from sklearn.model_selection import cross_val_score\n",
    "from sklearn.linear_model import LogisticRegression\n",
    "from sklearn.ensemble import ExtraTreesClassifier\n",
    "from sklearn.ensemble import RandomForestClassifier\n",
    "from sklearn import metrics\n",
    "from sklearn.preprocessing import StandardScaler\n",
    "from sklearn.preprocessing import Imputer\n",
    "from sklearn.preprocessing import normalize\n",
    "from sklearn.preprocessing import Normalizer\n",
    "from sklearn import decomposition\n",
    "from sklearn.pipeline import Pipeline\n",
    "from sklearn.base import BaseEstimator\n",
    "from xgboost import XGBClassifier\n",
    "import openml as oml\n",
    "apikey = '2f6c58f4f6d62ea93dd32764ec88089c'\n",
    "oml.config.apikey = apikey\n",
    "\n",
    "# Import ConfigSpace and different types of parameters\n",
    "from smac.configspace import ConfigurationSpace\n",
    "from ConfigSpace.hyperparameters import CategoricalHyperparameter, UniformFloatHyperparameter, UniformIntegerHyperparameter\n",
    "from ConfigSpace.conditions import *\n",
    "\n",
    "# Import SMAC-utilities\n",
    "from smac.tae.execute_func import ExecuteTAFuncDict\n",
    "from smac.scenario.scenario import Scenario\n",
    "from smac.facade.smac_facade import SMAC"
   ]
  },
  {
   "cell_type": "markdown",
   "metadata": {
    "id": "BKG5dF4q6gvf",
    "colab_type": "text"
   },
   "source": [
    "## Test with Splice Dataset (OpenML id : 46)"
   ]
  },
  {
   "cell_type": "code",
   "execution_count": 0,
   "metadata": {
    "id": "4cqo9DNy6itz",
    "colab_type": "code",
    "colab": {
     "base_uri": "https://localhost:8080/",
     "height": 2349.0
    },
    "outputId": "5d15ebe0-54cc-4981-e75f-6b09eed8f27f"
   },
   "outputs": [
    {
     "name": "stdout",
     "output_type": "stream",
     "text": [
      "Optimizing! Depending on your machine, this might take a few minutes.\n",
      "Configuration:\n",
      "  gamma, Value: 0.0\n",
      "  learning_rate, Value: 0.1\n",
      "  max_delta_step , Value: 0\n",
      "  max_depth, Value: 3\n",
      "  min_child_weight, Value: 1\n",
      "  n_estimators, Value: 100\n",
      "  norm, Value: 'l2'\n",
      "  subsample, Value: 1.0\n",
      "\n",
      "{'norm': 'l2'}\n"
     ]
    },
    {
     "name": "stderr",
     "output_type": "stream",
     "text": [
      "/usr/local/lib/python3.6/dist-packages/sklearn/preprocessing/label.py:151: DeprecationWarning: The truth value of an empty array is ambiguous. Returning False, but in future this will result in an error. Use `array.size > 0` to check that an array is not empty.\n",
      "  if diff:\n",
      "/usr/local/lib/python3.6/dist-packages/sklearn/preprocessing/label.py:151: DeprecationWarning: The truth value of an empty array is ambiguous. Returning False, but in future this will result in an error. Use `array.size > 0` to check that an array is not empty.\n",
      "  if diff:\n",
      "/usr/local/lib/python3.6/dist-packages/sklearn/preprocessing/label.py:151: DeprecationWarning: The truth value of an empty array is ambiguous. Returning False, but in future this will result in an error. Use `array.size > 0` to check that an array is not empty.\n",
      "  if diff:\n",
      "/usr/local/lib/python3.6/dist-packages/sklearn/preprocessing/label.py:151: DeprecationWarning: The truth value of an empty array is ambiguous. Returning False, but in future this will result in an error. Use `array.size > 0` to check that an array is not empty.\n",
      "  if diff:\n",
      "/usr/local/lib/python3.6/dist-packages/sklearn/preprocessing/label.py:151: DeprecationWarning: The truth value of an empty array is ambiguous. Returning False, but in future this will result in an error. Use `array.size > 0` to check that an array is not empty.\n",
      "  if diff:\n"
     ]
    },
    {
     "name": "stdout",
     "output_type": "stream",
     "text": [
      "0.9564272318105663\n",
      "Configuration:\n",
      "  gamma, Value: 0.7359525285652845\n",
      "  learning_rate, Value: 0.8117657600950038\n",
      "  max_delta_step , Value: 48\n",
      "  max_depth, Value: 5\n",
      "  min_child_weight, Value: 12\n",
      "  n_estimators, Value: 103\n",
      "  norm, Value: 'max'\n",
      "  subsample, Value: 0.46610295102568133\n",
      "\n",
      "{'norm': 'max'}\n"
     ]
    },
    {
     "name": "stderr",
     "output_type": "stream",
     "text": [
      "/usr/local/lib/python3.6/dist-packages/sklearn/preprocessing/label.py:151: DeprecationWarning: The truth value of an empty array is ambiguous. Returning False, but in future this will result in an error. Use `array.size > 0` to check that an array is not empty.\n",
      "  if diff:\n",
      "/usr/local/lib/python3.6/dist-packages/sklearn/preprocessing/label.py:151: DeprecationWarning: The truth value of an empty array is ambiguous. Returning False, but in future this will result in an error. Use `array.size > 0` to check that an array is not empty.\n",
      "  if diff:\n",
      "/usr/local/lib/python3.6/dist-packages/sklearn/preprocessing/label.py:151: DeprecationWarning: The truth value of an empty array is ambiguous. Returning False, but in future this will result in an error. Use `array.size > 0` to check that an array is not empty.\n",
      "  if diff:\n",
      "/usr/local/lib/python3.6/dist-packages/sklearn/preprocessing/label.py:151: DeprecationWarning: The truth value of an empty array is ambiguous. Returning False, but in future this will result in an error. Use `array.size > 0` to check that an array is not empty.\n",
      "  if diff:\n",
      "/usr/local/lib/python3.6/dist-packages/sklearn/preprocessing/label.py:151: DeprecationWarning: The truth value of an empty array is ambiguous. Returning False, but in future this will result in an error. Use `array.size > 0` to check that an array is not empty.\n",
      "  if diff:\n"
     ]
    },
    {
     "name": "stdout",
     "output_type": "stream",
     "text": [
      "0.9448260081924135\n",
      "Configuration:\n",
      "  gamma, Value: 0.6108620947042035\n",
      "  learning_rate, Value: 0.8363471290456959\n",
      "  max_delta_step , Value: 5\n",
      "  max_depth, Value: 7\n",
      "  min_child_weight, Value: 23\n",
      "  n_estimators, Value: 68\n",
      "  norm, Value: 'max'\n",
      "  subsample, Value: 0.18550419634224635\n",
      "\n",
      "{'norm': 'max'}\n"
     ]
    },
    {
     "name": "stderr",
     "output_type": "stream",
     "text": [
      "/usr/local/lib/python3.6/dist-packages/sklearn/preprocessing/label.py:151: DeprecationWarning: The truth value of an empty array is ambiguous. Returning False, but in future this will result in an error. Use `array.size > 0` to check that an array is not empty.\n",
      "  if diff:\n",
      "/usr/local/lib/python3.6/dist-packages/sklearn/preprocessing/label.py:151: DeprecationWarning: The truth value of an empty array is ambiguous. Returning False, but in future this will result in an error. Use `array.size > 0` to check that an array is not empty.\n",
      "  if diff:\n",
      "/usr/local/lib/python3.6/dist-packages/sklearn/preprocessing/label.py:151: DeprecationWarning: The truth value of an empty array is ambiguous. Returning False, but in future this will result in an error. Use `array.size > 0` to check that an array is not empty.\n",
      "  if diff:\n",
      "/usr/local/lib/python3.6/dist-packages/sklearn/preprocessing/label.py:151: DeprecationWarning: The truth value of an empty array is ambiguous. Returning False, but in future this will result in an error. Use `array.size > 0` to check that an array is not empty.\n",
      "  if diff:\n",
      "/usr/local/lib/python3.6/dist-packages/sklearn/preprocessing/label.py:151: DeprecationWarning: The truth value of an empty array is ambiguous. Returning False, but in future this will result in an error. Use `array.size > 0` to check that an array is not empty.\n",
      "  if diff:\n"
     ]
    },
    {
     "name": "stdout",
     "output_type": "stream",
     "text": [
      "0.9319782232153008\n",
      "Configuration:\n",
      "  gamma, Value: 0.4372298697996926\n",
      "  learning_rate, Value: 0.4332483856090999\n",
      "  max_delta_step , Value: 13\n",
      "  max_depth, Value: 3\n",
      "  min_child_weight, Value: 36\n",
      "  n_estimators, Value: 331\n",
      "  norm, Value: 'l1'\n",
      "  subsample, Value: 0.7658859038977468\n",
      "\n",
      "{'norm': 'l1'}\n"
     ]
    },
    {
     "name": "stderr",
     "output_type": "stream",
     "text": [
      "/usr/local/lib/python3.6/dist-packages/sklearn/preprocessing/label.py:151: DeprecationWarning: The truth value of an empty array is ambiguous. Returning False, but in future this will result in an error. Use `array.size > 0` to check that an array is not empty.\n",
      "  if diff:\n",
      "/usr/local/lib/python3.6/dist-packages/sklearn/preprocessing/label.py:151: DeprecationWarning: The truth value of an empty array is ambiguous. Returning False, but in future this will result in an error. Use `array.size > 0` to check that an array is not empty.\n",
      "  if diff:\n",
      "/usr/local/lib/python3.6/dist-packages/sklearn/preprocessing/label.py:151: DeprecationWarning: The truth value of an empty array is ambiguous. Returning False, but in future this will result in an error. Use `array.size > 0` to check that an array is not empty.\n",
      "  if diff:\n",
      "/usr/local/lib/python3.6/dist-packages/sklearn/preprocessing/label.py:151: DeprecationWarning: The truth value of an empty array is ambiguous. Returning False, but in future this will result in an error. Use `array.size > 0` to check that an array is not empty.\n",
      "  if diff:\n",
      "/usr/local/lib/python3.6/dist-packages/sklearn/preprocessing/label.py:151: DeprecationWarning: The truth value of an empty array is ambiguous. Returning False, but in future this will result in an error. Use `array.size > 0` to check that an array is not empty.\n",
      "  if diff:\n"
     ]
    },
    {
     "name": "stdout",
     "output_type": "stream",
     "text": [
      "0.9482757619509163\n",
      "Configuration:\n",
      "  gamma, Value: 0.9187416722392869\n",
      "  learning_rate, Value: 0.6433665259425442\n",
      "  max_delta_step , Value: 11\n",
      "  max_depth, Value: 6\n",
      "  min_child_weight, Value: 4\n",
      "  n_estimators, Value: 434\n",
      "  norm, Value: 'l2'\n",
      "  subsample, Value: 0.5109722934233317\n",
      "\n",
      "{'norm': 'l2'}\n"
     ]
    },
    {
     "name": "stderr",
     "output_type": "stream",
     "text": [
      "/usr/local/lib/python3.6/dist-packages/sklearn/preprocessing/label.py:151: DeprecationWarning: The truth value of an empty array is ambiguous. Returning False, but in future this will result in an error. Use `array.size > 0` to check that an array is not empty.\n",
      "  if diff:\n",
      "/usr/local/lib/python3.6/dist-packages/sklearn/preprocessing/label.py:151: DeprecationWarning: The truth value of an empty array is ambiguous. Returning False, but in future this will result in an error. Use `array.size > 0` to check that an array is not empty.\n",
      "  if diff:\n",
      "/usr/local/lib/python3.6/dist-packages/sklearn/preprocessing/label.py:151: DeprecationWarning: The truth value of an empty array is ambiguous. Returning False, but in future this will result in an error. Use `array.size > 0` to check that an array is not empty.\n",
      "  if diff:\n",
      "/usr/local/lib/python3.6/dist-packages/sklearn/preprocessing/label.py:151: DeprecationWarning: The truth value of an empty array is ambiguous. Returning False, but in future this will result in an error. Use `array.size > 0` to check that an array is not empty.\n",
      "  if diff:\n",
      "/usr/local/lib/python3.6/dist-packages/sklearn/preprocessing/label.py:151: DeprecationWarning: The truth value of an empty array is ambiguous. Returning False, but in future this will result in an error. Use `array.size > 0` to check that an array is not empty.\n",
      "  if diff:\n"
     ]
    },
    {
     "name": "stdout",
     "output_type": "stream",
     "text": [
      "0.9564301799020456\n",
      "Configuration:\n",
      "  gamma, Value: 0.9187416722392869\n",
      "  learning_rate, Value: 0.6433665259425442\n",
      "  max_delta_step , Value: 11\n",
      "  max_depth, Value: 6\n",
      "  min_child_weight, Value: 4\n",
      "  n_estimators, Value: 434\n",
      "  norm, Value: 'l2'\n",
      "  subsample, Value: 0.5109722934233317\n",
      "\n",
      "{'norm': 'l2'}\n"
     ]
    },
    {
     "name": "stderr",
     "output_type": "stream",
     "text": [
      "/usr/local/lib/python3.6/dist-packages/sklearn/preprocessing/label.py:151: DeprecationWarning: The truth value of an empty array is ambiguous. Returning False, but in future this will result in an error. Use `array.size > 0` to check that an array is not empty.\n",
      "  if diff:\n",
      "/usr/local/lib/python3.6/dist-packages/sklearn/preprocessing/label.py:151: DeprecationWarning: The truth value of an empty array is ambiguous. Returning False, but in future this will result in an error. Use `array.size > 0` to check that an array is not empty.\n",
      "  if diff:\n",
      "/usr/local/lib/python3.6/dist-packages/sklearn/preprocessing/label.py:151: DeprecationWarning: The truth value of an empty array is ambiguous. Returning False, but in future this will result in an error. Use `array.size > 0` to check that an array is not empty.\n",
      "  if diff:\n",
      "/usr/local/lib/python3.6/dist-packages/sklearn/preprocessing/label.py:151: DeprecationWarning: The truth value of an empty array is ambiguous. Returning False, but in future this will result in an error. Use `array.size > 0` to check that an array is not empty.\n",
      "  if diff:\n"
     ]
    },
    {
     "name": "stdout",
     "output_type": "stream",
     "text": [
      "0.9564301799020456\n",
      "Optimized Value: 0.95643\n",
      "Best parameter :  {'gamma': 0.9187416722392869, 'learning_rate': 0.6433665259425442, 'max_delta_step ': 11, 'max_depth': 6, 'min_child_weight': 4, 'n_estimators': 434, 'norm': 'l2', 'subsample': 0.5109722934233317}\n",
      "Time required in seconds : 136.17632913589478\n"
     ]
    },
    {
     "name": "stderr",
     "output_type": "stream",
     "text": [
      "/usr/local/lib/python3.6/dist-packages/sklearn/preprocessing/label.py:151: DeprecationWarning: The truth value of an empty array is ambiguous. Returning False, but in future this will result in an error. Use `array.size > 0` to check that an array is not empty.\n",
      "  if diff:\n"
     ]
    }
   ],
   "source": [
    "# We load Splice dataset from openml\n",
    "splice = oml.datasets.get_dataset(46)\n",
    "\n",
    "#Preprocessor normalize hyper parameter\n",
    "norm = CategoricalHyperparameter(\"norm\", [\"l1\", \"l2\", \"max\"], default_value=\"l2\")\n",
    "\n",
    "# Build Configuration Space for Model\n",
    "cs = ConfigurationSpace()\n",
    "max_depth = UniformIntegerHyperparameter(\"max_depth\", 1, 10, default_value=3)\n",
    "learning_rate = UniformFloatHyperparameter(\"learning_rate\", 0.001, 1.0, default_value=0.1)\n",
    "n_estimators = UniformIntegerHyperparameter(\"n_estimators\", 10, 500, default_value=100)\n",
    "gamma = UniformFloatHyperparameter(\"gamma\", 0.0, 1.0, default_value=0.0)\n",
    "min_child_weight = UniformIntegerHyperparameter(\"min_child_weight\", 1, 50, default_value=1)\n",
    "max_delta_step  = UniformIntegerHyperparameter(\"max_delta_step \", 0, 50, default_value=0)\n",
    "subsample = UniformFloatHyperparameter(\"subsample\", 0.0, 1.0, default_value=1.0)\n",
    "cs.add_hyperparameters([max_depth, learning_rate, n_estimators, gamma, min_child_weight, max_delta_step, subsample,norm])\n",
    "\n",
    "\n",
    "def model_with_pre(cfg):\n",
    "    print(cfg)\n",
    "    cfg = {k : cfg[k] for k in cfg if cfg[k]}\n",
    "    pre_cfg ={}\n",
    "    X, y = splice.get_data(target=splice.default_target_attribute)\n",
    "    pre_cfg['norm'] = cfg['norm']\n",
    "    print(pre_cfg)\n",
    "    pre_cfg = {k : pre_cfg[k] for k in pre_cfg if pre_cfg[k]}\n",
    "    X_new = normalize(X, **pre_cfg)\n",
    "    del cfg['norm']\n",
    "    xgbc = XGBClassifier(**cfg, random_state=42)\n",
    "    scores = cross_val_score(xgbc, X_new, y, cv=5)\n",
    "    print(np.mean(scores))\n",
    "    return 1-np.mean(scores)  # Minimize!\n",
    "  \n",
    "# Scenario object\n",
    "scenario = Scenario({\"run_obj\": \"quality\",   # we optimize quality (alternatively runtime)\n",
    "                     \"runcount-limit\": 5,  # maximum function evaluations\n",
    "                     \"cs\": cs,               # configuration space\n",
    "                     \"deterministic\": \"true\"\n",
    "                     })\n",
    "\n",
    "# Optimize, using a SMAC-object\n",
    "print(\"Optimizing! Depending on your machine, this might take a few minutes.\")\n",
    "smac = SMAC(scenario=scenario, rng=np.random.RandomState(42),\n",
    "        tae_runner=model_with_pre)\n",
    "start = time.time()\n",
    "incumbent = smac.optimize()\n",
    "inc_value = model_with_pre(incumbent)\n",
    "end = time.time()\n",
    "print(\"Optimized Value: %.5f\" % (1-inc_value))\n",
    "print(\"Best parameter : \", incumbent.get_dictionary())\n",
    "print(\"Time required in seconds :\", (end - start))\n",
    "\n",
    "\n"
   ]
  },
  {
   "cell_type": "markdown",
   "metadata": {
    "id": "guYr3AIOoa-M",
    "colab_type": "text"
   },
   "source": [
    "## Pipeline"
   ]
  },
  {
   "cell_type": "code",
   "execution_count": 0,
   "metadata": {
    "id": "dPKfcXaLod2V",
    "colab_type": "code",
    "colab": {
     "base_uri": "https://localhost:8080/",
     "height": 2451.0
    },
    "outputId": "3d6d1b62-df76-4d3e-d54e-306be98f533d"
   },
   "outputs": [
    {
     "name": "stdout",
     "output_type": "stream",
     "text": [
      "Optimizing! Depending on your machine, this might take a few minutes.\n",
      "Configuration:\n",
      "  gamma, Value: 0.0\n",
      "  learning_rate, Value: 0.1\n",
      "  max_delta_step , Value: 0\n",
      "  max_depth, Value: 3\n",
      "  min_child_weight, Value: 1\n",
      "  n_estimators, Value: 100\n",
      "  norm, Value: 'l2'\n",
      "  subsample, Value: 1.0\n",
      "\n",
      "{'norm': 'l2'}\n",
      "Normalizer(copy=True, norm='l1')\n"
     ]
    },
    {
     "name": "stderr",
     "output_type": "stream",
     "text": [
      "/usr/local/lib/python3.6/dist-packages/sklearn/preprocessing/label.py:151: DeprecationWarning: The truth value of an empty array is ambiguous. Returning False, but in future this will result in an error. Use `array.size > 0` to check that an array is not empty.\n",
      "  if diff:\n",
      "/usr/local/lib/python3.6/dist-packages/sklearn/preprocessing/label.py:151: DeprecationWarning: The truth value of an empty array is ambiguous. Returning False, but in future this will result in an error. Use `array.size > 0` to check that an array is not empty.\n",
      "  if diff:\n",
      "/usr/local/lib/python3.6/dist-packages/sklearn/preprocessing/label.py:151: DeprecationWarning: The truth value of an empty array is ambiguous. Returning False, but in future this will result in an error. Use `array.size > 0` to check that an array is not empty.\n",
      "  if diff:\n",
      "/usr/local/lib/python3.6/dist-packages/sklearn/preprocessing/label.py:151: DeprecationWarning: The truth value of an empty array is ambiguous. Returning False, but in future this will result in an error. Use `array.size > 0` to check that an array is not empty.\n",
      "  if diff:\n",
      "/usr/local/lib/python3.6/dist-packages/sklearn/preprocessing/label.py:151: DeprecationWarning: The truth value of an empty array is ambiguous. Returning False, but in future this will result in an error. Use `array.size > 0` to check that an array is not empty.\n",
      "  if diff:\n"
     ]
    },
    {
     "name": "stdout",
     "output_type": "stream",
     "text": [
      "0.9589321222499603\n",
      "Configuration:\n",
      "  gamma, Value: 0.8527391249355921\n",
      "  learning_rate, Value: 0.45037628925500317\n",
      "  max_delta_step , Value: 41\n",
      "  max_depth, Value: 1\n",
      "  min_child_weight, Value: 19\n",
      "  n_estimators, Value: 388\n",
      "  norm, Value: 'max'\n",
      "  subsample, Value: 0.6982551360049958\n",
      "\n",
      "{'norm': 'max'}\n",
      "Normalizer(copy=True, norm='l1')\n"
     ]
    },
    {
     "name": "stderr",
     "output_type": "stream",
     "text": [
      "/usr/local/lib/python3.6/dist-packages/sklearn/preprocessing/label.py:151: DeprecationWarning: The truth value of an empty array is ambiguous. Returning False, but in future this will result in an error. Use `array.size > 0` to check that an array is not empty.\n",
      "  if diff:\n",
      "/usr/local/lib/python3.6/dist-packages/sklearn/preprocessing/label.py:151: DeprecationWarning: The truth value of an empty array is ambiguous. Returning False, but in future this will result in an error. Use `array.size > 0` to check that an array is not empty.\n",
      "  if diff:\n",
      "/usr/local/lib/python3.6/dist-packages/sklearn/preprocessing/label.py:151: DeprecationWarning: The truth value of an empty array is ambiguous. Returning False, but in future this will result in an error. Use `array.size > 0` to check that an array is not empty.\n",
      "  if diff:\n",
      "/usr/local/lib/python3.6/dist-packages/sklearn/preprocessing/label.py:151: DeprecationWarning: The truth value of an empty array is ambiguous. Returning False, but in future this will result in an error. Use `array.size > 0` to check that an array is not empty.\n",
      "  if diff:\n",
      "/usr/local/lib/python3.6/dist-packages/sklearn/preprocessing/label.py:151: DeprecationWarning: The truth value of an empty array is ambiguous. Returning False, but in future this will result in an error. Use `array.size > 0` to check that an array is not empty.\n",
      "  if diff:\n"
     ]
    },
    {
     "name": "stdout",
     "output_type": "stream",
     "text": [
      "0.9498431569894832\n",
      "Configuration:\n",
      "  gamma, Value: 0.6108620947042035\n",
      "  learning_rate, Value: 0.8363471290456959\n",
      "  max_delta_step , Value: 5\n",
      "  max_depth, Value: 7\n",
      "  min_child_weight, Value: 23\n",
      "  n_estimators, Value: 68\n",
      "  norm, Value: 'max'\n",
      "  subsample, Value: 0.18550419634224635\n",
      "\n",
      "{'norm': 'max'}\n",
      "Normalizer(copy=True, norm='l1')\n"
     ]
    },
    {
     "name": "stderr",
     "output_type": "stream",
     "text": [
      "/usr/local/lib/python3.6/dist-packages/sklearn/preprocessing/label.py:151: DeprecationWarning: The truth value of an empty array is ambiguous. Returning False, but in future this will result in an error. Use `array.size > 0` to check that an array is not empty.\n",
      "  if diff:\n",
      "/usr/local/lib/python3.6/dist-packages/sklearn/preprocessing/label.py:151: DeprecationWarning: The truth value of an empty array is ambiguous. Returning False, but in future this will result in an error. Use `array.size > 0` to check that an array is not empty.\n",
      "  if diff:\n",
      "/usr/local/lib/python3.6/dist-packages/sklearn/preprocessing/label.py:151: DeprecationWarning: The truth value of an empty array is ambiguous. Returning False, but in future this will result in an error. Use `array.size > 0` to check that an array is not empty.\n",
      "  if diff:\n",
      "/usr/local/lib/python3.6/dist-packages/sklearn/preprocessing/label.py:151: DeprecationWarning: The truth value of an empty array is ambiguous. Returning False, but in future this will result in an error. Use `array.size > 0` to check that an array is not empty.\n",
      "  if diff:\n",
      "/usr/local/lib/python3.6/dist-packages/sklearn/preprocessing/label.py:151: DeprecationWarning: The truth value of an empty array is ambiguous. Returning False, but in future this will result in an error. Use `array.size > 0` to check that an array is not empty.\n",
      "  if diff:\n"
     ]
    },
    {
     "name": "stdout",
     "output_type": "stream",
     "text": [
      "0.9216265090475873\n",
      "Configuration:\n",
      "  gamma, Value: 0.5183345126020776\n",
      "  learning_rate, Value: 0.4075297598687496\n",
      "  max_delta_step , Value: 15\n",
      "  max_depth, Value: 6\n",
      "  min_child_weight, Value: 5\n",
      "  n_estimators, Value: 60\n",
      "  norm, Value: 'max'\n",
      "  subsample, Value: 0.22370237127274972\n",
      "\n",
      "{'norm': 'max'}\n",
      "Normalizer(copy=True, norm='l1')\n"
     ]
    },
    {
     "name": "stderr",
     "output_type": "stream",
     "text": [
      "/usr/local/lib/python3.6/dist-packages/sklearn/preprocessing/label.py:151: DeprecationWarning: The truth value of an empty array is ambiguous. Returning False, but in future this will result in an error. Use `array.size > 0` to check that an array is not empty.\n",
      "  if diff:\n",
      "/usr/local/lib/python3.6/dist-packages/sklearn/preprocessing/label.py:151: DeprecationWarning: The truth value of an empty array is ambiguous. Returning False, but in future this will result in an error. Use `array.size > 0` to check that an array is not empty.\n",
      "  if diff:\n",
      "/usr/local/lib/python3.6/dist-packages/sklearn/preprocessing/label.py:151: DeprecationWarning: The truth value of an empty array is ambiguous. Returning False, but in future this will result in an error. Use `array.size > 0` to check that an array is not empty.\n",
      "  if diff:\n",
      "/usr/local/lib/python3.6/dist-packages/sklearn/preprocessing/label.py:151: DeprecationWarning: The truth value of an empty array is ambiguous. Returning False, but in future this will result in an error. Use `array.size > 0` to check that an array is not empty.\n",
      "  if diff:\n",
      "/usr/local/lib/python3.6/dist-packages/sklearn/preprocessing/label.py:151: DeprecationWarning: The truth value of an empty array is ambiguous. Returning False, but in future this will result in an error. Use `array.size > 0` to check that an array is not empty.\n",
      "  if diff:\n"
     ]
    },
    {
     "name": "stdout",
     "output_type": "stream",
     "text": [
      "0.9551762552456371\n",
      "Configuration:\n",
      "  gamma, Value: 0.9187416722392869\n",
      "  learning_rate, Value: 0.6433665259425442\n",
      "  max_delta_step , Value: 11\n",
      "  max_depth, Value: 6\n",
      "  min_child_weight, Value: 4\n",
      "  n_estimators, Value: 434\n",
      "  norm, Value: 'l2'\n",
      "  subsample, Value: 0.5109722934233317\n",
      "\n",
      "{'norm': 'l2'}\n",
      "Normalizer(copy=True, norm='l1')\n"
     ]
    },
    {
     "name": "stderr",
     "output_type": "stream",
     "text": [
      "/usr/local/lib/python3.6/dist-packages/sklearn/preprocessing/label.py:151: DeprecationWarning: The truth value of an empty array is ambiguous. Returning False, but in future this will result in an error. Use `array.size > 0` to check that an array is not empty.\n",
      "  if diff:\n",
      "/usr/local/lib/python3.6/dist-packages/sklearn/preprocessing/label.py:151: DeprecationWarning: The truth value of an empty array is ambiguous. Returning False, but in future this will result in an error. Use `array.size > 0` to check that an array is not empty.\n",
      "  if diff:\n",
      "/usr/local/lib/python3.6/dist-packages/sklearn/preprocessing/label.py:151: DeprecationWarning: The truth value of an empty array is ambiguous. Returning False, but in future this will result in an error. Use `array.size > 0` to check that an array is not empty.\n",
      "  if diff:\n",
      "/usr/local/lib/python3.6/dist-packages/sklearn/preprocessing/label.py:151: DeprecationWarning: The truth value of an empty array is ambiguous. Returning False, but in future this will result in an error. Use `array.size > 0` to check that an array is not empty.\n",
      "  if diff:\n",
      "/usr/local/lib/python3.6/dist-packages/sklearn/preprocessing/label.py:151: DeprecationWarning: The truth value of an empty array is ambiguous. Returning False, but in future this will result in an error. Use `array.size > 0` to check that an array is not empty.\n",
      "  if diff:\n"
     ]
    },
    {
     "name": "stdout",
     "output_type": "stream",
     "text": [
      "0.9511029809094058\n",
      "Configuration:\n",
      "  gamma, Value: 0.0\n",
      "  learning_rate, Value: 0.1\n",
      "  max_delta_step , Value: 0\n",
      "  max_depth, Value: 3\n",
      "  min_child_weight, Value: 1\n",
      "  n_estimators, Value: 100\n",
      "  norm, Value: 'l2'\n",
      "  subsample, Value: 1.0\n",
      "\n",
      "{'norm': 'l2'}\n",
      "Normalizer(copy=True, norm='l1')\n"
     ]
    },
    {
     "name": "stderr",
     "output_type": "stream",
     "text": [
      "/usr/local/lib/python3.6/dist-packages/sklearn/preprocessing/label.py:151: DeprecationWarning: The truth value of an empty array is ambiguous. Returning False, but in future this will result in an error. Use `array.size > 0` to check that an array is not empty.\n",
      "  if diff:\n",
      "/usr/local/lib/python3.6/dist-packages/sklearn/preprocessing/label.py:151: DeprecationWarning: The truth value of an empty array is ambiguous. Returning False, but in future this will result in an error. Use `array.size > 0` to check that an array is not empty.\n",
      "  if diff:\n",
      "/usr/local/lib/python3.6/dist-packages/sklearn/preprocessing/label.py:151: DeprecationWarning: The truth value of an empty array is ambiguous. Returning False, but in future this will result in an error. Use `array.size > 0` to check that an array is not empty.\n",
      "  if diff:\n",
      "/usr/local/lib/python3.6/dist-packages/sklearn/preprocessing/label.py:151: DeprecationWarning: The truth value of an empty array is ambiguous. Returning False, but in future this will result in an error. Use `array.size > 0` to check that an array is not empty.\n",
      "  if diff:\n"
     ]
    },
    {
     "name": "stdout",
     "output_type": "stream",
     "text": [
      "0.9589321222499603\n",
      "Optimized Value: 0.95893\n",
      "Best parameter :  {'gamma': 0.0, 'learning_rate': 0.1, 'max_delta_step ': 0, 'max_depth': 3, 'min_child_weight': 1, 'n_estimators': 100, 'norm': 'l2', 'subsample': 1.0}\n",
      "Time required in seconds : 79.83850502967834\n"
     ]
    },
    {
     "name": "stderr",
     "output_type": "stream",
     "text": [
      "/usr/local/lib/python3.6/dist-packages/sklearn/preprocessing/label.py:151: DeprecationWarning: The truth value of an empty array is ambiguous. Returning False, but in future this will result in an error. Use `array.size > 0` to check that an array is not empty.\n",
      "  if diff:\n"
     ]
    }
   ],
   "source": [
    "# We load Splice dataset from openml\n",
    "splice = oml.datasets.get_dataset(46)\n",
    "\n",
    "#Preprocessor normalize hyper parameter\n",
    "norm = CategoricalHyperparameter(\"norm\", [\"l1\", \"l2\", \"max\"], default_value=\"l2\")\n",
    "\n",
    "# Build Configuration Space for Model\n",
    "cs = ConfigurationSpace()\n",
    "max_depth = UniformIntegerHyperparameter(\"max_depth\", 1, 10, default_value=3)\n",
    "learning_rate = UniformFloatHyperparameter(\"learning_rate\", 0.001, 1.0, default_value=0.1)\n",
    "n_estimators = UniformIntegerHyperparameter(\"n_estimators\", 10, 500, default_value=100)\n",
    "gamma = UniformFloatHyperparameter(\"gamma\", 0.0, 1.0, default_value=0.0)\n",
    "min_child_weight = UniformIntegerHyperparameter(\"min_child_weight\", 1, 50, default_value=1)\n",
    "max_delta_step  = UniformIntegerHyperparameter(\"max_delta_step \", 0, 50, default_value=0)\n",
    "subsample = UniformFloatHyperparameter(\"subsample\", 0.0, 1.0, default_value=1.0)\n",
    "cs.add_hyperparameters([max_depth, learning_rate, n_estimators, gamma, min_child_weight, max_delta_step, subsample,norm])\n",
    "\n",
    "\n",
    "def model_with_pre(cfg):\n",
    "    print(cfg)\n",
    "    cfg = {k : cfg[k] for k in cfg if cfg[k]}\n",
    "    pre_cfg ={}\n",
    "    X, y = splice.get_data(target=splice.default_target_attribute)\n",
    "    pre_cfg['norm'] = cfg['norm']\n",
    "    print(pre_cfg)\n",
    "    pre_cfg = {k : pre_cfg[k] for k in pre_cfg if pre_cfg[k]}\n",
    "    del cfg['norm']\n",
    "    print(norm)\n",
    "    final = Pipeline([('normalize', Normalizer(**pre_cfg)), ('Xgboost', XGBClassifier(**cfg))])\n",
    "    scores = cross_val_score(final, X, y, cv=5)\n",
    "    print(np.mean(scores))\n",
    "    return 1-np.mean(scores)  # Minimize!\n",
    "  \n",
    "# Scenario object\n",
    "scenario = Scenario({\"run_obj\": \"quality\",   # we optimize quality (alternatively runtime)\n",
    "                     \"runcount-limit\": 5,  # maximum function evaluations\n",
    "                     \"cs\": cs,               # configuration space\n",
    "                     \"deterministic\": \"true\"\n",
    "                     })\n",
    "\n",
    "# Optimize, using a SMAC-object\n",
    "print(\"Optimizing! Depending on your machine, this might take a few minutes.\")\n",
    "smac = SMAC(scenario=scenario, rng=np.random.RandomState(42),\n",
    "        tae_runner=model_with_pre)\n",
    "start = time.time()\n",
    "incumbent = smac.optimize()\n",
    "inc_value = model_with_pre(incumbent)\n",
    "end = time.time()\n",
    "print(\"Optimized Value: %.5f\" % (1-inc_value))  \n",
    "print(\"Best parameter : \", incumbent.get_dictionary())\n",
    "print(\"Time required in seconds :\", (end - start))"
   ]
  },
  {
   "cell_type": "markdown",
   "metadata": {
    "id": "3GYDZGLvpWXz",
    "colab_type": "text"
   },
   "source": [
    "## Test"
   ]
  },
  {
   "cell_type": "code",
   "execution_count": 0,
   "metadata": {
    "id": "9tY3OZxIpV-k",
    "colab_type": "code",
    "colab": {
     "base_uri": "https://localhost:8080/",
     "height": 255.0
    },
    "outputId": "94ab6b4b-ee39-4fad-d928-36a25104f386"
   },
   "outputs": [
    {
     "data": {
      "text/plain": [
       "{'C': 1.0,\n",
       " 'class_weight': None,\n",
       " 'dual': False,\n",
       " 'fit_intercept': True,\n",
       " 'intercept_scaling': 1,\n",
       " 'max_iter': 100,\n",
       " 'multi_class': 'ovr',\n",
       " 'n_jobs': 1,\n",
       " 'penalty': 'l2',\n",
       " 'random_state': None,\n",
       " 'solver': 'liblinear',\n",
       " 'tol': 0.0001,\n",
       " 'verbose': 0,\n",
       " 'warm_start': False}"
      ]
     },
     "execution_count": 11,
     "metadata": {
      "tags": []
     },
     "output_type": "execute_result"
    }
   ],
   "source": [
    "b = dict()\n",
    "b['C'] = 0.1\n",
    "BaseEstimator.get_params(LogisticRegression(),deep=True)"
   ]
  },
  {
   "cell_type": "code",
   "execution_count": 42,
   "metadata": {
    "id": "LkO7k1DHxUBB",
    "colab_type": "code",
    "colab": {
     "base_uri": "https://localhost:8080/",
     "height": 34.0
    },
    "outputId": "dd269411-fc23-48bc-d3de-8c9fda98024c"
   },
   "outputs": [
    {
     "data": {
      "text/plain": [
       "['max_depth']"
      ]
     },
     "execution_count": 42,
     "metadata": {
      "tags": []
     },
     "output_type": "execute_result"
    }
   ],
   "source": [
    "final = Pipeline([('normalize', Normalizer()), ('Xgboost', XGBClassifier())])\n",
    "z = final.steps[1][1]\n",
    "cs1 = ConfigurationSpace()\n",
    "cs2 = ConfigurationSpace()\n",
    "cs3 = ConfigurationSpace()\n",
    "max_depth = UniformIntegerHyperparameter(\"max_depth\", 1, 10, default_value=3)\n",
    "cs1.add_hyperparameters([max_depth])\n",
    "cs1.get_all_unconditional_hyperparameters()"
   ]
  },
  {
   "cell_type": "code",
   "execution_count": 43,
   "metadata": {
    "id": "j5_1NMAh9Kwj",
    "colab_type": "code",
    "colab": {
     "base_uri": "https://localhost:8080/",
     "height": 34.0
    },
    "outputId": "c74f9566-cf75-4393-ae67-af13c152a65a"
   },
   "outputs": [
    {
     "data": {
      "text/plain": [
       "gamma | kernel in {'rbf', 'poly', 'sigmoid'}"
      ]
     },
     "execution_count": 43,
     "metadata": {
      "tags": []
     },
     "output_type": "execute_result"
    }
   ],
   "source": [
    "# Build Configuration Space which defines all parameters and their ranges\n",
    "cs = ConfigurationSpace()\n",
    "\n",
    "# We define a few possible types of SVM-kernels and add them as \"kernel\" to our cs\n",
    "kernel = CategoricalHyperparameter(\"kernel\", [\"linear\", \"rbf\", \"poly\", \"sigmoid\"], default_value=\"poly\")\n",
    "cs.add_hyperparameter(kernel)\n",
    "\n",
    "# There are some hyperparameters shared by all kernels\n",
    "C = UniformFloatHyperparameter(\"C\", 0.001, 1000.0, default_value=1.0)\n",
    "shrinking = CategoricalHyperparameter(\"shrinking\", [\"true\", \"false\"], default_value=\"true\")\n",
    "cs.add_hyperparameters([C, shrinking])\n",
    "\n",
    "# Others are kernel-specific, so we can add conditions to limit the searchspace\n",
    "degree = UniformIntegerHyperparameter(\"degree\", 1, 5, default_value=3)     # Only used by kernel poly\n",
    "coef0 = UniformFloatHyperparameter(\"coef0\", 0.0, 10.0, default_value=0.0)  # poly, sigmoid\n",
    "cs.add_hyperparameters([degree, coef0])\n",
    "use_degree = InCondition(child=degree, parent=kernel, values=[\"poly\"])\n",
    "use_coef0 = InCondition(child=coef0, parent=kernel, values=[\"poly\", \"sigmoid\"])\n",
    "cs.add_conditions([use_degree, use_coef0])\n",
    "\n",
    "# This also works for parameters that are a mix of categorical and values from a range of numbers\n",
    "# For example, gamma can be either \"auto\" or a fixed float\n",
    "gamma = CategoricalHyperparameter(\"gamma\", [\"auto\", \"value\"], default_value=\"auto\")  # only rbf, poly, sigmoid\n",
    "gamma_value = UniformFloatHyperparameter(\"gamma_value\", 0.0001, 8, default_value=1)\n",
    "cs.add_hyperparameters([gamma, gamma_value])\n",
    "\n",
    "# We only activate gamma_value if gamma is set to \"value\"\n",
    "cs.add_condition(InCondition(child=gamma_value, parent=gamma, values=[\"value\"]))\n",
    "# And again we can restrict the use of gamma in general to the choice of the kernel\n",
    "cs.add_condition(InCondition(child=gamma, parent=kernel, values=[\"rbf\", \"poly\", \"sigmoid\"]))\n",
    "\n",
    "def convert_cs_to_dictionary(cfg, num):\n",
    "  cfg_dict = dict()\n",
    "  list_unconditional = cfg.get_all_unconditional_hyperparameters()\n",
    "  list_confitional = cfg.get_all_conditional_hyperparameters()\n",
    "  list_all = list_unconditional + list_confitional\n",
    "  for hyperparameter in list_all:\n",
    "    cfg_dict[\"\"]\n",
    "\n",
    "cs_to_dict = convert_cs_to_dictionary(cs)"
   ]
  }
 ],
 "metadata": {
  "colab": {
   "name": "Hello, Colaboratory",
   "version": "0.3.2",
   "provenance": [],
   "collapsed_sections": [],
   "toc_visible": true,
   "include_colab_link": true
  },
  "kernelspec": {
   "display_name": "Python 3",
   "name": "python3"
  }
 },
 "nbformat": 4,
 "nbformat_minor": 0
}
