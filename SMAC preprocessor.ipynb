{
  "nbformat": 4,
  "nbformat_minor": 0,
  "metadata": {
    "colab": {
      "name": "Hello, Colaboratory",
      "version": "0.3.2",
      "provenance": [],
      "collapsed_sections": [],
      "toc_visible": true,
      "include_colab_link": true
    },
    "kernelspec": {
      "display_name": "Python 3",
      "name": "python3"
    }
  },
  "cells": [
    {
      "cell_type": "markdown",
      "metadata": {
        "id": "view-in-github",
        "colab_type": "text"
      },
      "source": [
        "[View in Colaboratory](https://colab.research.google.com/github/thundercat95/AutoML/blob/master/SMAC%20preprocessor.ipynb)"
      ]
    },
    {
      "metadata": {
        "id": "iAU2PA995fm8",
        "colab_type": "text"
      },
      "cell_type": "markdown",
      "source": [
        "## Installation"
      ]
    },
    {
      "metadata": {
        "id": "eTtp9ihb5ekl",
        "colab_type": "code",
        "colab": {}
      },
      "cell_type": "code",
      "source": [
        "!pip install openml\n",
        "!apt-get install build-essential swig\n",
        "!pip install smac\n",
        "!pip install xgboost\n",
        "!apt-get install vim"
      ],
      "execution_count": 0,
      "outputs": []
    },
    {
      "metadata": {
        "id": "-WYSyZOF5wgY",
        "colab_type": "text"
      },
      "cell_type": "markdown",
      "source": [
        "## Imports"
      ]
    },
    {
      "metadata": {
        "id": "ywV84pcx50ik",
        "colab_type": "code",
        "colab": {}
      },
      "cell_type": "code",
      "source": [
        "import numpy as np\n",
        "import pandas as pd\n",
        "import time\n",
        "from sklearn import svm, datasets\n",
        "from sklearn.model_selection import train_test_split\n",
        "from sklearn.model_selection import cross_val_score\n",
        "from sklearn.linear_model import LogisticRegression\n",
        "from sklearn.ensemble import ExtraTreesClassifier\n",
        "from sklearn.ensemble import RandomForestClassifier\n",
        "from sklearn import metrics\n",
        "from sklearn.preprocessing import StandardScaler\n",
        "from sklearn.preprocessing import Imputer\n",
        "from sklearn.preprocessing import normalize\n",
        "from sklearn.preprocessing import Normalizer\n",
        "from sklearn import decomposition\n",
        "from sklearn.pipeline import Pipeline\n",
        "from sklearn.base import BaseEstimator\n",
        "from xgboost import XGBClassifier\n",
        "import openml as oml\n",
        "apikey = '2f6c58f4f6d62ea93dd32764ec88089c'\n",
        "oml.config.apikey = apikey\n",
        "\n",
        "# Import ConfigSpace and different types of parameters\n",
        "from smac.configspace import ConfigurationSpace\n",
        "from ConfigSpace.hyperparameters import CategoricalHyperparameter, UniformFloatHyperparameter, UniformIntegerHyperparameter\n",
        "from ConfigSpace.conditions import *\n",
        "from ConfigSpace import Configuration\n",
        "\n",
        "# Import SMAC-utilities\n",
        "from smac.tae.execute_func import ExecuteTAFuncDict\n",
        "from smac.scenario.scenario import Scenario\n",
        "from smac.facade.smac_facade import SMAC"
      ],
      "execution_count": 0,
      "outputs": []
    },
    {
      "metadata": {
        "id": "BKG5dF4q6gvf",
        "colab_type": "text"
      },
      "cell_type": "markdown",
      "source": [
        "## Test with Splice Dataset (OpenML id : 46)"
      ]
    },
    {
      "metadata": {
        "id": "4cqo9DNy6itz",
        "colab_type": "code",
        "colab": {
          "base_uri": "https://localhost:8080/",
          "height": 2349
        },
        "outputId": "5d15ebe0-54cc-4981-e75f-6b09eed8f27f"
      },
      "cell_type": "code",
      "source": [
        "# We load Splice dataset from openml\n",
        "splice = oml.datasets.get_dataset(46)\n",
        "\n",
        "#Preprocessor normalize hyper parameter\n",
        "norm = CategoricalHyperparameter(\"norm\", [\"l1\", \"l2\", \"max\"], default_value=\"l2\")\n",
        "\n",
        "# Build Configuration Space for Model\n",
        "cs = ConfigurationSpace()\n",
        "max_depth = UniformIntegerHyperparameter(\"max_depth\", 1, 10, default_value=3)\n",
        "learning_rate = UniformFloatHyperparameter(\"learning_rate\", 0.001, 1.0, default_value=0.1)\n",
        "n_estimators = UniformIntegerHyperparameter(\"n_estimators\", 10, 500, default_value=100)\n",
        "gamma = UniformFloatHyperparameter(\"gamma\", 0.0, 1.0, default_value=0.0)\n",
        "min_child_weight = UniformIntegerHyperparameter(\"min_child_weight\", 1, 50, default_value=1)\n",
        "max_delta_step  = UniformIntegerHyperparameter(\"max_delta_step \", 0, 50, default_value=0)\n",
        "subsample = UniformFloatHyperparameter(\"subsample\", 0.0, 1.0, default_value=1.0)\n",
        "cs.add_hyperparameters([max_depth, learning_rate, n_estimators, gamma, min_child_weight, max_delta_step, subsample,norm])\n",
        "\n",
        "\n",
        "def model_with_pre(cfg):\n",
        "    print(cfg)\n",
        "    cfg = {k : cfg[k] for k in cfg if cfg[k]}\n",
        "    pre_cfg ={}\n",
        "    X, y = splice.get_data(target=splice.default_target_attribute)\n",
        "    pre_cfg['norm'] = cfg['norm']\n",
        "    print(pre_cfg)\n",
        "    pre_cfg = {k : pre_cfg[k] for k in pre_cfg if pre_cfg[k]}\n",
        "    X_new = normalize(X, **pre_cfg)\n",
        "    del cfg['norm']\n",
        "    xgbc = XGBClassifier(**cfg, random_state=42)\n",
        "    scores = cross_val_score(xgbc, X_new, y, cv=5)\n",
        "    print(np.mean(scores))\n",
        "    return 1-np.mean(scores)  # Minimize!\n",
        "  \n",
        "# Scenario object\n",
        "scenario = Scenario({\"run_obj\": \"quality\",   # we optimize quality (alternatively runtime)\n",
        "                     \"runcount-limit\": 5,  # maximum function evaluations\n",
        "                     \"cs\": cs,               # configuration space\n",
        "                     \"deterministic\": \"true\"\n",
        "                     })\n",
        "\n",
        "# Optimize, using a SMAC-object\n",
        "print(\"Optimizing! Depending on your machine, this might take a few minutes.\")\n",
        "smac = SMAC(scenario=scenario, rng=np.random.RandomState(42),\n",
        "        tae_runner=model_with_pre)\n",
        "start = time.time()\n",
        "incumbent = smac.optimize()\n",
        "inc_value = model_with_pre(incumbent)\n",
        "end = time.time()\n",
        "print(\"Optimized Value: %.5f\" % (1-inc_value))\n",
        "print(\"Best parameter : \", incumbent.get_dictionary())\n",
        "print(\"Time required in seconds :\", (end - start))\n",
        "\n",
        "\n"
      ],
      "execution_count": 0,
      "outputs": [
        {
          "output_type": "stream",
          "text": [
            "Optimizing! Depending on your machine, this might take a few minutes.\n",
            "Configuration:\n",
            "  gamma, Value: 0.0\n",
            "  learning_rate, Value: 0.1\n",
            "  max_delta_step , Value: 0\n",
            "  max_depth, Value: 3\n",
            "  min_child_weight, Value: 1\n",
            "  n_estimators, Value: 100\n",
            "  norm, Value: 'l2'\n",
            "  subsample, Value: 1.0\n",
            "\n",
            "{'norm': 'l2'}\n"
          ],
          "name": "stdout"
        },
        {
          "output_type": "stream",
          "text": [
            "/usr/local/lib/python3.6/dist-packages/sklearn/preprocessing/label.py:151: DeprecationWarning: The truth value of an empty array is ambiguous. Returning False, but in future this will result in an error. Use `array.size > 0` to check that an array is not empty.\n",
            "  if diff:\n",
            "/usr/local/lib/python3.6/dist-packages/sklearn/preprocessing/label.py:151: DeprecationWarning: The truth value of an empty array is ambiguous. Returning False, but in future this will result in an error. Use `array.size > 0` to check that an array is not empty.\n",
            "  if diff:\n",
            "/usr/local/lib/python3.6/dist-packages/sklearn/preprocessing/label.py:151: DeprecationWarning: The truth value of an empty array is ambiguous. Returning False, but in future this will result in an error. Use `array.size > 0` to check that an array is not empty.\n",
            "  if diff:\n",
            "/usr/local/lib/python3.6/dist-packages/sklearn/preprocessing/label.py:151: DeprecationWarning: The truth value of an empty array is ambiguous. Returning False, but in future this will result in an error. Use `array.size > 0` to check that an array is not empty.\n",
            "  if diff:\n",
            "/usr/local/lib/python3.6/dist-packages/sklearn/preprocessing/label.py:151: DeprecationWarning: The truth value of an empty array is ambiguous. Returning False, but in future this will result in an error. Use `array.size > 0` to check that an array is not empty.\n",
            "  if diff:\n"
          ],
          "name": "stderr"
        },
        {
          "output_type": "stream",
          "text": [
            "0.9564272318105663\n",
            "Configuration:\n",
            "  gamma, Value: 0.7359525285652845\n",
            "  learning_rate, Value: 0.8117657600950038\n",
            "  max_delta_step , Value: 48\n",
            "  max_depth, Value: 5\n",
            "  min_child_weight, Value: 12\n",
            "  n_estimators, Value: 103\n",
            "  norm, Value: 'max'\n",
            "  subsample, Value: 0.46610295102568133\n",
            "\n",
            "{'norm': 'max'}\n"
          ],
          "name": "stdout"
        },
        {
          "output_type": "stream",
          "text": [
            "/usr/local/lib/python3.6/dist-packages/sklearn/preprocessing/label.py:151: DeprecationWarning: The truth value of an empty array is ambiguous. Returning False, but in future this will result in an error. Use `array.size > 0` to check that an array is not empty.\n",
            "  if diff:\n",
            "/usr/local/lib/python3.6/dist-packages/sklearn/preprocessing/label.py:151: DeprecationWarning: The truth value of an empty array is ambiguous. Returning False, but in future this will result in an error. Use `array.size > 0` to check that an array is not empty.\n",
            "  if diff:\n",
            "/usr/local/lib/python3.6/dist-packages/sklearn/preprocessing/label.py:151: DeprecationWarning: The truth value of an empty array is ambiguous. Returning False, but in future this will result in an error. Use `array.size > 0` to check that an array is not empty.\n",
            "  if diff:\n",
            "/usr/local/lib/python3.6/dist-packages/sklearn/preprocessing/label.py:151: DeprecationWarning: The truth value of an empty array is ambiguous. Returning False, but in future this will result in an error. Use `array.size > 0` to check that an array is not empty.\n",
            "  if diff:\n",
            "/usr/local/lib/python3.6/dist-packages/sklearn/preprocessing/label.py:151: DeprecationWarning: The truth value of an empty array is ambiguous. Returning False, but in future this will result in an error. Use `array.size > 0` to check that an array is not empty.\n",
            "  if diff:\n"
          ],
          "name": "stderr"
        },
        {
          "output_type": "stream",
          "text": [
            "0.9448260081924135\n",
            "Configuration:\n",
            "  gamma, Value: 0.6108620947042035\n",
            "  learning_rate, Value: 0.8363471290456959\n",
            "  max_delta_step , Value: 5\n",
            "  max_depth, Value: 7\n",
            "  min_child_weight, Value: 23\n",
            "  n_estimators, Value: 68\n",
            "  norm, Value: 'max'\n",
            "  subsample, Value: 0.18550419634224635\n",
            "\n",
            "{'norm': 'max'}\n"
          ],
          "name": "stdout"
        },
        {
          "output_type": "stream",
          "text": [
            "/usr/local/lib/python3.6/dist-packages/sklearn/preprocessing/label.py:151: DeprecationWarning: The truth value of an empty array is ambiguous. Returning False, but in future this will result in an error. Use `array.size > 0` to check that an array is not empty.\n",
            "  if diff:\n",
            "/usr/local/lib/python3.6/dist-packages/sklearn/preprocessing/label.py:151: DeprecationWarning: The truth value of an empty array is ambiguous. Returning False, but in future this will result in an error. Use `array.size > 0` to check that an array is not empty.\n",
            "  if diff:\n",
            "/usr/local/lib/python3.6/dist-packages/sklearn/preprocessing/label.py:151: DeprecationWarning: The truth value of an empty array is ambiguous. Returning False, but in future this will result in an error. Use `array.size > 0` to check that an array is not empty.\n",
            "  if diff:\n",
            "/usr/local/lib/python3.6/dist-packages/sklearn/preprocessing/label.py:151: DeprecationWarning: The truth value of an empty array is ambiguous. Returning False, but in future this will result in an error. Use `array.size > 0` to check that an array is not empty.\n",
            "  if diff:\n",
            "/usr/local/lib/python3.6/dist-packages/sklearn/preprocessing/label.py:151: DeprecationWarning: The truth value of an empty array is ambiguous. Returning False, but in future this will result in an error. Use `array.size > 0` to check that an array is not empty.\n",
            "  if diff:\n"
          ],
          "name": "stderr"
        },
        {
          "output_type": "stream",
          "text": [
            "0.9319782232153008\n",
            "Configuration:\n",
            "  gamma, Value: 0.4372298697996926\n",
            "  learning_rate, Value: 0.4332483856090999\n",
            "  max_delta_step , Value: 13\n",
            "  max_depth, Value: 3\n",
            "  min_child_weight, Value: 36\n",
            "  n_estimators, Value: 331\n",
            "  norm, Value: 'l1'\n",
            "  subsample, Value: 0.7658859038977468\n",
            "\n",
            "{'norm': 'l1'}\n"
          ],
          "name": "stdout"
        },
        {
          "output_type": "stream",
          "text": [
            "/usr/local/lib/python3.6/dist-packages/sklearn/preprocessing/label.py:151: DeprecationWarning: The truth value of an empty array is ambiguous. Returning False, but in future this will result in an error. Use `array.size > 0` to check that an array is not empty.\n",
            "  if diff:\n",
            "/usr/local/lib/python3.6/dist-packages/sklearn/preprocessing/label.py:151: DeprecationWarning: The truth value of an empty array is ambiguous. Returning False, but in future this will result in an error. Use `array.size > 0` to check that an array is not empty.\n",
            "  if diff:\n",
            "/usr/local/lib/python3.6/dist-packages/sklearn/preprocessing/label.py:151: DeprecationWarning: The truth value of an empty array is ambiguous. Returning False, but in future this will result in an error. Use `array.size > 0` to check that an array is not empty.\n",
            "  if diff:\n",
            "/usr/local/lib/python3.6/dist-packages/sklearn/preprocessing/label.py:151: DeprecationWarning: The truth value of an empty array is ambiguous. Returning False, but in future this will result in an error. Use `array.size > 0` to check that an array is not empty.\n",
            "  if diff:\n",
            "/usr/local/lib/python3.6/dist-packages/sklearn/preprocessing/label.py:151: DeprecationWarning: The truth value of an empty array is ambiguous. Returning False, but in future this will result in an error. Use `array.size > 0` to check that an array is not empty.\n",
            "  if diff:\n"
          ],
          "name": "stderr"
        },
        {
          "output_type": "stream",
          "text": [
            "0.9482757619509163\n",
            "Configuration:\n",
            "  gamma, Value: 0.9187416722392869\n",
            "  learning_rate, Value: 0.6433665259425442\n",
            "  max_delta_step , Value: 11\n",
            "  max_depth, Value: 6\n",
            "  min_child_weight, Value: 4\n",
            "  n_estimators, Value: 434\n",
            "  norm, Value: 'l2'\n",
            "  subsample, Value: 0.5109722934233317\n",
            "\n",
            "{'norm': 'l2'}\n"
          ],
          "name": "stdout"
        },
        {
          "output_type": "stream",
          "text": [
            "/usr/local/lib/python3.6/dist-packages/sklearn/preprocessing/label.py:151: DeprecationWarning: The truth value of an empty array is ambiguous. Returning False, but in future this will result in an error. Use `array.size > 0` to check that an array is not empty.\n",
            "  if diff:\n",
            "/usr/local/lib/python3.6/dist-packages/sklearn/preprocessing/label.py:151: DeprecationWarning: The truth value of an empty array is ambiguous. Returning False, but in future this will result in an error. Use `array.size > 0` to check that an array is not empty.\n",
            "  if diff:\n",
            "/usr/local/lib/python3.6/dist-packages/sklearn/preprocessing/label.py:151: DeprecationWarning: The truth value of an empty array is ambiguous. Returning False, but in future this will result in an error. Use `array.size > 0` to check that an array is not empty.\n",
            "  if diff:\n",
            "/usr/local/lib/python3.6/dist-packages/sklearn/preprocessing/label.py:151: DeprecationWarning: The truth value of an empty array is ambiguous. Returning False, but in future this will result in an error. Use `array.size > 0` to check that an array is not empty.\n",
            "  if diff:\n",
            "/usr/local/lib/python3.6/dist-packages/sklearn/preprocessing/label.py:151: DeprecationWarning: The truth value of an empty array is ambiguous. Returning False, but in future this will result in an error. Use `array.size > 0` to check that an array is not empty.\n",
            "  if diff:\n"
          ],
          "name": "stderr"
        },
        {
          "output_type": "stream",
          "text": [
            "0.9564301799020456\n",
            "Configuration:\n",
            "  gamma, Value: 0.9187416722392869\n",
            "  learning_rate, Value: 0.6433665259425442\n",
            "  max_delta_step , Value: 11\n",
            "  max_depth, Value: 6\n",
            "  min_child_weight, Value: 4\n",
            "  n_estimators, Value: 434\n",
            "  norm, Value: 'l2'\n",
            "  subsample, Value: 0.5109722934233317\n",
            "\n",
            "{'norm': 'l2'}\n"
          ],
          "name": "stdout"
        },
        {
          "output_type": "stream",
          "text": [
            "/usr/local/lib/python3.6/dist-packages/sklearn/preprocessing/label.py:151: DeprecationWarning: The truth value of an empty array is ambiguous. Returning False, but in future this will result in an error. Use `array.size > 0` to check that an array is not empty.\n",
            "  if diff:\n",
            "/usr/local/lib/python3.6/dist-packages/sklearn/preprocessing/label.py:151: DeprecationWarning: The truth value of an empty array is ambiguous. Returning False, but in future this will result in an error. Use `array.size > 0` to check that an array is not empty.\n",
            "  if diff:\n",
            "/usr/local/lib/python3.6/dist-packages/sklearn/preprocessing/label.py:151: DeprecationWarning: The truth value of an empty array is ambiguous. Returning False, but in future this will result in an error. Use `array.size > 0` to check that an array is not empty.\n",
            "  if diff:\n",
            "/usr/local/lib/python3.6/dist-packages/sklearn/preprocessing/label.py:151: DeprecationWarning: The truth value of an empty array is ambiguous. Returning False, but in future this will result in an error. Use `array.size > 0` to check that an array is not empty.\n",
            "  if diff:\n"
          ],
          "name": "stderr"
        },
        {
          "output_type": "stream",
          "text": [
            "0.9564301799020456\n",
            "Optimized Value: 0.95643\n",
            "Best parameter :  {'gamma': 0.9187416722392869, 'learning_rate': 0.6433665259425442, 'max_delta_step ': 11, 'max_depth': 6, 'min_child_weight': 4, 'n_estimators': 434, 'norm': 'l2', 'subsample': 0.5109722934233317}\n",
            "Time required in seconds : 136.17632913589478\n"
          ],
          "name": "stdout"
        },
        {
          "output_type": "stream",
          "text": [
            "/usr/local/lib/python3.6/dist-packages/sklearn/preprocessing/label.py:151: DeprecationWarning: The truth value of an empty array is ambiguous. Returning False, but in future this will result in an error. Use `array.size > 0` to check that an array is not empty.\n",
            "  if diff:\n"
          ],
          "name": "stderr"
        }
      ]
    },
    {
      "metadata": {
        "id": "guYr3AIOoa-M",
        "colab_type": "text"
      },
      "cell_type": "markdown",
      "source": [
        "## Pipeline"
      ]
    },
    {
      "metadata": {
        "id": "dPKfcXaLod2V",
        "colab_type": "code",
        "colab": {
          "base_uri": "https://localhost:8080/",
          "height": 2422
        },
        "outputId": "3c4faddc-f5c8-4214-ed26-42800f84d4d3"
      },
      "cell_type": "code",
      "source": [
        "# We load Splice dataset from openml\n",
        "splice = oml.datasets.get_dataset(46)\n",
        "\n",
        "#Preprocessor normalize hyper parameter\n",
        "norm = CategoricalHyperparameter(\"norm\", [\"l1\", \"l2\", \"max\"], default_value=\"l2\")\n",
        "\n",
        "# Build Configuration Space for Model\n",
        "cs = ConfigurationSpace()\n",
        "max_depth = UniformIntegerHyperparameter(\"max_depth\", 1, 10, default_value=3)\n",
        "learning_rate = UniformFloatHyperparameter(\"learning_rate\", 0.001, 1.0, default_value=0.1)\n",
        "n_estimators = UniformIntegerHyperparameter(\"n_estimators\", 10, 500, default_value=100)\n",
        "gamma = UniformFloatHyperparameter(\"gamma\", 0.0, 1.0, default_value=0.0)\n",
        "min_child_weight = UniformIntegerHyperparameter(\"min_child_weight\", 1, 50, default_value=1)\n",
        "max_delta_step  = UniformIntegerHyperparameter(\"max_delta_step \", 0, 50, default_value=0)\n",
        "subsample = UniformFloatHyperparameter(\"subsample\", 0.0, 1.0, default_value=1.0)\n",
        "cs.add_hyperparameters([max_depth, learning_rate, n_estimators, gamma, min_child_weight, max_delta_step, subsample,norm])\n",
        "\n",
        "\n",
        "def model_with_pre(cfg):\n",
        "    print(cfg)\n",
        "    cfg = {k : cfg[k] for k in cfg if cfg[k]}\n",
        "    pre_cfg ={}\n",
        "    X, y = splice.get_data(target=splice.default_target_attribute)\n",
        "    pre_cfg['norm'] = cfg['norm']\n",
        "    print(pre_cfg)\n",
        "    pre_cfg = {k : pre_cfg[k] for k in pre_cfg if pre_cfg[k]}\n",
        "    del cfg['norm']\n",
        "    print(norm)\n",
        "    final = Pipeline([('normalize', Normalizer(**pre_cfg)), ('Xgboost', XGBClassifier(**cfg))])\n",
        "    scores = cross_val_score(final, X, y, cv=5)\n",
        "    print(np.mean(scores))\n",
        "    return 1-np.mean(scores)  # Minimize!\n",
        "  \n",
        "# Scenario object\n",
        "scenario = Scenario({\"run_obj\": \"quality\",   # we optimize quality (alternatively runtime)\n",
        "                     \"runcount-limit\": 5,  # maximum function evaluations\n",
        "                     \"cs\": cs,               # configuration space\n",
        "                     \"deterministic\": \"true\"\n",
        "                     })\n",
        "\n",
        "# Optimize, using a SMAC-object\n",
        "print(\"Optimizing! Depending on your machine, this might take a few minutes.\")\n",
        "smac = SMAC(scenario=scenario, rng=np.random.RandomState(42),\n",
        "        tae_runner=model_with_pre)\n",
        "start = time.time()\n",
        "incumbent = smac.optimize()\n",
        "inc_value = model_with_pre(incumbent)\n",
        "end = time.time()\n",
        "print(\"Optimized Value: %.5f\" % (1-inc_value))  \n",
        "print(\"Best parameter : \", incumbent.get_dictionary())\n",
        "print(\"Time required in seconds :\", (end - start))"
      ],
      "execution_count": 0,
      "outputs": [
        {
          "output_type": "stream",
          "text": [
            "Optimizing! Depending on your machine, this might take a few minutes.\n",
            "Configuration:\n",
            "  gamma, Value: 0.0\n",
            "  learning_rate, Value: 0.1\n",
            "  max_delta_step , Value: 0\n",
            "  max_depth, Value: 3\n",
            "  min_child_weight, Value: 1\n",
            "  n_estimators, Value: 100\n",
            "  norm, Value: 'l2'\n",
            "  subsample, Value: 1.0\n",
            "\n",
            "{'norm': 'l2'}\n",
            "norm, Type: Categorical, Choices: {l1, l2, max}, Default: l2\n"
          ],
          "name": "stdout"
        },
        {
          "output_type": "stream",
          "text": [
            "/usr/local/lib/python3.6/dist-packages/sklearn/preprocessing/label.py:151: DeprecationWarning: The truth value of an empty array is ambiguous. Returning False, but in future this will result in an error. Use `array.size > 0` to check that an array is not empty.\n",
            "  if diff:\n",
            "/usr/local/lib/python3.6/dist-packages/sklearn/preprocessing/label.py:151: DeprecationWarning: The truth value of an empty array is ambiguous. Returning False, but in future this will result in an error. Use `array.size > 0` to check that an array is not empty.\n",
            "  if diff:\n",
            "/usr/local/lib/python3.6/dist-packages/sklearn/preprocessing/label.py:151: DeprecationWarning: The truth value of an empty array is ambiguous. Returning False, but in future this will result in an error. Use `array.size > 0` to check that an array is not empty.\n",
            "  if diff:\n",
            "/usr/local/lib/python3.6/dist-packages/sklearn/preprocessing/label.py:151: DeprecationWarning: The truth value of an empty array is ambiguous. Returning False, but in future this will result in an error. Use `array.size > 0` to check that an array is not empty.\n",
            "  if diff:\n",
            "/usr/local/lib/python3.6/dist-packages/sklearn/preprocessing/label.py:151: DeprecationWarning: The truth value of an empty array is ambiguous. Returning False, but in future this will result in an error. Use `array.size > 0` to check that an array is not empty.\n",
            "  if diff:\n"
          ],
          "name": "stderr"
        },
        {
          "output_type": "stream",
          "text": [
            "0.9564272318105663\n",
            "Configuration:\n",
            "  gamma, Value: 0.6326156411092102\n",
            "  learning_rate, Value: 0.9931395961792671\n",
            "  max_delta_step , Value: 50\n",
            "  max_depth, Value: 3\n",
            "  min_child_weight, Value: 36\n",
            "  n_estimators, Value: 135\n",
            "  norm, Value: 'l2'\n",
            "  subsample, Value: 0.4570085158407664\n",
            "\n",
            "{'norm': 'l2'}\n",
            "norm, Type: Categorical, Choices: {l1, l2, max}, Default: l2\n"
          ],
          "name": "stdout"
        },
        {
          "output_type": "stream",
          "text": [
            "/usr/local/lib/python3.6/dist-packages/sklearn/preprocessing/label.py:151: DeprecationWarning: The truth value of an empty array is ambiguous. Returning False, but in future this will result in an error. Use `array.size > 0` to check that an array is not empty.\n",
            "  if diff:\n",
            "/usr/local/lib/python3.6/dist-packages/sklearn/preprocessing/label.py:151: DeprecationWarning: The truth value of an empty array is ambiguous. Returning False, but in future this will result in an error. Use `array.size > 0` to check that an array is not empty.\n",
            "  if diff:\n",
            "/usr/local/lib/python3.6/dist-packages/sklearn/preprocessing/label.py:151: DeprecationWarning: The truth value of an empty array is ambiguous. Returning False, but in future this will result in an error. Use `array.size > 0` to check that an array is not empty.\n",
            "  if diff:\n",
            "/usr/local/lib/python3.6/dist-packages/sklearn/preprocessing/label.py:151: DeprecationWarning: The truth value of an empty array is ambiguous. Returning False, but in future this will result in an error. Use `array.size > 0` to check that an array is not empty.\n",
            "  if diff:\n",
            "/usr/local/lib/python3.6/dist-packages/sklearn/preprocessing/label.py:151: DeprecationWarning: The truth value of an empty array is ambiguous. Returning False, but in future this will result in an error. Use `array.size > 0` to check that an array is not empty.\n",
            "  if diff:\n"
          ],
          "name": "stderr"
        },
        {
          "output_type": "stream",
          "text": [
            "0.9366843622238058\n",
            "Configuration:\n",
            "  gamma, Value: 0.6108620947042035\n",
            "  learning_rate, Value: 0.8363471290456959\n",
            "  max_delta_step , Value: 5\n",
            "  max_depth, Value: 7\n",
            "  min_child_weight, Value: 23\n",
            "  n_estimators, Value: 68\n",
            "  norm, Value: 'max'\n",
            "  subsample, Value: 0.18550419634224635\n",
            "\n",
            "{'norm': 'max'}\n",
            "norm, Type: Categorical, Choices: {l1, l2, max}, Default: l2\n"
          ],
          "name": "stdout"
        },
        {
          "output_type": "stream",
          "text": [
            "/usr/local/lib/python3.6/dist-packages/sklearn/preprocessing/label.py:151: DeprecationWarning: The truth value of an empty array is ambiguous. Returning False, but in future this will result in an error. Use `array.size > 0` to check that an array is not empty.\n",
            "  if diff:\n",
            "/usr/local/lib/python3.6/dist-packages/sklearn/preprocessing/label.py:151: DeprecationWarning: The truth value of an empty array is ambiguous. Returning False, but in future this will result in an error. Use `array.size > 0` to check that an array is not empty.\n",
            "  if diff:\n",
            "/usr/local/lib/python3.6/dist-packages/sklearn/preprocessing/label.py:151: DeprecationWarning: The truth value of an empty array is ambiguous. Returning False, but in future this will result in an error. Use `array.size > 0` to check that an array is not empty.\n",
            "  if diff:\n",
            "/usr/local/lib/python3.6/dist-packages/sklearn/preprocessing/label.py:151: DeprecationWarning: The truth value of an empty array is ambiguous. Returning False, but in future this will result in an error. Use `array.size > 0` to check that an array is not empty.\n",
            "  if diff:\n",
            "/usr/local/lib/python3.6/dist-packages/sklearn/preprocessing/label.py:151: DeprecationWarning: The truth value of an empty array is ambiguous. Returning False, but in future this will result in an error. Use `array.size > 0` to check that an array is not empty.\n",
            "  if diff:\n"
          ],
          "name": "stderr"
        },
        {
          "output_type": "stream",
          "text": [
            "0.9398142542179176\n",
            "Configuration:\n",
            "  gamma, Value: 0.08414486765072993\n",
            "  learning_rate, Value: 0.12132268268174379\n",
            "  max_delta_step , Value: 9\n",
            "  max_depth, Value: 10\n",
            "  min_child_weight, Value: 31\n",
            "  n_estimators, Value: 362\n",
            "  norm, Value: 'l2'\n",
            "  subsample, Value: 0.3526309319465405\n",
            "\n",
            "{'norm': 'l2'}\n",
            "norm, Type: Categorical, Choices: {l1, l2, max}, Default: l2\n"
          ],
          "name": "stdout"
        },
        {
          "output_type": "stream",
          "text": [
            "/usr/local/lib/python3.6/dist-packages/sklearn/preprocessing/label.py:151: DeprecationWarning: The truth value of an empty array is ambiguous. Returning False, but in future this will result in an error. Use `array.size > 0` to check that an array is not empty.\n",
            "  if diff:\n",
            "/usr/local/lib/python3.6/dist-packages/sklearn/preprocessing/label.py:151: DeprecationWarning: The truth value of an empty array is ambiguous. Returning False, but in future this will result in an error. Use `array.size > 0` to check that an array is not empty.\n",
            "  if diff:\n",
            "/usr/local/lib/python3.6/dist-packages/sklearn/preprocessing/label.py:151: DeprecationWarning: The truth value of an empty array is ambiguous. Returning False, but in future this will result in an error. Use `array.size > 0` to check that an array is not empty.\n",
            "  if diff:\n",
            "/usr/local/lib/python3.6/dist-packages/sklearn/preprocessing/label.py:151: DeprecationWarning: The truth value of an empty array is ambiguous. Returning False, but in future this will result in an error. Use `array.size > 0` to check that an array is not empty.\n",
            "  if diff:\n",
            "/usr/local/lib/python3.6/dist-packages/sklearn/preprocessing/label.py:151: DeprecationWarning: The truth value of an empty array is ambiguous. Returning False, but in future this will result in an error. Use `array.size > 0` to check that an array is not empty.\n",
            "  if diff:\n"
          ],
          "name": "stderr"
        },
        {
          "output_type": "stream",
          "text": [
            "0.9445149845413496\n",
            "Configuration:\n",
            "  gamma, Value: 0.9187416722392869\n",
            "  learning_rate, Value: 0.6433665259425442\n",
            "  max_delta_step , Value: 11\n",
            "  max_depth, Value: 6\n",
            "  min_child_weight, Value: 4\n",
            "  n_estimators, Value: 434\n",
            "  norm, Value: 'l2'\n",
            "  subsample, Value: 0.5109722934233317\n",
            "\n",
            "{'norm': 'l2'}\n",
            "norm, Type: Categorical, Choices: {l1, l2, max}, Default: l2\n"
          ],
          "name": "stdout"
        },
        {
          "output_type": "stream",
          "text": [
            "/usr/local/lib/python3.6/dist-packages/sklearn/preprocessing/label.py:151: DeprecationWarning: The truth value of an empty array is ambiguous. Returning False, but in future this will result in an error. Use `array.size > 0` to check that an array is not empty.\n",
            "  if diff:\n",
            "/usr/local/lib/python3.6/dist-packages/sklearn/preprocessing/label.py:151: DeprecationWarning: The truth value of an empty array is ambiguous. Returning False, but in future this will result in an error. Use `array.size > 0` to check that an array is not empty.\n",
            "  if diff:\n",
            "/usr/local/lib/python3.6/dist-packages/sklearn/preprocessing/label.py:151: DeprecationWarning: The truth value of an empty array is ambiguous. Returning False, but in future this will result in an error. Use `array.size > 0` to check that an array is not empty.\n",
            "  if diff:\n",
            "/usr/local/lib/python3.6/dist-packages/sklearn/preprocessing/label.py:151: DeprecationWarning: The truth value of an empty array is ambiguous. Returning False, but in future this will result in an error. Use `array.size > 0` to check that an array is not empty.\n",
            "  if diff:\n",
            "/usr/local/lib/python3.6/dist-packages/sklearn/preprocessing/label.py:151: DeprecationWarning: The truth value of an empty array is ambiguous. Returning False, but in future this will result in an error. Use `array.size > 0` to check that an array is not empty.\n",
            "  if diff:\n"
          ],
          "name": "stderr"
        },
        {
          "output_type": "stream",
          "text": [
            "0.9529818963385883\n",
            "Configuration:\n",
            "  gamma, Value: 0.0\n",
            "  learning_rate, Value: 0.1\n",
            "  max_delta_step , Value: 0\n",
            "  max_depth, Value: 3\n",
            "  min_child_weight, Value: 1\n",
            "  n_estimators, Value: 100\n",
            "  norm, Value: 'l2'\n",
            "  subsample, Value: 1.0\n",
            "\n",
            "{'norm': 'l2'}\n",
            "norm, Type: Categorical, Choices: {l1, l2, max}, Default: l2\n"
          ],
          "name": "stdout"
        },
        {
          "output_type": "stream",
          "text": [
            "/usr/local/lib/python3.6/dist-packages/sklearn/preprocessing/label.py:151: DeprecationWarning: The truth value of an empty array is ambiguous. Returning False, but in future this will result in an error. Use `array.size > 0` to check that an array is not empty.\n",
            "  if diff:\n",
            "/usr/local/lib/python3.6/dist-packages/sklearn/preprocessing/label.py:151: DeprecationWarning: The truth value of an empty array is ambiguous. Returning False, but in future this will result in an error. Use `array.size > 0` to check that an array is not empty.\n",
            "  if diff:\n",
            "/usr/local/lib/python3.6/dist-packages/sklearn/preprocessing/label.py:151: DeprecationWarning: The truth value of an empty array is ambiguous. Returning False, but in future this will result in an error. Use `array.size > 0` to check that an array is not empty.\n",
            "  if diff:\n",
            "/usr/local/lib/python3.6/dist-packages/sklearn/preprocessing/label.py:151: DeprecationWarning: The truth value of an empty array is ambiguous. Returning False, but in future this will result in an error. Use `array.size > 0` to check that an array is not empty.\n",
            "  if diff:\n"
          ],
          "name": "stderr"
        },
        {
          "output_type": "stream",
          "text": [
            "0.9564272318105663\n",
            "Optimized Value: 0.95643\n",
            "Best parameter :  {'gamma': 0.0, 'learning_rate': 0.1, 'max_delta_step ': 0, 'max_depth': 3, 'min_child_weight': 1, 'n_estimators': 100, 'norm': 'l2', 'subsample': 1.0}\n",
            "Time required in seconds : 98.66317224502563\n"
          ],
          "name": "stdout"
        },
        {
          "output_type": "stream",
          "text": [
            "/usr/local/lib/python3.6/dist-packages/sklearn/preprocessing/label.py:151: DeprecationWarning: The truth value of an empty array is ambiguous. Returning False, but in future this will result in an error. Use `array.size > 0` to check that an array is not empty.\n",
            "  if diff:\n"
          ],
          "name": "stderr"
        }
      ]
    },
    {
      "metadata": {
        "id": "dLkPEZAzOyz0",
        "colab_type": "text"
      },
      "cell_type": "markdown",
      "source": [
        "## JSON"
      ]
    },
    {
      "metadata": {
        "id": "G_M3-f4sPmzI",
        "colab_type": "text"
      },
      "cell_type": "markdown",
      "source": [
        "### SVM"
      ]
    },
    {
      "metadata": {
        "id": "N4Kbvr5MCSDp",
        "colab_type": "code",
        "colab": {
          "base_uri": "https://localhost:8080/",
          "height": 1834
        },
        "outputId": "4dbc678e-208f-4dee-a997-ce0e243ff304"
      },
      "cell_type": "code",
      "source": [
        "import json\n",
        "from ConfigSpace.read_and_write.json import write, read\n",
        "\n",
        "# Build Configuration Space which defines all parameters and their ranges\n",
        "cs = ConfigurationSpace()\n",
        "\n",
        "# We define a few possible types of SVM-kernels and add them as \"kernel\" to our cs\n",
        "kernel = CategoricalHyperparameter(\"kernel\", [\"linear\", \"rbf\", \"poly\", \"sigmoid\"], default_value=\"poly\")\n",
        "cs.add_hyperparameter(kernel)\n",
        "\n",
        "# There are some hyperparameters shared by all kernels\n",
        "C = UniformFloatHyperparameter(\"C\", 0.001, 1000.0, default_value=1.0)\n",
        "shrinking = CategoricalHyperparameter(\"shrinking\", [\"true\", \"false\"], default_value=\"true\")\n",
        "cs.add_hyperparameters([C, shrinking])\n",
        "\n",
        "# Others are kernel-specific, so we can add conditions to limit the searchspace\n",
        "degree = UniformIntegerHyperparameter(\"degree\", 1, 5, default_value=3)     # Only used by kernel poly\n",
        "coef0 = UniformFloatHyperparameter(\"coef0\", 0.0, 10.0, default_value=0.0)  # poly, sigmoid\n",
        "cs.add_hyperparameters([degree, coef0])\n",
        "use_degree = InCondition(child=degree, parent=kernel, values=[\"poly\"])\n",
        "use_coef0 = InCondition(child=coef0, parent=kernel, values=[\"poly\", \"sigmoid\"])\n",
        "cs.add_conditions([use_degree, use_coef0])\n",
        "\n",
        "# This also works for parameters that are a mix of categorical and values from a range of numbers\n",
        "# For example, gamma can be either \"auto\" or a fixed float\n",
        "gamma = CategoricalHyperparameter(\"gamma\", [\"auto\", \"value\"], default_value=\"auto\")  # only rbf, poly, sigmoid\n",
        "gamma_value = UniformFloatHyperparameter(\"gamma_value\", 0.0001, 8, default_value=1)\n",
        "cs.add_hyperparameters([gamma, gamma_value])\n",
        "\n",
        "# We only activate gamma_value if gamma is set to \"value\"\n",
        "cs.add_condition(InCondition(child=gamma_value, parent=gamma, values=[\"value\"]))\n",
        "# And again we can restrict the use of gamma in general to the choice of the kernel\n",
        "cs.add_condition(InCondition(child=gamma, parent=kernel, values=[\"rbf\", \"poly\", \"sigmoid\"]))\n",
        "\n",
        "z = write(cs)\n",
        "list_z = json.loads(z)\n",
        "\n",
        "print(z)\n",
        "print(list_z[\"hyperparameters\"][0][\"name\"])\n",
        "\n",
        "with open('data.json', 'w') as outfile:\n",
        "    json.dump(list_z, outfile)\n",
        "    \n",
        "with open('data.json', 'r') as f:\n",
        "  datastore = json.load(f)\n",
        "  \n",
        "print(datastore)\n"
      ],
      "execution_count": 20,
      "outputs": [
        {
          "output_type": "stream",
          "text": [
            "{\n",
            "  \"hyperparameters\": [\n",
            "    {\n",
            "      \"name\": \"C\",\n",
            "      \"type\": \"uniform_float\",\n",
            "      \"log\": false,\n",
            "      \"lower\": 0.001,\n",
            "      \"upper\": 1000.0,\n",
            "      \"default\": 1.0\n",
            "    },\n",
            "    {\n",
            "      \"name\": \"kernel\",\n",
            "      \"type\": \"categorical\",\n",
            "      \"choices\": [\n",
            "        \"linear\",\n",
            "        \"rbf\",\n",
            "        \"poly\",\n",
            "        \"sigmoid\"\n",
            "      ],\n",
            "      \"default\": \"poly\"\n",
            "    },\n",
            "    {\n",
            "      \"name\": \"shrinking\",\n",
            "      \"type\": \"categorical\",\n",
            "      \"choices\": [\n",
            "        \"true\",\n",
            "        \"false\"\n",
            "      ],\n",
            "      \"default\": \"true\"\n",
            "    },\n",
            "    {\n",
            "      \"name\": \"coef0\",\n",
            "      \"type\": \"uniform_float\",\n",
            "      \"log\": false,\n",
            "      \"lower\": 0.0,\n",
            "      \"upper\": 10.0,\n",
            "      \"default\": 0.0\n",
            "    },\n",
            "    {\n",
            "      \"name\": \"degree\",\n",
            "      \"type\": \"uniform_int\",\n",
            "      \"log\": false,\n",
            "      \"lower\": 1,\n",
            "      \"upper\": 5,\n",
            "      \"default\": 3\n",
            "    },\n",
            "    {\n",
            "      \"name\": \"gamma\",\n",
            "      \"type\": \"categorical\",\n",
            "      \"choices\": [\n",
            "        \"auto\",\n",
            "        \"value\"\n",
            "      ],\n",
            "      \"default\": \"auto\"\n",
            "    },\n",
            "    {\n",
            "      \"name\": \"gamma_value\",\n",
            "      \"type\": \"uniform_float\",\n",
            "      \"log\": false,\n",
            "      \"lower\": 0.0001,\n",
            "      \"upper\": 8.0,\n",
            "      \"default\": 1.0\n",
            "    }\n",
            "  ],\n",
            "  \"conditions\": [\n",
            "    {\n",
            "      \"child\": \"coef0\",\n",
            "      \"parent\": \"kernel\",\n",
            "      \"type\": \"IN\",\n",
            "      \"values\": [\n",
            "        \"poly\",\n",
            "        \"sigmoid\"\n",
            "      ]\n",
            "    },\n",
            "    {\n",
            "      \"child\": \"degree\",\n",
            "      \"parent\": \"kernel\",\n",
            "      \"type\": \"IN\",\n",
            "      \"values\": [\n",
            "        \"poly\"\n",
            "      ]\n",
            "    },\n",
            "    {\n",
            "      \"child\": \"gamma\",\n",
            "      \"parent\": \"kernel\",\n",
            "      \"type\": \"IN\",\n",
            "      \"values\": [\n",
            "        \"rbf\",\n",
            "        \"poly\",\n",
            "        \"sigmoid\"\n",
            "      ]\n",
            "    },\n",
            "    {\n",
            "      \"child\": \"gamma_value\",\n",
            "      \"parent\": \"gamma\",\n",
            "      \"type\": \"IN\",\n",
            "      \"values\": [\n",
            "        \"value\"\n",
            "      ]\n",
            "    }\n",
            "  ],\n",
            "  \"forbiddens\": [],\n",
            "  \"python_module_version\": \"0.4.7\",\n",
            "  \"json_format_version\": 0.1\n",
            "}\n",
            "C\n",
            "{'hyperparameters': [{'name': 'C', 'type': 'uniform_float', 'log': False, 'lower': 0.001, 'upper': 1000.0, 'default': 1.0}, {'name': 'kernel', 'type': 'categorical', 'choices': ['linear', 'rbf', 'poly', 'sigmoid'], 'default': 'poly'}, {'name': 'shrinking', 'type': 'categorical', 'choices': ['true', 'false'], 'default': 'true'}, {'name': 'coef0', 'type': 'uniform_float', 'log': False, 'lower': 0.0, 'upper': 10.0, 'default': 0.0}, {'name': 'degree', 'type': 'uniform_int', 'log': False, 'lower': 1, 'upper': 5, 'default': 3}, {'name': 'gamma', 'type': 'categorical', 'choices': ['auto', 'value'], 'default': 'auto'}, {'name': 'gamma_value', 'type': 'uniform_float', 'log': False, 'lower': 0.0001, 'upper': 8.0, 'default': 1.0}], 'conditions': [{'child': 'coef0', 'parent': 'kernel', 'type': 'IN', 'values': ['poly', 'sigmoid']}, {'child': 'degree', 'parent': 'kernel', 'type': 'IN', 'values': ['poly']}, {'child': 'gamma', 'parent': 'kernel', 'type': 'IN', 'values': ['rbf', 'poly', 'sigmoid']}, {'child': 'gamma_value', 'parent': 'gamma', 'type': 'IN', 'values': ['value']}], 'forbiddens': [], 'python_module_version': '0.4.7', 'json_format_version': 0.1}\n"
          ],
          "name": "stdout"
        }
      ]
    },
    {
      "metadata": {
        "id": "qiKTXZuSDWyh",
        "colab_type": "code",
        "colab": {
          "base_uri": "https://localhost:8080/",
          "height": 34
        },
        "outputId": "c7483dcf-0b6e-4aae-9205-571f4a1b3f56"
      },
      "cell_type": "code",
      "source": [
        "type(0.5)"
      ],
      "execution_count": 24,
      "outputs": [
        {
          "output_type": "execute_result",
          "data": {
            "text/plain": [
              "float"
            ]
          },
          "metadata": {
            "tags": []
          },
          "execution_count": 24
        }
      ]
    },
    {
      "metadata": {
        "id": "WPOfB8-qPxAk",
        "colab_type": "text"
      },
      "cell_type": "markdown",
      "source": [
        "## Test"
      ]
    },
    {
      "metadata": {
        "id": "9tY3OZxIpV-k",
        "colab_type": "code",
        "colab": {
          "base_uri": "https://localhost:8080/",
          "height": 255
        },
        "outputId": "94ab6b4b-ee39-4fad-d928-36a25104f386"
      },
      "cell_type": "code",
      "source": [
        "b = dict()\n",
        "b['C'] = 0.1\n",
        "BaseEstimator.get_params(LogisticRegression(),deep=True)"
      ],
      "execution_count": 0,
      "outputs": [
        {
          "output_type": "execute_result",
          "data": {
            "text/plain": [
              "{'C': 1.0,\n",
              " 'class_weight': None,\n",
              " 'dual': False,\n",
              " 'fit_intercept': True,\n",
              " 'intercept_scaling': 1,\n",
              " 'max_iter': 100,\n",
              " 'multi_class': 'ovr',\n",
              " 'n_jobs': 1,\n",
              " 'penalty': 'l2',\n",
              " 'random_state': None,\n",
              " 'solver': 'liblinear',\n",
              " 'tol': 0.0001,\n",
              " 'verbose': 0,\n",
              " 'warm_start': False}"
            ]
          },
          "metadata": {
            "tags": []
          },
          "execution_count": 11
        }
      ]
    },
    {
      "metadata": {
        "id": "LkO7k1DHxUBB",
        "colab_type": "code",
        "colab": {
          "base_uri": "https://localhost:8080/",
          "height": 34
        },
        "outputId": "dd269411-fc23-48bc-d3de-8c9fda98024c"
      },
      "cell_type": "code",
      "source": [
        "final = Pipeline([('normalize', Normalizer()), ('Xgboost', XGBClassifier())])\n",
        "z = final.steps[1][1]\n",
        "cs1 = ConfigurationSpace()\n",
        "cs2 = ConfigurationSpace()\n",
        "cs3 = ConfigurationSpace()\n",
        "max_depth = UniformIntegerHyperparameter(\"max_depth\", 1, 10, default_value=3)\n",
        "cs1.add_hyperparameters([max_depth])\n",
        "cs1.get_all_unconditional_hyperparameters()"
      ],
      "execution_count": 0,
      "outputs": [
        {
          "output_type": "execute_result",
          "data": {
            "text/plain": [
              "['max_depth']"
            ]
          },
          "metadata": {
            "tags": []
          },
          "execution_count": 42
        }
      ]
    },
    {
      "metadata": {
        "id": "j5_1NMAh9Kwj",
        "colab_type": "code",
        "colab": {
          "base_uri": "https://localhost:8080/",
          "height": 34
        },
        "outputId": "c74f9566-cf75-4393-ae67-af13c152a65a"
      },
      "cell_type": "code",
      "source": [
        "# Build Configuration Space which defines all parameters and their ranges\n",
        "cs = ConfigurationSpace()\n",
        "\n",
        "# We define a few possible types of SVM-kernels and add them as \"kernel\" to our cs\n",
        "kernel = CategoricalHyperparameter(\"kernel\", [\"linear\", \"rbf\", \"poly\", \"sigmoid\"], default_value=\"poly\")\n",
        "cs.add_hyperparameter(kernel)\n",
        "\n",
        "# There are some hyperparameters shared by all kernels\n",
        "C = UniformFloatHyperparameter(\"C\", 0.001, 1000.0, default_value=1.0)\n",
        "shrinking = CategoricalHyperparameter(\"shrinking\", [\"true\", \"false\"], default_value=\"true\")\n",
        "cs.add_hyperparameters([C, shrinking])\n",
        "\n",
        "# Others are kernel-specific, so we can add conditions to limit the searchspace\n",
        "degree = UniformIntegerHyperparameter(\"degree\", 1, 5, default_value=3)     # Only used by kernel poly\n",
        "coef0 = UniformFloatHyperparameter(\"coef0\", 0.0, 10.0, default_value=0.0)  # poly, sigmoid\n",
        "cs.add_hyperparameters([degree, coef0])\n",
        "use_degree = InCondition(child=degree, parent=kernel, values=[\"poly\"])\n",
        "use_coef0 = InCondition(child=coef0, parent=kernel, values=[\"poly\", \"sigmoid\"])\n",
        "cs.add_conditions([use_degree, use_coef0])\n",
        "\n",
        "# This also works for parameters that are a mix of categorical and values from a range of numbers\n",
        "# For example, gamma can be either \"auto\" or a fixed float\n",
        "gamma = CategoricalHyperparameter(\"gamma\", [\"auto\", \"value\"], default_value=\"auto\")  # only rbf, poly, sigmoid\n",
        "gamma_value = UniformFloatHyperparameter(\"gamma_value\", 0.0001, 8, default_value=1)\n",
        "cs.add_hyperparameters([gamma, gamma_value])\n",
        "\n",
        "# We only activate gamma_value if gamma is set to \"value\"\n",
        "cs.add_condition(InCondition(child=gamma_value, parent=gamma, values=[\"value\"]))\n",
        "# And again we can restrict the use of gamma in general to the choice of the kernel\n",
        "cs.add_condition(InCondition(child=gamma, parent=kernel, values=[\"rbf\", \"poly\", \"sigmoid\"]))\n",
        "\n",
        "def convert_cs_to_dictionary(cfg, num):\n",
        "  cfg_dict = dict()\n",
        "  list_unconditional = cfg.get_all_unconditional_hyperparameters()\n",
        "  list_confitional = cfg.get_all_conditional_hyperparameters()\n",
        "  list_all = list_unconditional + list_confitional\n",
        "  for hyperparameter in list_all:\n",
        "    cfg_dict[\"\"]\n",
        "\n",
        "cs_to_dict = convert_cs_to_dictionary(cs)"
      ],
      "execution_count": 0,
      "outputs": [
        {
          "output_type": "execute_result",
          "data": {
            "text/plain": [
              "gamma | kernel in {'rbf', 'poly', 'sigmoid'}"
            ]
          },
          "metadata": {
            "tags": []
          },
          "execution_count": 43
        }
      ]
    },
    {
      "metadata": {
        "id": "badXXYcO3qz-",
        "colab_type": "code",
        "colab": {
          "base_uri": "https://localhost:8080/",
          "height": 134
        },
        "outputId": "93d3b060-cae6-47d2-d3ce-0e6f4d617ee8"
      },
      "cell_type": "code",
      "source": [
        "final = Pipeline([('normalize', Normalizer()), ('Xgboost', XGBClassifier())])\n",
        "\n",
        "#Preprocessor normalize hyper parameter\n",
        "norm = CategoricalHyperparameter(\"norm\", [\"l1\", \"l2\", \"max\"], default_value=\"l2\")\n",
        "cs2 = ConfigurationSpace()\n",
        "cs2.add_hyperparameter(norm)\n",
        "\n",
        "# Build Configuration Space for Model\n",
        "cs1 = ConfigurationSpace()\n",
        "max_depth = UniformIntegerHyperparameter(\"max_depth\", 1, 10, default_value=3)\n",
        "learning_rate = UniformFloatHyperparameter(\"learning_rate\", 0.001, 1.0, default_value=0.1)\n",
        "n_estimators = UniformIntegerHyperparameter(\"n_estimators\", 10, 500, default_value=100)\n",
        "gamma = UniformFloatHyperparameter(\"gamma\", 0.0, 1.0, default_value=0.0)\n",
        "min_child_weight = UniformIntegerHyperparameter(\"min_child_weight\", 1, 50, default_value=1)\n",
        "max_delta_step  = UniformIntegerHyperparameter(\"max_delta_step \", 0, 50, default_value=0)\n",
        "subsample = UniformFloatHyperparameter(\"subsample\", 0.0, 1.0, default_value=1.0)\n",
        "cs1.add_hyperparameters([max_depth, learning_rate, n_estimators, gamma, min_child_weight, max_delta_step, subsample])\n",
        "\n"
      ],
      "execution_count": 21,
      "outputs": [
        {
          "output_type": "execute_result",
          "data": {
            "text/plain": [
              "[max_depth, Type: UniformInteger, Range: [1, 10], Default: 3,\n",
              " learning_rate, Type: UniformFloat, Range: [0.001, 1.0], Default: 0.1,\n",
              " n_estimators, Type: UniformInteger, Range: [10, 500], Default: 100,\n",
              " gamma, Type: UniformFloat, Range: [0.0, 1.0], Default: 0.0,\n",
              " min_child_weight, Type: UniformInteger, Range: [1, 50], Default: 1,\n",
              " max_delta_step , Type: UniformInteger, Range: [0, 50], Default: 0,\n",
              " subsample, Type: UniformFloat, Range: [0.0, 1.0], Default: 1.0]"
            ]
          },
          "metadata": {
            "tags": []
          },
          "execution_count": 21
        }
      ]
    },
    {
      "metadata": {
        "id": "GFTs187g8-70",
        "colab_type": "code",
        "colab": {
          "base_uri": "https://localhost:8080/",
          "height": 269
        },
        "outputId": "4bdfdb42-4d76-4039-80c3-666cabbe698d"
      },
      "cell_type": "code",
      "source": [
        "def get_parameter_of_pipeline(node_name) : \n",
        "  if node_name == \"normalize\" :\n",
        "    norm = CategoricalHyperparameter(\"norm\", [\"l1\", \"l2\", \"max\"], default_value=\"l2\")\n",
        "    cs2 = ConfigurationSpace()\n",
        "    cs2.add_hyperparameter(norm)\n",
        "    return cs2\n",
        "  if node_name == \"Xgboost\" : \n",
        "    cs1 = ConfigurationSpace()\n",
        "    max_depth = UniformIntegerHyperparameter(\"max_depth\", 1, 10, default_value=3)\n",
        "    learning_rate = UniformFloatHyperparameter(\"learning_rate\", 0.001, 1.0, default_value=0.1)\n",
        "    n_estimators = UniformIntegerHyperparameter(\"n_estimators\", 10, 500, default_value=100)\n",
        "    gamma = UniformFloatHyperparameter(\"gamma\", 0.0, 1.0, default_value=0.0)\n",
        "    min_child_weight = UniformIntegerHyperparameter(\"min_child_weight\", 1, 50, default_value=1)\n",
        "    max_delta_step  = UniformIntegerHyperparameter(\"max_delta_step \", 0, 50, default_value=0)\n",
        "    subsample = UniformFloatHyperparameter(\"subsample\", 0.0, 1.0, default_value=1.0)\n",
        "    cs1.add_hyperparameters([max_depth, learning_rate, n_estimators, gamma, min_child_weight, max_delta_step, subsample])\n",
        "    return cs1\n",
        "  return NotImplementedError()\n",
        "\n",
        "cs = ConfigurationSpace()\n",
        "for node_idx, n_ in enumerate(final.steps):\n",
        "  node_name, node = n_\n",
        "  #print(node_name,\"  \", node)\n",
        "  cs.add_configuration_space(node_name, get_parameter_of_pipeline(node_name))\n",
        "  print(cs)\n",
        "  \n"
      ],
      "execution_count": 0,
      "outputs": [
        {
          "output_type": "stream",
          "text": [
            "Configuration space object:\n",
            "  Hyperparameters:\n",
            "    normalize:norm, Type: Categorical, Choices: {l1, l2, max}, Default: l2\n",
            "\n",
            "Configuration space object:\n",
            "  Hyperparameters:\n",
            "    Xgboost:gamma, Type: UniformFloat, Range: [0.0, 1.0], Default: 0.0\n",
            "    Xgboost:learning_rate, Type: UniformFloat, Range: [0.001, 1.0], Default: 0.1\n",
            "    Xgboost:max_delta_step , Type: UniformInteger, Range: [0, 50], Default: 0\n",
            "    Xgboost:max_depth, Type: UniformInteger, Range: [1, 10], Default: 3\n",
            "    Xgboost:min_child_weight, Type: UniformInteger, Range: [1, 50], Default: 1\n",
            "    Xgboost:n_estimators, Type: UniformInteger, Range: [10, 500], Default: 100\n",
            "    Xgboost:subsample, Type: UniformFloat, Range: [0.0, 1.0], Default: 1.0\n",
            "    normalize:norm, Type: Categorical, Choices: {l1, l2, max}, Default: l2\n",
            "\n"
          ],
          "name": "stdout"
        }
      ]
    },
    {
      "metadata": {
        "id": "3NRMjOg5114Z",
        "colab_type": "code",
        "colab": {
          "base_uri": "https://localhost:8080/",
          "height": 1112
        },
        "outputId": "efa0975c-e526-4fdb-a331-a00a6b4d3270"
      },
      "cell_type": "code",
      "source": [
        "def model_with_pre(cfg):\n",
        "    print(cfg)\n",
        "    return 1  # Minimize!\n",
        "  \n",
        "# Scenario object\n",
        "scenario = Scenario({\"run_obj\": \"quality\",   # we optimize quality (alternatively runtime)\n",
        "                     \"runcount-limit\": 5,  # maximum function evaluations\n",
        "                     \"cs\": cs,               # configuration space\n",
        "                     \"deterministic\": \"true\"\n",
        "                     })\n",
        "\n",
        "# Optimize, using a SMAC-object\n",
        "print(\"Optimizing! Depending on your machine, this might take a few minutes.\")\n",
        "smac = SMAC(scenario=scenario, rng=np.random.RandomState(42),\n",
        "        tae_runner=model_with_pre)\n",
        "start = time.time()\n",
        "incumbent = smac.optimize()\n",
        "inc_value = model_with_pre(incumbent)\n",
        "end = time.time()\n",
        "print(\"Optimized Value: %.5f\" % (1-inc_value))  \n",
        "print(\"Best parameter : \", incumbent.get_dictionary())\n",
        "print(\"Time required in seconds :\", (end - start))"
      ],
      "execution_count": 0,
      "outputs": [
        {
          "output_type": "stream",
          "text": [
            "Optimizing! Depending on your machine, this might take a few minutes.\n",
            "Configuration:\n",
            "  Xgboost:gamma, Value: 0.0\n",
            "  Xgboost:learning_rate, Value: 0.1\n",
            "  Xgboost:max_delta_step , Value: 0\n",
            "  Xgboost:max_depth, Value: 3\n",
            "  Xgboost:min_child_weight, Value: 1\n",
            "  Xgboost:n_estimators, Value: 100\n",
            "  Xgboost:subsample, Value: 1.0\n",
            "  normalize:norm, Value: 'l2'\n",
            "\n",
            "Configuration:\n",
            "  Xgboost:gamma, Value: 0.8226707800302071\n",
            "  Xgboost:learning_rate, Value: 0.735653908700571\n",
            "  Xgboost:max_delta_step , Value: 38\n",
            "  Xgboost:max_depth, Value: 8\n",
            "  Xgboost:min_child_weight, Value: 37\n",
            "  Xgboost:n_estimators, Value: 301\n",
            "  Xgboost:subsample, Value: 0.7415328932596199\n",
            "  normalize:norm, Value: 'l1'\n",
            "\n",
            "Configuration:\n",
            "  Xgboost:gamma, Value: 0.4044836092727059\n",
            "  Xgboost:learning_rate, Value: 0.6389708978158335\n",
            "  Xgboost:max_delta_step , Value: 36\n",
            "  Xgboost:max_depth, Value: 6\n",
            "  Xgboost:min_child_weight, Value: 20\n",
            "  Xgboost:n_estimators, Value: 288\n",
            "  Xgboost:subsample, Value: 0.5903479012826267\n",
            "  normalize:norm, Value: 'l1'\n",
            "\n",
            "Configuration:\n",
            "  Xgboost:gamma, Value: 0.0777999280865489\n",
            "  Xgboost:learning_rate, Value: 0.2223966893832868\n",
            "  Xgboost:max_delta_step , Value: 45\n",
            "  Xgboost:max_depth, Value: 8\n",
            "  Xgboost:min_child_weight, Value: 24\n",
            "  Xgboost:n_estimators, Value: 359\n",
            "  Xgboost:subsample, Value: 0.8538750836521037\n",
            "  normalize:norm, Value: 'max'\n",
            "\n",
            "Configuration:\n",
            "  Xgboost:gamma, Value: 0.9563384723631561\n",
            "  Xgboost:learning_rate, Value: 0.9639927356256699\n",
            "  Xgboost:max_delta_step , Value: 2\n",
            "  Xgboost:max_depth, Value: 4\n",
            "  Xgboost:min_child_weight, Value: 25\n",
            "  Xgboost:n_estimators, Value: 130\n",
            "  Xgboost:subsample, Value: 0.7488875462109527\n",
            "  normalize:norm, Value: 'l2'\n",
            "\n",
            "Configuration:\n",
            "  Xgboost:gamma, Value: 0.0\n",
            "  Xgboost:learning_rate, Value: 0.1\n",
            "  Xgboost:max_delta_step , Value: 0\n",
            "  Xgboost:max_depth, Value: 3\n",
            "  Xgboost:min_child_weight, Value: 1\n",
            "  Xgboost:n_estimators, Value: 100\n",
            "  Xgboost:subsample, Value: 1.0\n",
            "  normalize:norm, Value: 'l2'\n",
            "\n",
            "Optimized Value: 0.00000\n",
            "Best parameter :  {'Xgboost:gamma': 0.0, 'Xgboost:learning_rate': 0.1, 'Xgboost:max_delta_step ': 0, 'Xgboost:max_depth': 3, 'Xgboost:min_child_weight': 1, 'Xgboost:n_estimators': 100, 'Xgboost:subsample': 1.0, 'normalize:norm': 'l2'}\n",
            "Time required in seconds : 0.2809264659881592\n"
          ],
          "name": "stdout"
        }
      ]
    },
    {
      "metadata": {
        "id": "q4IuwGrO-mSM",
        "colab_type": "code",
        "colab": {
          "base_uri": "https://localhost:8080/",
          "height": 34
        },
        "outputId": "c8ab7577-1cd9-49b4-d0e4-1571578f0a34"
      },
      "cell_type": "code",
      "source": [
        "class Person: \n",
        "  def __init__(self, age):\n",
        "    self.age = age\n",
        "  def get_age(age):\n",
        "    return age\n",
        "    \n",
        "p = Person(56)\n",
        "print(p.age)\n"
      ],
      "execution_count": 0,
      "outputs": [
        {
          "output_type": "stream",
          "text": [
            "56\n"
          ],
          "name": "stdout"
        }
      ]
    },
    {
      "metadata": {
        "id": "vhemUyAcDciC",
        "colab_type": "code",
        "colab": {
          "base_uri": "https://localhost:8080/",
          "height": 34
        },
        "outputId": "1c02ba09-51a9-415d-d919-6544caee6697"
      },
      "cell_type": "code",
      "source": [
        "final.steps[0][1].set_params(copy=False)"
      ],
      "execution_count": 23,
      "outputs": [
        {
          "output_type": "execute_result",
          "data": {
            "text/plain": [
              "Normalizer(copy=False, norm='l2')"
            ]
          },
          "metadata": {
            "tags": []
          },
          "execution_count": 23
        }
      ]
    }
  ]
}